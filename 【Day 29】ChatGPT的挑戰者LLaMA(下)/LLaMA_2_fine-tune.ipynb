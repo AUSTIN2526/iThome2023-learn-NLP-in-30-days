{
 "cells": [
  {
   "cell_type": "code",
   "execution_count": 1,
   "id": "0205029b-c585-4de9-a418-c1843869c880",
   "metadata": {},
   "outputs": [],
   "source": [
    "from accelerate import FullyShardedDataParallelPlugin, Accelerator\n",
    "from torch.distributed.fsdp.fully_sharded_data_parallel import FullOptimStateDictConfig, FullStateDictConfig\n",
    "\n",
    "fsdp_plugin = FullyShardedDataParallelPlugin(\n",
    "    state_dict_config=FullStateDictConfig(offload_to_cpu=True, rank0_only=False),\n",
    "    optim_state_dict_config=FullOptimStateDictConfig(offload_to_cpu=True, rank0_only=False),\n",
    ")\n",
    "\n",
    "accelerator = Accelerator(fsdp_plugin=fsdp_plugin)"
   ]
  },
  {
   "cell_type": "code",
   "execution_count": 2,
   "id": "de76e242-42ca-4d5d-ae4c-0b3d51063e1e",
   "metadata": {},
   "outputs": [],
   "source": [
    "from transformers import AutoTokenizer\n",
    "base_model_id = \"meta-llama/Llama-2-7b-chat-hf\"\n",
    "tokenizer = AutoTokenizer.from_pretrained(\n",
    "    base_model_id,\n",
    "    padding_side=\"right\",\n",
    "    add_bos_token = False      # 不要使用任何Token 因為我後面有手動轉換\n",
    ")\n",
    "tokenizer.pad_token = tokenizer.eos_token"
   ]
  },
  {
   "cell_type": "code",
   "execution_count": 3,
   "id": "7db415d7-85d0-495b-84c8-7fb3a1f7f85b",
   "metadata": {},
   "outputs": [
    {
     "name": "stdout",
     "output_type": "stream",
     "text": [
      "bin c:\\users\\user\\appdata\\local\\programs\\python\\python38\\lib\\site-packages\\bitsandbytes\\libbitsandbytes_cuda121.dll\n"
     ]
    },
    {
     "data": {
      "application/vnd.jupyter.widget-view+json": {
       "model_id": "e2668689eef545cb892d525cfcd21ed2",
       "version_major": 2,
       "version_minor": 0
      },
      "text/plain": [
       "Loading checkpoint shards:   0%|          | 0/2 [00:00<?, ?it/s]"
      ]
     },
     "metadata": {},
     "output_type": "display_data"
    }
   ],
   "source": [
    "import torch\n",
    "from transformers import AutoModelForCausalLM, BitsAndBytesConfig\n",
    "\n",
    "bnb_config = BitsAndBytesConfig(\n",
    "    load_in_4bit=True,\n",
    "    bnb_4bit_use_double_quant=True,\n",
    "    bnb_4bit_quant_type=\"nf4\",\n",
    "    bnb_4bit_compute_dtype=torch.bfloat16\n",
    ")\n",
    "\n",
    "model = AutoModelForCausalLM.from_pretrained(base_model_id, quantization_config=bnb_config)"
   ]
  },
  {
   "cell_type": "code",
   "execution_count": 4,
   "id": "ccaf3c3b-46c4-4993-999f-41e62aaabf85",
   "metadata": {},
   "outputs": [],
   "source": [
    "from peft import prepare_model_for_kbit_training\n",
    "\n",
    "model.gradient_checkpointing_enable()\n",
    "model = prepare_model_for_kbit_training(model)"
   ]
  },
  {
   "cell_type": "code",
   "execution_count": 5,
   "id": "df2b4a27-c4c9-46f1-9387-dfaf0b70ad8f",
   "metadata": {},
   "outputs": [],
   "source": [
    "from peft import LoraConfig, get_peft_model\n",
    "\n",
    "config = LoraConfig(\n",
    "    r=32,\n",
    "    lora_alpha=64,\n",
    "    target_modules=[\n",
    "        \"q_proj\",\n",
    "        \"k_proj\",\n",
    "        \"v_proj\",\n",
    "        \"o_proj\",\n",
    "        \"gate_proj\",\n",
    "        \"up_proj\",\n",
    "        \"down_proj\",\n",
    "        \"lm_head\",\n",
    "    ],\n",
    "    bias=\"none\",\n",
    "    lora_dropout=0.05,  # Conventional\n",
    "    task_type=\"CAUSAL_LM\",\n",
    ")\n",
    "\n",
    "model = get_peft_model(model, config)\n",
    "\n",
    "# Apply the accelerator. You can comment this out to remove the accelerator.\n",
    "model = accelerator.prepare_model(model)"
   ]
  },
  {
   "cell_type": "code",
   "execution_count": 6,
   "id": "33deecfd-f9c0-4be7-8770-c07c750600fd",
   "metadata": {},
   "outputs": [
    {
     "name": "stdout",
     "output_type": "stream",
     "text": [
      "trainable params: 81108992 || all params: 3581521920 || trainable%: 2.264651559077991\n"
     ]
    }
   ],
   "source": [
    "def print_trainable_parameters(model):\n",
    "    trainable_params = 0\n",
    "    all_param = 0\n",
    "    for _, param in model.named_parameters():\n",
    "        all_param += param.numel()\n",
    "        if param.requires_grad:\n",
    "            trainable_params += param.numel()\n",
    "    print(\n",
    "        f\"trainable params: {trainable_params} || all params: {all_param} || trainable%: {100 * trainable_params / all_param}\"\n",
    "    )\n",
    "    \n",
    "\n",
    "print_trainable_parameters(model)"
   ]
  },
  {
   "cell_type": "code",
   "execution_count": 7,
   "id": "43f6bcec-2ca5-4f45-a6c1-d34d52c93da8",
   "metadata": {
    "scrolled": true
   },
   "outputs": [],
   "source": [
    "def format_dialogue_prompt(messages, system_prompt=\"你是一個在社群網路上回覆訊息的用戶\"):\n",
    "    # 定義特殊標記\n",
    "    INST_START, INST_END = \"[INST]\", \"[/INST]\"\n",
    "    SYS_START, SYS_END = \"<<SYS>>\\n\", \"\\n<</SYS>>\\n\\n\"\n",
    "    BOS, EOS = \"<s>\", \"</s>\"\n",
    "\n",
    "    # 在對話開始處添加系統提示\n",
    "    system_instruct = f'{BOS}{INST_START} {SYS_START}{system_prompt}{SYS_END}'\n",
    "\n",
    "    context = []\n",
    "    context_cnt = 0  \n",
    "\n",
    "    for message in messages:\n",
    "        role = message['role']\n",
    "\n",
    "        if context_cnt % 2 == 0 and role == 'user':\n",
    "            content = message['content']\n",
    "            context.append(f'{content} {INST_END}')\n",
    "        elif context_cnt % 2 == 1 and role == 'assistant':\n",
    "            content = message['content']\n",
    "            context.append(f' {content} {EOS}{BOS}{INST_START} ')\n",
    "        else:\n",
    "            raise ValueError(\"Input order of roles is incorrect; input must be 'user' followed by 'assistant'.\")\n",
    "\n",
    "        context_cnt += 1  \n",
    "\n",
    "    # 組合對話提示\n",
    "    output = system_instruct + \"\".join(context)\n",
    "\n",
    "    # 如果結尾不是assistant，返回完整的prompt\n",
    "    if role != 'assistant':\n",
    "        return output\n",
    "    else:\n",
    "        return output[:-len(BOS + INST_START)-1]"
   ]
  },
  {
   "cell_type": "code",
   "execution_count": 8,
   "id": "43f180a7-058e-4d22-855a-c443f8b29ff5",
   "metadata": {},
   "outputs": [],
   "source": [
    "import pandas as pd \n",
    "from sklearn.model_selection import train_test_split\n",
    "\n",
    "df = pd.read_csv('Gossiping-QA-Dataset-2_0.csv' , encoding='utf-8-sig').values[:1000]\n",
    "qa_data = []\n",
    "for question, answer in df:\n",
    "    qa = [{'role':'user', 'content': f'{question}'}, {'role':'assistant', 'content': f'{answer}'}]\n",
    "    qa_data.append(format_dialogue_prompt(qa))\n",
    "    \n",
    "x_train, x_valid = train_test_split(qa_data, train_size=0.8, random_state=46, shuffle=False)"
   ]
  },
  {
   "cell_type": "code",
   "execution_count": 9,
   "id": "83abd951-8e41-4e18-99dd-ff8917e78893",
   "metadata": {},
   "outputs": [],
   "source": [
    "from torch.utils.data import Dataset, DataLoader\n",
    "import torch\n",
    "class QAdataset(Dataset):\n",
    "    def __init__(self, x):\n",
    "        self.x = x\n",
    "\n",
    "          \n",
    "    def __getitem__(self, index):\n",
    "        return self.x[index]\n",
    "            \n",
    "       \n",
    "    def __len__(self):\n",
    "        return len(self.x)\n",
    "    \n",
    "trainset = QAdataset(x_train)\n",
    "validset = QAdataset(x_train)"
   ]
  },
  {
   "cell_type": "code",
   "execution_count": 10,
   "id": "5b5d2e72-75d4-48b2-87b2-187f9e492e8f",
   "metadata": {},
   "outputs": [],
   "source": [
    "def collate_fn(batch):    \n",
    "    x = list(batch)\n",
    "    x = tokenizer(x, truncation=True, padding=\"longest\", return_tensors='pt')\n",
    "   \n",
    "    return {**x, 'labels':x.input_ids}\n",
    "    \n",
    "train_loader = DataLoader(trainset, batch_size = 16, shuffle = True, num_workers = 0, collate_fn = collate_fn)\n",
    "valid_loader = DataLoader(validset, batch_size = 16, shuffle = True, num_workers = 0, collate_fn = collate_fn)"
   ]
  },
  {
   "cell_type": "code",
   "execution_count": 11,
   "id": "7301b803-e232-442e-ada1-2a2f65347a8b",
   "metadata": {},
   "outputs": [],
   "source": [
    "from tqdm import tqdm\n",
    "import matplotlib.pyplot as plt \n",
    "import torch.optim as optim\n",
    "def train(epoch):\n",
    "    train_loss = 0\n",
    "    train_pbar = tqdm(train_loader, position=0, leave=True) # 宣告進度條\n",
    "    \n",
    "    model.train() \n",
    "    for input_datas in train_pbar: \n",
    "        for key in input_datas.keys():\n",
    "            input_datas[key] = input_datas[key].to(device)\n",
    "        optimizer.zero_grad() \n",
    "        \n",
    "        outputs = model(**input_datas) \n",
    "        \n",
    "        loss = outputs.loss\n",
    "\n",
    "        loss.backward()\n",
    "        optimizer.step() \n",
    "        \n",
    "        train_pbar.set_description(f'Train Epoch {epoch}') \n",
    "        train_pbar.set_postfix({'loss':f'{loss:.3f}'})\n",
    "\n",
    "        train_loss += loss.item()  \n",
    "    return train_loss/len(train_loader)\n",
    "\n",
    "def valid(epoch):\n",
    "    valid_loss = 0\n",
    "    valid_pbar = tqdm(valid_loader, position=0, leave=True)\n",
    "    \n",
    "    model.eval()\n",
    "    with torch.no_grad(): \n",
    "        for input_datas in valid_pbar:\n",
    "            for key in input_datas.keys():\n",
    "                input_datas[key] = input_datas[key].to(device)\n",
    "        \n",
    "            outputs = model(**input_datas) \n",
    "            loss = outputs.loss\n",
    "            \n",
    "            valid_pbar.set_description(f'Valid Epoch {epoch}')\n",
    "            valid_pbar.set_postfix({'loss':f'{loss:.3f}'})\n",
    "\n",
    "            valid_loss += loss.item()\n",
    "\n",
    "    return valid_loss/len(valid_loader)\n",
    "\n",
    "\n",
    "def show_training_loss(loss_record):\n",
    "    train_loss, valid_loss = [i for i in loss_record.values()]\n",
    "    \n",
    "    plt.plot(train_loss)\n",
    "    plt.plot(valid_loss)\n",
    "    #標題\n",
    "    plt.title('Result')\n",
    "    #y軸標籤\n",
    "    plt.ylabel('Loss')\n",
    "    #x軸標籤\n",
    "    plt.xlabel('Epoch')\n",
    "    #顯示折線的名稱\n",
    "    plt.legend(['train', 'valid'], loc='upper left')\n",
    "    #顯示折線圖\n",
    "    plt.show()\n",
    "\n",
    "device = torch.device('cuda' if torch.cuda.is_available() else 'cpu')\n",
    "optimizer = optim.Adam(model.parameters(), lr=1e-4)"
   ]
  },
  {
   "cell_type": "code",
   "execution_count": 12,
   "id": "df63bc0f-42ff-46fe-8a23-e3b71fc9028c",
   "metadata": {},
   "outputs": [
    {
     "name": "stderr",
     "output_type": "stream",
     "text": [
      "  0%|                                                                                           | 0/50 [00:00<?, ?it/s]Asking to truncate to max_length but no maximum length is provided and the model has no predefined maximum length. Default to no truncation.\n",
      "`use_cache=True` is incompatible with gradient checkpointing. Setting `use_cache=False`...\n",
      "c:\\users\\user\\appdata\\local\\programs\\python\\python38\\lib\\site-packages\\torch\\utils\\checkpoint.py:429: UserWarning: torch.utils.checkpoint: please pass in use_reentrant=True or use_reentrant=False explicitly. The default value of use_reentrant will be updated to be False in the future. To maintain current behavior, pass use_reentrant=True. It is recommended that you use use_reentrant=False. Refer to docs for more details on the differences between the two variants.\n",
      "  warnings.warn(\n",
      "Train Epoch 0: 100%|███████████████████████████████████████████████████████| 50/50 [04:15<00:00,  5.12s/it, loss=1.023]\n",
      "Valid Epoch 0: 100%|███████████████████████████████████████████████████████| 50/50 [01:26<00:00,  1.74s/it, loss=1.033]\n"
     ]
    },
    {
     "name": "stdout",
     "output_type": "stream",
     "text": [
      "Saving Model With Loss 0.93648\n",
      "Train Loss: 1.39914| Valid Loss: 0.93648| Best Loss: 0.93648\n",
      "\n"
     ]
    },
    {
     "name": "stderr",
     "output_type": "stream",
     "text": [
      "Train Epoch 1: 100%|███████████████████████████████████████████████████████| 50/50 [04:15<00:00,  5.10s/it, loss=0.832]\n",
      "Valid Epoch 1: 100%|███████████████████████████████████████████████████████| 50/50 [01:26<00:00,  1.74s/it, loss=0.847]\n"
     ]
    },
    {
     "name": "stdout",
     "output_type": "stream",
     "text": [
      "Saving Model With Loss 0.76479\n",
      "Train Loss: 0.89924| Valid Loss: 0.76479| Best Loss: 0.76479\n",
      "\n"
     ]
    },
    {
     "name": "stderr",
     "output_type": "stream",
     "text": [
      "Train Epoch 2: 100%|███████████████████████████████████████████████████████| 50/50 [04:15<00:00,  5.10s/it, loss=0.794]\n",
      "Valid Epoch 2: 100%|███████████████████████████████████████████████████████| 50/50 [01:27<00:00,  1.74s/it, loss=0.505]\n"
     ]
    },
    {
     "name": "stdout",
     "output_type": "stream",
     "text": [
      "Saving Model With Loss 0.57212\n",
      "Train Loss: 0.74076| Valid Loss: 0.57212| Best Loss: 0.57212\n",
      "\n"
     ]
    },
    {
     "name": "stderr",
     "output_type": "stream",
     "text": [
      "Train Epoch 3: 100%|███████████████████████████████████████████████████████| 50/50 [04:14<00:00,  5.09s/it, loss=0.583]\n",
      "Valid Epoch 3: 100%|███████████████████████████████████████████████████████| 50/50 [01:27<00:00,  1.74s/it, loss=0.410]\n"
     ]
    },
    {
     "name": "stdout",
     "output_type": "stream",
     "text": [
      "Saving Model With Loss 0.37163\n",
      "Train Loss: 0.55122| Valid Loss: 0.37163| Best Loss: 0.37163\n",
      "\n"
     ]
    },
    {
     "name": "stderr",
     "output_type": "stream",
     "text": [
      "Train Epoch 4: 100%|███████████████████████████████████████████████████████| 50/50 [04:13<00:00,  5.07s/it, loss=0.433]\n",
      "Valid Epoch 4: 100%|███████████████████████████████████████████████████████| 50/50 [01:26<00:00,  1.73s/it, loss=0.212]\n"
     ]
    },
    {
     "name": "stdout",
     "output_type": "stream",
     "text": [
      "Saving Model With Loss 0.21954\n",
      "Train Loss: 0.36408| Valid Loss: 0.21954| Best Loss: 0.21954\n",
      "\n"
     ]
    },
    {
     "name": "stderr",
     "output_type": "stream",
     "text": [
      "Train Epoch 5: 100%|███████████████████████████████████████████████████████| 50/50 [04:12<00:00,  5.05s/it, loss=0.208]\n",
      "Valid Epoch 5: 100%|███████████████████████████████████████████████████████| 50/50 [01:26<00:00,  1.74s/it, loss=0.135]\n"
     ]
    },
    {
     "name": "stdout",
     "output_type": "stream",
     "text": [
      "Saving Model With Loss 0.13010\n",
      "Train Loss: 0.21656| Valid Loss: 0.13010| Best Loss: 0.13010\n",
      "\n"
     ]
    },
    {
     "name": "stderr",
     "output_type": "stream",
     "text": [
      "Train Epoch 6: 100%|███████████████████████████████████████████████████████| 50/50 [04:13<00:00,  5.06s/it, loss=0.139]\n",
      "Valid Epoch 6: 100%|███████████████████████████████████████████████████████| 50/50 [01:26<00:00,  1.74s/it, loss=0.093]\n"
     ]
    },
    {
     "name": "stdout",
     "output_type": "stream",
     "text": [
      "Saving Model With Loss 0.08561\n",
      "Train Loss: 0.13101| Valid Loss: 0.08561| Best Loss: 0.08561\n",
      "\n"
     ]
    },
    {
     "name": "stderr",
     "output_type": "stream",
     "text": [
      "Train Epoch 7: 100%|███████████████████████████████████████████████████████| 50/50 [04:12<00:00,  5.05s/it, loss=0.100]\n",
      "Valid Epoch 7: 100%|███████████████████████████████████████████████████████| 50/50 [01:26<00:00,  1.73s/it, loss=0.070]\n"
     ]
    },
    {
     "name": "stdout",
     "output_type": "stream",
     "text": [
      "Saving Model With Loss 0.07128\n",
      "Train Loss: 0.09187| Valid Loss: 0.07128| Best Loss: 0.07128\n",
      "\n"
     ]
    },
    {
     "name": "stderr",
     "output_type": "stream",
     "text": [
      "Train Epoch 8: 100%|███████████████████████████████████████████████████████| 50/50 [04:13<00:00,  5.07s/it, loss=0.075]\n",
      "Valid Epoch 8: 100%|███████████████████████████████████████████████████████| 50/50 [01:26<00:00,  1.73s/it, loss=0.069]\n"
     ]
    },
    {
     "name": "stdout",
     "output_type": "stream",
     "text": [
      "Saving Model With Loss 0.06764\n",
      "Train Loss: 0.07744| Valid Loss: 0.06764| Best Loss: 0.06764\n",
      "\n"
     ]
    },
    {
     "name": "stderr",
     "output_type": "stream",
     "text": [
      "Train Epoch 9: 100%|███████████████████████████████████████████████████████| 50/50 [04:12<00:00,  5.05s/it, loss=0.080]\n",
      "Valid Epoch 9: 100%|███████████████████████████████████████████████████████| 50/50 [01:26<00:00,  1.74s/it, loss=0.071]\n"
     ]
    },
    {
     "name": "stdout",
     "output_type": "stream",
     "text": [
      "Saving Model With Loss 0.06469\n",
      "Train Loss: 0.07252| Valid Loss: 0.06469| Best Loss: 0.06469\n",
      "\n"
     ]
    },
    {
     "data": {
      "image/png": "[encoded data removed]",
      "text/plain": [
       "<Figure size 640x480 with 1 Axes>"
      ]
     },
     "metadata": {},
     "output_type": "display_data"
    }
   ],
   "source": [
    "epochs = 10                               # 訓練次數\n",
    "early_stopping = 2                       # 模型訓練幾次沒進步就停止\n",
    "stop_cnt = 0                             # 計數模型是否有進步的計數器\n",
    "model_path = 'model.ckpt'                # 模型存放路徑\n",
    "show_loss = True                         # 是否顯示訓練折線圖\n",
    "best_loss = float('inf')                 # 最佳的Loss\n",
    "loss_record = {'train':[], 'valid':[]}   # 訓練紀錄\n",
    "\n",
    "for epoch in range(epochs):   \n",
    "    train_loss = train(epoch)\n",
    "    valid_loss = valid(epoch)\n",
    "    \n",
    "    loss_record['train'].append(train_loss)\n",
    "    loss_record['valid'].append(valid_loss)\n",
    "    \n",
    "    # 儲存最佳的模型權重\n",
    "    if valid_loss < best_loss:\n",
    "        best_loss = valid_loss\n",
    "        torch.save(model.state_dict(), model_path)\n",
    "        print(f'Saving Model With Loss {best_loss:.5f}')\n",
    "        stop_cnt = 0\n",
    "    else:\n",
    "        stop_cnt+=1\n",
    "    \n",
    "    # Early stopping\n",
    "    if stop_cnt == early_stopping:\n",
    "        output = \"Model can't improve, stop training\"\n",
    "        print('-' * (len(output)+2))\n",
    "        print(f'|{output}|')\n",
    "        print('-' * (len(output)+2))\n",
    "        break\n",
    "\n",
    "    print(f'Train Loss: {train_loss:.5f}' , end='| ')\n",
    "    print(f'Valid Loss: {valid_loss:.5f}' , end='| ')\n",
    "    print(f'Best Loss: {best_loss:.5f}', end='\\n\\n')\n",
    "\n",
    "\n",
    "if show_loss:\n",
    "    show_training_loss(loss_record)"
   ]
  },
  {
   "cell_type": "markdown",
   "id": "5a5886ab-69fc-4dea-be9e-1f1a12e7988b",
   "metadata": {},
   "source": [
    "# 模擬用用戶生成"
   ]
  },
  {
   "cell_type": "code",
   "execution_count": 60,
   "id": "fffa91d3-3d2e-467c-9c2f-688cb642f6e8",
   "metadata": {},
   "outputs": [
    {
     "name": "stderr",
     "output_type": "stream",
     "text": [
      "c:\\users\\user\\appdata\\local\\programs\\python\\python38\\lib\\site-packages\\torch\\utils\\checkpoint.py:61: UserWarning: None of the inputs have requires_grad=True. Gradients will be None\n",
      "  warnings.warn(\n"
     ]
    },
    {
     "name": "stdout",
     "output_type": "stream",
     "text": [
      "<s> [INST] <<SYS>>\n",
      "你是一個在社群網路上回覆訊息的用戶\n",
      "<</SYS>>\n",
      "\n",
      "好累喔 [/INST] 睡妳媽逼起來嗨 </s> \n",
      "\n",
      " <s> [INST] <<SYS>>\n",
      "你是一個在社群網路上回覆訊息的用戶\n",
      "<</SYS>>\n",
      "\n",
      "好累喔 [/INST] 睡妳媽逼起來嗷 </s>\n"
     ]
    }
   ],
   "source": [
    "import time\n",
    "model.bfloat16()\n",
    "messages = [\n",
    "    {'role':'user', 'content': '好累喔'},\n",
    "\n",
    "]\n",
    "formatted_prompt = format_dialogue_prompt(messages)\n",
    "inputs = tokenizer(formatted_prompt, return_tensors=\"pt\")\n",
    "\n",
    "sentence = model.generate(**inputs, num_beams = 4, max_length = 300, repetition_penalty = 2.5, length_penalty = 1.0, early_stopping = True, do_sample= True, num_return_sequences=2)\n",
    "\n",
    "decode_sentence = tokenizer.batch_decode(sentence)\n",
    "print(decode_sentence[0], '\\n\\n',decode_sentence[1])"
   ]
  },
  {
   "cell_type": "markdown",
   "id": "4b569d3d-09cd-40e8-add1-b601b52686d5",
   "metadata": {},
   "source": [
    "# 對第二句不滿意"
   ]
  },
  {
   "cell_type": "code",
   "execution_count": 64,
   "id": "271c5c71-8146-450a-9a3d-9a563f18f394",
   "metadata": {},
   "outputs": [],
   "source": [
    "# RLHF\n",
    "import torch.nn as nn\n",
    "\n",
    "model.float().train()\n",
    "def RLHF_loss(sentence_A, sentence_B):\n",
    "    j = tokenizer(sentence_A, return_tensors=\"pt\")\n",
    "    k = tokenizer(sentence_B, return_tensors=\"pt\")\n",
    "    \n",
    "    rewards_j = model(**j)[0]\n",
    "    rewards_k = model(**k)[0]\n",
    "\n",
    "    loss = -nn.functional.logsigmoid(rewards_j - rewards_k).mean()\n",
    "    \n",
    "    return loss\n",
    "    \n",
    "model.train()\n",
    "loss = RLHF_loss(decode_sentence[0], decode_sentence[1])\n",
    "loss.backward()\n",
    "optimizer.step() "
   ]
  },
  {
   "cell_type": "markdown",
   "id": "65215905-0faa-4dce-ba75-4d9736790963",
   "metadata": {},
   "source": [
    "# 再次生成結果"
   ]
  },
  {
   "cell_type": "code",
   "execution_count": 67,
   "id": "0d554d6c-54d9-429b-84c5-487923814cae",
   "metadata": {},
   "outputs": [
    {
     "name": "stdout",
     "output_type": "stream",
     "text": [
      "<s> [INST] <<SYS>>\n",
      "你是一個在社群網路上回覆訊息的用戶\n",
      "<</SYS>>\n",
      "\n",
      "好累喔 [/INST] 睡妳媽逼起來嗨 </s><unk> \n",
      "\n",
      " <s> [INST] <<SYS>>\n",
      "你是一個在社群網路上回覆訊息的用戶\n",
      "<</SYS>>\n",
      "\n",
      "好累喔 [/INST] 睡妳媽逼起來嗨！ </s>\n"
     ]
    }
   ],
   "source": [
    "sentence = model.generate(**inputs, num_beams = 4, max_length = 300, repetition_penalty = 2.5, length_penalty = 1.0, early_stopping = True, do_sample= True, num_return_sequences=2)\n",
    "decode_sentence = tokenizer.batch_decode(sentence)\n",
    "\n",
    "print(decode_sentence[0], '\\n\\n',decode_sentence[1])"
   ]
  },
  {
   "cell_type": "code",
   "execution_count": null,
   "id": "d5ae8325-dc3e-4d99-b75d-cc413d642c4a",
   "metadata": {},
   "outputs": [],
   "source": []
  }
 ],
 "metadata": {
  "kernelspec": {
   "display_name": "Python 3 (ipykernel)",
   "language": "python",
   "name": "python3"
  },
  "language_info": {
   "codemirror_mode": {
    "name": "ipython",
    "version": 3
   },
   "file_extension": ".py",
   "mimetype": "text/x-python",
   "name": "python",
   "nbconvert_exporter": "python",
   "pygments_lexer": "ipython3",
   "version": "3.8.10"
  }
 },
 "nbformat": 4,
 "nbformat_minor": 5
}
