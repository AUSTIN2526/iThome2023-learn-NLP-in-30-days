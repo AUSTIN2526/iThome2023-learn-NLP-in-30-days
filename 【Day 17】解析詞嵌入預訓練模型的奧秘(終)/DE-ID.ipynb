{
 "cells": [
  {
   "cell_type": "code",
   "execution_count": 1,
   "id": "fb3bb684-6758-4930-bdf9-1192661faa2b",
   "metadata": {},
   "outputs": [],
   "source": [
    "import random\n",
    "import torch\n",
    "import numpy as np\n",
    "def same_seeds(seed):\n",
    "    random.seed(seed) \n",
    "    np.random.seed(seed)  \n",
    "    torch.manual_seed(seed)\n",
    "    if torch.cuda.is_available():\n",
    "        torch.cuda.manual_seed(seed)\n",
    "        torch.cuda.manual_seed_all(seed) \n",
    "    torch.backends.cudnn.benchmark = False\n",
    "    torch.backends.cudnn.deterministic = True\n",
    "\n",
    "same_seeds(2526)"
   ]
  },
  {
   "cell_type": "code",
   "execution_count": 2,
   "id": "08a2e019-4ff8-4db5-8a70-4596c91bd8bc",
   "metadata": {},
   "outputs": [],
   "source": [
    "from Preprocessing import load_data\n",
    "train_sentences, train_labels = load_data('train.txt')\n",
    "valid_sentences, valid_labels = load_data('valid.txt')\n",
    "test_sentences, test_labels = load_data('test.txt')\n",
    "valid_sentences = valid_sentences + test_sentences\n",
    "valid_labels = valid_labels + test_labels"
   ]
  },
  {
   "cell_type": "markdown",
   "id": "f3390f2e-ab89-4e77-ab12-97b969b0dff2",
   "metadata": {},
   "source": [
    "# TorchText分割"
   ]
  },
  {
   "cell_type": "code",
   "execution_count": 3,
   "id": "0edcb0f2-0499-49a5-9b98-2e36595efe20",
   "metadata": {},
   "outputs": [],
   "source": [
    "from Preprocessing import torchText\n",
    "# TorchText分割\n",
    "token_voc, label_voc = torchText(train_sentences + valid_sentences, \n",
    "                                 train_labels + valid_labels, \n",
    "                                 specials = ('<PAD>', '<UNK>'))\n",
    "\n",
    "\n",
    "# 建立必備資訊\n",
    "PAD_IDX = token_voc.get_stoi()['<PAD>']\n",
    "O_IDX = label_voc.get_stoi()['O']\n",
    "INPUT_DIM = len(token_voc)\n",
    "OUTPUT_DIM = len(label_voc)\n",
    "LABEL_CLASSES = label_voc.get_stoi().keys()\n",
    "embedding_dim = 300"
   ]
  },
  {
   "cell_type": "markdown",
   "id": "3045102c-b74b-4d9a-98f6-d94ca00fbde1",
   "metadata": {},
   "source": [
    "# Wor2Vec分割"
   ]
  },
  {
   "cell_type": "code",
   "execution_count": 4,
   "id": "29edb825-d72c-4787-9f09-7abbf9e001cd",
   "metadata": {},
   "outputs": [
    {
     "name": "stderr",
     "output_type": "stream",
     "text": [
      "C:\\Users\\user\\Desktop\\iThome2023-learn-NLP-in-30-days\\【Day 17】解析詞嵌入預訓練模型的奧秘(終)\\Preprocessing.py:65: UserWarning: Creating a tensor from a list of numpy.ndarrays is extremely slow. Please consider converting the list to a single numpy.ndarray with numpy.array() before converting to a tensor. (Triggered internally at C:\\actions-runner\\_work\\pytorch\\pytorch\\builder\\windows\\pytorch\\torch\\csrc\\utils\\tensor_new.cpp:264.)\n",
      "  pretrained_emb = torch.tensor(pretrained_voc)\n"
     ]
    }
   ],
   "source": [
    "from Preprocessing import pre_trained_model\n",
    "\n",
    "\n",
    "token_voc, label_voc, pretrained_emb = pre_trained_model('word2vec-google-news-300',\n",
    "                                                         train_sentences + valid_sentences, \n",
    "                                                         train_labels + valid_labels, \n",
    "                                                         specials = ('<PAD>', '<UNK>'))\n",
    "\n",
    "PAD_IDX = token_voc.get_stoi()['<PAD>']\n",
    "O_IDX = label_voc.get_stoi()['O']\n",
    "INPUT_DIM = len(token_voc)\n",
    "OUTPUT_DIM = len(label_voc)\n",
    "LABEL_CLASSES = label_voc.get_stoi().keys()\n",
    "embedding_dim = pretrained_emb.shape[1]"
   ]
  },
  {
   "cell_type": "markdown",
   "id": "54e23687-a57c-440f-ba25-ea00769404a0",
   "metadata": {},
   "source": [
    "# GloVe分割"
   ]
  },
  {
   "cell_type": "code",
   "execution_count": 11,
   "id": "e8c6c3d1-425a-4506-a806-ec0818b4ec2d",
   "metadata": {},
   "outputs": [],
   "source": [
    "from Preprocessing import pre_trained_model\n",
    "token_voc, label_voc, pretrained_emb = pre_trained_model('glove-wiki-gigaword-100',\n",
    "                                                         train_sentences + valid_sentences, \n",
    "                                                         train_labels + valid_labels, \n",
    "                                                         specials = ('<PAD>', '<UNK>'))\n",
    "\n",
    "PAD_IDX = token_voc.get_stoi()['<PAD>']\n",
    "O_IDX = label_voc.get_stoi()['O']\n",
    "INPUT_DIM = len(token_voc)\n",
    "OUTPUT_DIM = len(label_voc)\n",
    "LABEL_CLASSES = label_voc.get_stoi().keys()\n",
    "embedding_dim = pretrained_emb.shape[1]"
   ]
  },
  {
   "cell_type": "markdown",
   "id": "24182004-f98c-4fe5-a7eb-434c8598db88",
   "metadata": {},
   "source": [
    "# fastText分割"
   ]
  },
  {
   "cell_type": "code",
   "execution_count": 3,
   "id": "0b4c5b46-0811-48c1-b095-f283e602ce43",
   "metadata": {},
   "outputs": [
    {
     "name": "stderr",
     "output_type": "stream",
     "text": [
      "C:\\Users\\user\\Desktop\\NER\\Preprocessing.py:66: UserWarning: Creating a tensor from a list of numpy.ndarrays is extremely slow. Please consider converting the list to a single numpy.ndarray with numpy.array() before converting to a tensor. (Triggered internally at C:\\actions-runner\\_work\\pytorch\\pytorch\\builder\\windows\\pytorch\\torch\\csrc\\utils\\tensor_new.cpp:248.)\n",
      "  pretrained_emb = torch.tensor(pretrained_voc)\n"
     ]
    }
   ],
   "source": [
    "from Preprocessing import pre_trained_model\n",
    "\n",
    "token_voc, label_voc, pretrained_emb = pre_trained_model('fasttext-wiki-news-subwords-300',\n",
    "                                                         train_sentences + valid_sentences, \n",
    "                                                         train_labels + valid_labels, \n",
    "                                                         specials = ('<PAD>', '<UNK>'))\n",
    "\n",
    "PAD_IDX = token_voc.get_stoi()['<PAD>']\n",
    "O_IDX = label_voc.get_stoi()['O']\n",
    "INPUT_DIM = len(token_voc)\n",
    "OUTPUT_DIM = len(label_voc)\n",
    "LABEL_CLASSES = label_voc.get_stoi().keys()\n",
    "embedding_dim = pretrained_emb.shape[1]"
   ]
  },
  {
   "cell_type": "code",
   "execution_count": 5,
   "id": "2fa7b8dd-5f90-412d-9ec7-9490de1eb02e",
   "metadata": {},
   "outputs": [],
   "source": [
    "from Preprocessing import tokens2nums\n",
    "\n",
    "#建立資料集\n",
    "x_train, y_train = tokens2nums(train_sentences, train_labels, token_voc, label_voc)\n",
    "x_valid, y_valid = tokens2nums(valid_sentences, valid_labels, token_voc, label_voc)"
   ]
  },
  {
   "cell_type": "code",
   "execution_count": 6,
   "id": "a7a30182-6dca-4a09-ba21-f1cea086733c",
   "metadata": {},
   "outputs": [],
   "source": [
    "from torch.nn.utils.rnn import pad_sequence\n",
    "\n",
    "x_train, y_train = pad_sequence(x_train, padding_value=PAD_IDX, batch_first=True), \\\n",
    "                   pad_sequence(y_train, padding_value=PAD_IDX, batch_first=True)\n",
    "\n",
    "x_valid, y_valid = pad_sequence(x_valid, padding_value=PAD_IDX, batch_first=True), \\\n",
    "                   pad_sequence(y_valid, padding_value=PAD_IDX, batch_first=True)"
   ]
  },
  {
   "cell_type": "code",
   "execution_count": 7,
   "id": "874dcbe6-1222-455c-a5be-a6ad79d35d9b",
   "metadata": {},
   "outputs": [],
   "source": [
    "from torch.utils.data import Dataset, DataLoader\n",
    "import torch\n",
    "class NERDataset(Dataset):\n",
    "    def __init__(self, x, y):\n",
    "        self.x = x\n",
    "        self.y = y\n",
    "          \n",
    "    def __getitem__(self, index):\n",
    "        return self.x[index], self.y[index]\n",
    "       \n",
    "    def __len__(self):\n",
    "        return len(self.x)\n",
    "\n",
    "trainset = NERDataset(x_train, y_train)\n",
    "validset = NERDataset(x_valid, y_valid)\n",
    "\n",
    "train_loader = DataLoader(trainset, batch_size = 1024, shuffle = True, num_workers = 0, pin_memory = True)\n",
    "valid_loader = DataLoader(validset, batch_size = 1024, shuffle = True, num_workers = 0, pin_memory = True)\n",
    "\n",
    "device = torch.device('cuda' if torch.cuda.is_available() else 'cpu')"
   ]
  },
  {
   "cell_type": "code",
   "execution_count": 8,
   "id": "554df55a-fe77-4f8b-a54c-375501cddd47",
   "metadata": {},
   "outputs": [],
   "source": [
    "import torch.nn as nn\n",
    "import torch.optim as optim\n",
    "\n",
    "class NERModel(nn.Module):\n",
    "    def __init__(self, vocab_size, embedding_dim, hidden_dim, tagset_size):\n",
    "        super(NERModel, self).__init__()\n",
    "        self.embedding = nn.Embedding(vocab_size, embedding_dim, padding_idx = PAD_IDX)\n",
    "        self.lstm = nn.LSTM(embedding_dim, hidden_dim, batch_first=True, bidirectional=True)\n",
    "        self.hidden2tag = nn.Linear(hidden_dim * 2, tagset_size)\n",
    "\n",
    "    def forward(self, sentence):\n",
    "        embeds = self.embedding(sentence)\n",
    "        lstm_out, _ = self.lstm(embeds)\n",
    "        tag_space = self.hidden2tag(lstm_out)\n",
    "        return tag_space\n",
    "\n",
    "\n",
    "hidden_dim = 100\n",
    "model = NERModel(INPUT_DIM, embedding_dim, hidden_dim, OUTPUT_DIM).to(device)\n",
    "try:\n",
    "    model.embedding.weight.data.copy_(pretrained_emb)\n",
    "except:\n",
    "    pass\n",
    "optimizer = optim.Adam(model.parameters(), lr=1e-3)\n",
    "criterion = nn.CrossEntropyLoss()"
   ]
  },
  {
   "cell_type": "code",
   "execution_count": 10,
   "id": "9cc2f108-4db1-4410-bb27-2652c3d3ebd9",
   "metadata": {},
   "outputs": [],
   "source": [
    "from tqdm import tqdm\n",
    "import matplotlib.pyplot as plt \n",
    "from sklearn.metrics import f1_score\n",
    "\n",
    "def train(epoch):\n",
    "    train_loss, train_acc = 0, 0\n",
    "    train_pbar = tqdm(train_loader, position=0, leave=True)\n",
    "    \n",
    "    model.train()\n",
    "    all_preds, all_true = [], []\n",
    "    for input_datas in train_pbar: \n",
    "        features, labels = [i.to(device) for i in input_datas] \n",
    "        optimizer.zero_grad()  \n",
    "        outputs = model(features)\n",
    "        loss = criterion(outputs.view(-1, OUTPUT_DIM), labels.view(-1)) \n",
    "        loss.backward() \n",
    "        optimizer.step() \n",
    "        \n",
    "        train_pbar.set_description(f'Train Epoch {epoch}')\n",
    "        train_pbar.set_postfix({'loss':f'{loss:.3f}'}) \n",
    "        \n",
    "        _, preds = torch.max(outputs, dim = 2)\n",
    "        train_loss += loss.item()  # 模型總損失\n",
    "        \n",
    "        all_preds.extend(preds.cpu().numpy())\n",
    "        all_true.extend(labels.cpu().numpy())\n",
    "        \n",
    "    all_true = np.concatenate(all_true, axis=0)\n",
    "    all_preds = np.concatenate(all_preds, axis=0)\n",
    "    idx = all_true != O_IDX\n",
    "    \n",
    "    return f1_score(all_true[idx], all_preds[idx], average = 'micro'), train_acc/len(trainset) \n",
    "\n",
    "\n",
    "def valid(epoch):\n",
    "    valid_loss, valid_acc = 0, 0\n",
    "    valid_pbar = tqdm(valid_loader, position=0, leave=True)\n",
    "    all_preds, all_true = [], []\n",
    "    model.eval()\n",
    "    with torch.no_grad(): \n",
    "        for input_datas in valid_pbar:\n",
    "            features, labels = [i.to(device) for i in input_datas]\n",
    "            outputs = model(features) \n",
    "            loss = criterion(outputs.view(-1, OUTPUT_DIM), labels.view(-1))\n",
    "\n",
    "            valid_pbar.set_description(f'Valid Epoch {epoch}')\n",
    "            valid_pbar.set_postfix({'loss':f'{loss:.3f}'})\n",
    "\n",
    "            _, preds = torch.max(outputs, dim = 2)\n",
    "            valid_loss += loss.item()\n",
    "\n",
    "            all_preds.extend(preds.cpu().numpy())\n",
    "            all_true.extend(labels.cpu().numpy())\n",
    "            \n",
    "        all_true = np.concatenate(all_true, axis=0)\n",
    "        all_preds = np.concatenate(all_preds, axis=0)\n",
    "        idx = all_true != O_IDX\n",
    "        \n",
    "    return f1_score(all_true[idx], all_preds[idx], average = 'micro'), valid_acc/len(validset)\n",
    "\n",
    "        \n",
    "def show_training_loss(loss_record):\n",
    "    train_loss, valid_loss = [i for i in loss_record.values()]\n",
    "    \n",
    "    plt.plot(train_loss)\n",
    "    plt.plot(valid_loss)\n",
    "    #標題\n",
    "    plt.title('Result')\n",
    "    #y軸標籤\n",
    "    plt.ylabel('Loss')\n",
    "    #x軸標籤\n",
    "    plt.xlabel('Epoch')\n",
    "    #顯示折線的名稱\n",
    "    plt.legend(['train', 'valid'], loc='upper left')\n",
    "    #顯示折線圖\n",
    "    plt.show()"
   ]
  },
  {
   "cell_type": "code",
   "execution_count": 11,
   "id": "89dc44c9-8b39-4434-af05-d7f6d88f4847",
   "metadata": {},
   "outputs": [
    {
     "name": "stderr",
     "output_type": "stream",
     "text": [
      "Train Epoch 0: 100%|███████████████████████████████████████████████████████| 15/15 [00:01<00:00, 11.81it/s, loss=1.403]\n",
      "Valid Epoch 0: 100%|█████████████████████████████████████████████████████████| 7/7 [00:00<00:00, 37.37it/s, loss=1.212]\n"
     ]
    },
    {
     "name": "stdout",
     "output_type": "stream",
     "text": [
      "Train Loss: 0.00000 Train F1: 0.04885| Valid Loss: 0.00000 Valid F1: 0.00000| Best F1: 0.00000\n",
      "\n"
     ]
    },
    {
     "name": "stderr",
     "output_type": "stream",
     "text": [
      "Train Epoch 1: 100%|███████████████████████████████████████████████████████| 15/15 [00:00<00:00, 26.18it/s, loss=0.150]\n",
      "Valid Epoch 1: 100%|█████████████████████████████████████████████████████████| 7/7 [00:00<00:00, 49.83it/s, loss=0.142]\n"
     ]
    },
    {
     "name": "stdout",
     "output_type": "stream",
     "text": [
      "Train Loss: 0.00000 Train F1: 0.00000| Valid Loss: 0.00000 Valid F1: 0.00000| Best F1: 0.00000\n",
      "\n"
     ]
    },
    {
     "name": "stderr",
     "output_type": "stream",
     "text": [
      "Train Epoch 2: 100%|███████████████████████████████████████████████████████| 15/15 [00:00<00:00, 25.33it/s, loss=0.125]\n",
      "Valid Epoch 2: 100%|█████████████████████████████████████████████████████████| 7/7 [00:00<00:00, 49.83it/s, loss=0.127]\n"
     ]
    },
    {
     "name": "stdout",
     "output_type": "stream",
     "text": [
      "Train Loss: 0.00000 Train F1: 0.00000| Valid Loss: 0.00000 Valid F1: 0.00000| Best F1: 0.00000\n",
      "\n"
     ]
    },
    {
     "name": "stderr",
     "output_type": "stream",
     "text": [
      "Train Epoch 3: 100%|███████████████████████████████████████████████████████| 15/15 [00:00<00:00, 25.22it/s, loss=0.096]\n",
      "Valid Epoch 3: 100%|█████████████████████████████████████████████████████████| 7/7 [00:00<00:00, 44.76it/s, loss=0.096]\n"
     ]
    },
    {
     "name": "stdout",
     "output_type": "stream",
     "text": [
      "Train Loss: 0.00000 Train F1: 0.00000| Valid Loss: 0.00000 Valid F1: 0.00000| Best F1: 0.00000\n",
      "\n"
     ]
    },
    {
     "name": "stderr",
     "output_type": "stream",
     "text": [
      "Train Epoch 4: 100%|███████████████████████████████████████████████████████| 15/15 [00:00<00:00, 25.94it/s, loss=0.086]\n",
      "Valid Epoch 4: 100%|█████████████████████████████████████████████████████████| 7/7 [00:00<00:00, 29.98it/s, loss=0.075]\n"
     ]
    },
    {
     "name": "stdout",
     "output_type": "stream",
     "text": [
      "Train Loss: 0.00000 Train F1: 0.00000| Valid Loss: 0.00000 Valid F1: 0.00000| Best F1: 0.00000\n",
      "\n"
     ]
    },
    {
     "name": "stderr",
     "output_type": "stream",
     "text": [
      "Train Epoch 5: 100%|███████████████████████████████████████████████████████| 15/15 [00:00<00:00, 25.94it/s, loss=0.070]\n",
      "Valid Epoch 5: 100%|█████████████████████████████████████████████████████████| 7/7 [00:00<00:00, 44.82it/s, loss=0.070]\n"
     ]
    },
    {
     "name": "stdout",
     "output_type": "stream",
     "text": [
      "Saving Model With F1 0.00365\n",
      "Train Loss: 0.00000 Train F1: 0.00162| Valid Loss: 0.00000 Valid F1: 0.00365| Best F1: 0.00365\n",
      "\n"
     ]
    },
    {
     "name": "stderr",
     "output_type": "stream",
     "text": [
      "Train Epoch 6: 100%|███████████████████████████████████████████████████████| 15/15 [00:00<00:00, 25.73it/s, loss=0.061]\n",
      "Valid Epoch 6: 100%|█████████████████████████████████████████████████████████| 7/7 [00:00<00:00, 49.89it/s, loss=0.061]\n"
     ]
    },
    {
     "name": "stdout",
     "output_type": "stream",
     "text": [
      "Saving Model With F1 0.06443\n",
      "Train Loss: 0.00000 Train F1: 0.03164| Valid Loss: 0.00000 Valid F1: 0.06443| Best F1: 0.06443\n",
      "\n"
     ]
    },
    {
     "name": "stderr",
     "output_type": "stream",
     "text": [
      "Train Epoch 7: 100%|███████████████████████████████████████████████████████| 15/15 [00:00<00:00, 25.57it/s, loss=0.049]\n",
      "Valid Epoch 7: 100%|█████████████████████████████████████████████████████████| 7/7 [00:00<00:00, 48.40it/s, loss=0.052]\n"
     ]
    },
    {
     "name": "stdout",
     "output_type": "stream",
     "text": [
      "Saving Model With F1 0.16793\n",
      "Train Loss: 0.00000 Train F1: 0.13439| Valid Loss: 0.00000 Valid F1: 0.16793| Best F1: 0.16793\n",
      "\n"
     ]
    },
    {
     "name": "stderr",
     "output_type": "stream",
     "text": [
      "Train Epoch 8: 100%|███████████████████████████████████████████████████████| 15/15 [00:00<00:00, 26.18it/s, loss=0.049]\n",
      "Valid Epoch 8: 100%|█████████████████████████████████████████████████████████| 7/7 [00:00<00:00, 50.60it/s, loss=0.047]\n"
     ]
    },
    {
     "name": "stdout",
     "output_type": "stream",
     "text": [
      "Saving Model With F1 0.26443\n",
      "Train Loss: 0.00000 Train F1: 0.25759| Valid Loss: 0.00000 Valid F1: 0.26443| Best F1: 0.26443\n",
      "\n"
     ]
    },
    {
     "name": "stderr",
     "output_type": "stream",
     "text": [
      "Train Epoch 9: 100%|███████████████████████████████████████████████████████| 15/15 [00:00<00:00, 22.80it/s, loss=0.045]\n",
      "Valid Epoch 9: 100%|█████████████████████████████████████████████████████████| 7/7 [00:00<00:00, 44.95it/s, loss=0.047]\n"
     ]
    },
    {
     "name": "stdout",
     "output_type": "stream",
     "text": [
      "Saving Model With F1 0.32719\n",
      "Train Loss: 0.00000 Train F1: 0.35931| Valid Loss: 0.00000 Valid F1: 0.32719| Best F1: 0.32719\n",
      "\n"
     ]
    },
    {
     "name": "stderr",
     "output_type": "stream",
     "text": [
      "Train Epoch 10: 100%|██████████████████████████████████████████████████████| 15/15 [00:00<00:00, 25.27it/s, loss=0.038]\n",
      "Valid Epoch 10: 100%|████████████████████████████████████████████████████████| 7/7 [00:00<00:00, 50.28it/s, loss=0.043]\n"
     ]
    },
    {
     "name": "stdout",
     "output_type": "stream",
     "text": [
      "Saving Model With F1 0.37314\n",
      "Train Loss: 0.00000 Train F1: 0.43471| Valid Loss: 0.00000 Valid F1: 0.37314| Best F1: 0.37314\n",
      "\n"
     ]
    },
    {
     "name": "stderr",
     "output_type": "stream",
     "text": [
      "Train Epoch 11: 100%|██████████████████████████████████████████████████████| 15/15 [00:00<00:00, 25.20it/s, loss=0.037]\n",
      "Valid Epoch 11: 100%|████████████████████████████████████████████████████████| 7/7 [00:00<00:00, 50.13it/s, loss=0.040]\n"
     ]
    },
    {
     "name": "stdout",
     "output_type": "stream",
     "text": [
      "Saving Model With F1 0.42130\n",
      "Train Loss: 0.00000 Train F1: 0.49108| Valid Loss: 0.00000 Valid F1: 0.42130| Best F1: 0.42130\n",
      "\n"
     ]
    },
    {
     "name": "stderr",
     "output_type": "stream",
     "text": [
      "Train Epoch 12: 100%|██████████████████████████████████████████████████████| 15/15 [00:00<00:00, 26.13it/s, loss=0.032]\n",
      "Valid Epoch 12: 100%|████████████████████████████████████████████████████████| 7/7 [00:00<00:00, 49.50it/s, loss=0.036]\n"
     ]
    },
    {
     "name": "stdout",
     "output_type": "stream",
     "text": [
      "Saving Model With F1 0.48513\n",
      "Train Loss: 0.00000 Train F1: 0.56208| Valid Loss: 0.00000 Valid F1: 0.48513| Best F1: 0.48513\n",
      "\n"
     ]
    },
    {
     "name": "stderr",
     "output_type": "stream",
     "text": [
      "Train Epoch 13: 100%|██████████████████████████████████████████████████████| 15/15 [00:00<00:00, 25.58it/s, loss=0.029]\n",
      "Valid Epoch 13: 100%|████████████████████████████████████████████████████████| 7/7 [00:00<00:00, 29.91it/s, loss=0.031]\n"
     ]
    },
    {
     "name": "stdout",
     "output_type": "stream",
     "text": [
      "Saving Model With F1 0.53395\n",
      "Train Loss: 0.00000 Train F1: 0.63414| Valid Loss: 0.00000 Valid F1: 0.53395| Best F1: 0.53395\n",
      "\n"
     ]
    },
    {
     "name": "stderr",
     "output_type": "stream",
     "text": [
      "Train Epoch 14: 100%|██████████████████████████████████████████████████████| 15/15 [00:00<00:00, 26.15it/s, loss=0.026]\n",
      "Valid Epoch 14: 100%|████████████████████████████████████████████████████████| 7/7 [00:00<00:00, 49.63it/s, loss=0.030]\n"
     ]
    },
    {
     "name": "stdout",
     "output_type": "stream",
     "text": [
      "Saving Model With F1 0.56638\n",
      "Train Loss: 0.00000 Train F1: 0.68831| Valid Loss: 0.00000 Valid F1: 0.56638| Best F1: 0.56638\n",
      "\n"
     ]
    },
    {
     "name": "stderr",
     "output_type": "stream",
     "text": [
      "Train Epoch 15: 100%|██████████████████████████████████████████████████████| 15/15 [00:00<00:00, 25.73it/s, loss=0.024]\n",
      "Valid Epoch 15: 100%|████████████████████████████████████████████████████████| 7/7 [00:00<00:00, 49.81it/s, loss=0.030]\n"
     ]
    },
    {
     "name": "stdout",
     "output_type": "stream",
     "text": [
      "Saving Model With F1 0.58959\n",
      "Train Loss: 0.00000 Train F1: 0.72593| Valid Loss: 0.00000 Valid F1: 0.58959| Best F1: 0.58959\n",
      "\n"
     ]
    },
    {
     "name": "stderr",
     "output_type": "stream",
     "text": [
      "Train Epoch 16: 100%|██████████████████████████████████████████████████████| 15/15 [00:00<00:00, 25.68it/s, loss=0.022]\n",
      "Valid Epoch 16: 100%|████████████████████████████████████████████████████████| 7/7 [00:00<00:00, 44.71it/s, loss=0.028]\n"
     ]
    },
    {
     "name": "stdout",
     "output_type": "stream",
     "text": [
      "Saving Model With F1 0.60724\n",
      "Train Loss: 0.00000 Train F1: 0.75058| Valid Loss: 0.00000 Valid F1: 0.60724| Best F1: 0.60724\n",
      "\n"
     ]
    },
    {
     "name": "stderr",
     "output_type": "stream",
     "text": [
      "Train Epoch 17: 100%|██████████████████████████████████████████████████████| 15/15 [00:00<00:00, 25.89it/s, loss=0.021]\n",
      "Valid Epoch 17: 100%|████████████████████████████████████████████████████████| 7/7 [00:00<00:00, 49.80it/s, loss=0.027]\n"
     ]
    },
    {
     "name": "stdout",
     "output_type": "stream",
     "text": [
      "Saving Model With F1 0.62363\n",
      "Train Loss: 0.00000 Train F1: 0.76991| Valid Loss: 0.00000 Valid F1: 0.62363| Best F1: 0.62363\n",
      "\n"
     ]
    },
    {
     "name": "stderr",
     "output_type": "stream",
     "text": [
      "Train Epoch 18: 100%|██████████████████████████████████████████████████████| 15/15 [00:00<00:00, 26.26it/s, loss=0.019]\n",
      "Valid Epoch 18: 100%|████████████████████████████████████████████████████████| 7/7 [00:00<00:00, 45.11it/s, loss=0.027]\n"
     ]
    },
    {
     "name": "stdout",
     "output_type": "stream",
     "text": [
      "Saving Model With F1 0.64200\n",
      "Train Loss: 0.00000 Train F1: 0.78768| Valid Loss: 0.00000 Valid F1: 0.64200| Best F1: 0.64200\n",
      "\n"
     ]
    },
    {
     "name": "stderr",
     "output_type": "stream",
     "text": [
      "Train Epoch 19: 100%|██████████████████████████████████████████████████████| 15/15 [00:00<00:00, 25.89it/s, loss=0.019]\n",
      "Valid Epoch 19: 100%|████████████████████████████████████████████████████████| 7/7 [00:00<00:00, 50.56it/s, loss=0.025]\n"
     ]
    },
    {
     "name": "stdout",
     "output_type": "stream",
     "text": [
      "Saving Model With F1 0.65139\n",
      "Train Loss: 0.00000 Train F1: 0.80422| Valid Loss: 0.00000 Valid F1: 0.65139| Best F1: 0.65139\n",
      "\n"
     ]
    },
    {
     "name": "stderr",
     "output_type": "stream",
     "text": [
      "Train Epoch 20: 100%|██████████████████████████████████████████████████████| 15/15 [00:00<00:00, 22.37it/s, loss=0.017]\n",
      "Valid Epoch 20: 100%|████████████████████████████████████████████████████████| 7/7 [00:00<00:00, 45.41it/s, loss=0.027]\n"
     ]
    },
    {
     "name": "stdout",
     "output_type": "stream",
     "text": [
      "Saving Model With F1 0.66485\n",
      "Train Loss: 0.00000 Train F1: 0.81987| Valid Loss: 0.00000 Valid F1: 0.66485| Best F1: 0.66485\n",
      "\n"
     ]
    },
    {
     "name": "stderr",
     "output_type": "stream",
     "text": [
      "Train Epoch 21: 100%|██████████████████████████████████████████████████████| 15/15 [00:00<00:00, 26.58it/s, loss=0.015]\n",
      "Valid Epoch 21: 100%|████████████████████████████████████████████████████████| 7/7 [00:00<00:00, 49.79it/s, loss=0.025]\n"
     ]
    },
    {
     "name": "stdout",
     "output_type": "stream",
     "text": [
      "Saving Model With F1 0.67544\n",
      "Train Loss: 0.00000 Train F1: 0.83712| Valid Loss: 0.00000 Valid F1: 0.67544| Best F1: 0.67544\n",
      "\n"
     ]
    },
    {
     "name": "stderr",
     "output_type": "stream",
     "text": [
      "Train Epoch 22: 100%|██████████████████████████████████████████████████████| 15/15 [00:00<00:00, 25.92it/s, loss=0.013]\n",
      "Valid Epoch 22: 100%|████████████████████████████████████████████████████████| 7/7 [00:00<00:00, 49.96it/s, loss=0.024]\n"
     ]
    },
    {
     "name": "stdout",
     "output_type": "stream",
     "text": [
      "Saving Model With F1 0.68430\n",
      "Train Loss: 0.00000 Train F1: 0.85216| Valid Loss: 0.00000 Valid F1: 0.68430| Best F1: 0.68430\n",
      "\n"
     ]
    },
    {
     "name": "stderr",
     "output_type": "stream",
     "text": [
      "Train Epoch 23: 100%|██████████████████████████████████████████████████████| 15/15 [00:00<00:00, 26.00it/s, loss=0.012]\n",
      "Valid Epoch 23: 100%|████████████████████████████████████████████████████████| 7/7 [00:00<00:00, 47.24it/s, loss=0.023]\n"
     ]
    },
    {
     "name": "stdout",
     "output_type": "stream",
     "text": [
      "Saving Model With F1 0.69273\n",
      "Train Loss: 0.00000 Train F1: 0.86376| Valid Loss: 0.00000 Valid F1: 0.69273| Best F1: 0.69273\n",
      "\n"
     ]
    },
    {
     "name": "stderr",
     "output_type": "stream",
     "text": [
      "Train Epoch 24: 100%|██████████████████████████████████████████████████████| 15/15 [00:00<00:00, 22.32it/s, loss=0.012]\n",
      "Valid Epoch 24: 100%|████████████████████████████████████████████████████████| 7/7 [00:00<00:00, 49.21it/s, loss=0.024]\n"
     ]
    },
    {
     "name": "stdout",
     "output_type": "stream",
     "text": [
      "Saving Model With F1 0.69835\n",
      "Train Loss: 0.00000 Train F1: 0.87516| Valid Loss: 0.00000 Valid F1: 0.69835| Best F1: 0.69835\n",
      "\n"
     ]
    },
    {
     "name": "stderr",
     "output_type": "stream",
     "text": [
      "Train Epoch 25: 100%|██████████████████████████████████████████████████████| 15/15 [00:00<00:00, 26.35it/s, loss=0.011]\n",
      "Valid Epoch 25: 100%|████████████████████████████████████████████████████████| 7/7 [00:00<00:00, 50.50it/s, loss=0.022]\n"
     ]
    },
    {
     "name": "stdout",
     "output_type": "stream",
     "text": [
      "Saving Model With F1 0.70188\n",
      "Train Loss: 0.00000 Train F1: 0.88391| Valid Loss: 0.00000 Valid F1: 0.70188| Best F1: 0.70188\n",
      "\n"
     ]
    },
    {
     "name": "stderr",
     "output_type": "stream",
     "text": [
      "Train Epoch 26: 100%|██████████████████████████████████████████████████████| 15/15 [00:00<00:00, 26.28it/s, loss=0.011]\n",
      "Valid Epoch 26: 100%|████████████████████████████████████████████████████████| 7/7 [00:00<00:00, 50.10it/s, loss=0.022]\n"
     ]
    },
    {
     "name": "stdout",
     "output_type": "stream",
     "text": [
      "Saving Model With F1 0.70434\n",
      "Train Loss: 0.00000 Train F1: 0.89131| Valid Loss: 0.00000 Valid F1: 0.70434| Best F1: 0.70434\n",
      "\n"
     ]
    },
    {
     "name": "stderr",
     "output_type": "stream",
     "text": [
      "Train Epoch 27: 100%|██████████████████████████████████████████████████████| 15/15 [00:00<00:00, 26.07it/s, loss=0.009]\n",
      "Valid Epoch 27: 100%|████████████████████████████████████████████████████████| 7/7 [00:00<00:00, 47.59it/s, loss=0.021]\n"
     ]
    },
    {
     "name": "stdout",
     "output_type": "stream",
     "text": [
      "Saving Model With F1 0.70906\n",
      "Train Loss: 0.00000 Train F1: 0.89757| Valid Loss: 0.00000 Valid F1: 0.70906| Best F1: 0.70906\n",
      "\n"
     ]
    },
    {
     "name": "stderr",
     "output_type": "stream",
     "text": [
      "Train Epoch 28: 100%|██████████████████████████████████████████████████████| 15/15 [00:00<00:00, 26.04it/s, loss=0.009]\n",
      "Valid Epoch 28: 100%|████████████████████████████████████████████████████████| 7/7 [00:00<00:00, 48.01it/s, loss=0.022]\n"
     ]
    },
    {
     "name": "stdout",
     "output_type": "stream",
     "text": [
      "Saving Model With F1 0.71481\n",
      "Train Loss: 0.00000 Train F1: 0.90339| Valid Loss: 0.00000 Valid F1: 0.71481| Best F1: 0.71481\n",
      "\n"
     ]
    },
    {
     "name": "stderr",
     "output_type": "stream",
     "text": [
      "Train Epoch 29: 100%|██████████████████████████████████████████████████████| 15/15 [00:00<00:00, 22.07it/s, loss=0.009]\n",
      "Valid Epoch 29: 100%|████████████████████████████████████████████████████████| 7/7 [00:00<00:00, 44.43it/s, loss=0.021]\n"
     ]
    },
    {
     "name": "stdout",
     "output_type": "stream",
     "text": [
      "Saving Model With F1 0.71750\n",
      "Train Loss: 0.00000 Train F1: 0.91047| Valid Loss: 0.00000 Valid F1: 0.71750| Best F1: 0.71750\n",
      "\n"
     ]
    },
    {
     "name": "stderr",
     "output_type": "stream",
     "text": [
      "Train Epoch 30: 100%|██████████████████████████████████████████████████████| 15/15 [00:00<00:00, 26.12it/s, loss=0.008]\n",
      "Valid Epoch 30: 100%|████████████████████████████████████████████████████████| 7/7 [00:00<00:00, 49.67it/s, loss=0.020]\n"
     ]
    },
    {
     "name": "stdout",
     "output_type": "stream",
     "text": [
      "Saving Model With F1 0.72085\n",
      "Train Loss: 0.00000 Train F1: 0.91655| Valid Loss: 0.00000 Valid F1: 0.72085| Best F1: 0.72085\n",
      "\n"
     ]
    },
    {
     "name": "stderr",
     "output_type": "stream",
     "text": [
      "Train Epoch 31: 100%|██████████████████████████████████████████████████████| 15/15 [00:00<00:00, 25.26it/s, loss=0.008]\n",
      "Valid Epoch 31: 100%|████████████████████████████████████████████████████████| 7/7 [00:00<00:00, 50.41it/s, loss=0.020]\n"
     ]
    },
    {
     "name": "stdout",
     "output_type": "stream",
     "text": [
      "Saving Model With F1 0.72276\n",
      "Train Loss: 0.00000 Train F1: 0.92222| Valid Loss: 0.00000 Valid F1: 0.72276| Best F1: 0.72276\n",
      "\n"
     ]
    },
    {
     "name": "stderr",
     "output_type": "stream",
     "text": [
      "Train Epoch 32: 100%|██████████████████████████████████████████████████████| 15/15 [00:00<00:00, 25.90it/s, loss=0.008]\n",
      "Valid Epoch 32: 100%|████████████████████████████████████████████████████████| 7/7 [00:00<00:00, 49.82it/s, loss=0.020]\n"
     ]
    },
    {
     "name": "stdout",
     "output_type": "stream",
     "text": [
      "Saving Model With F1 0.72659\n",
      "Train Loss: 0.00000 Train F1: 0.92606| Valid Loss: 0.00000 Valid F1: 0.72659| Best F1: 0.72659\n",
      "\n"
     ]
    },
    {
     "name": "stderr",
     "output_type": "stream",
     "text": [
      "Train Epoch 33: 100%|██████████████████████████████████████████████████████| 15/15 [00:00<00:00, 26.00it/s, loss=0.007]\n",
      "Valid Epoch 33: 100%|████████████████████████████████████████████████████████| 7/7 [00:00<00:00, 44.71it/s, loss=0.022]\n"
     ]
    },
    {
     "name": "stdout",
     "output_type": "stream",
     "text": [
      "Saving Model With F1 0.72946\n",
      "Train Loss: 0.00000 Train F1: 0.93076| Valid Loss: 0.00000 Valid F1: 0.72946| Best F1: 0.72946\n",
      "\n"
     ]
    },
    {
     "name": "stderr",
     "output_type": "stream",
     "text": [
      "Train Epoch 34: 100%|██████████████████████████████████████████████████████| 15/15 [00:00<00:00, 25.68it/s, loss=0.006]\n",
      "Valid Epoch 34: 100%|████████████████████████████████████████████████████████| 7/7 [00:00<00:00, 44.89it/s, loss=0.020]\n"
     ]
    },
    {
     "name": "stdout",
     "output_type": "stream",
     "text": [
      "Saving Model With F1 0.73347\n",
      "Train Loss: 0.00000 Train F1: 0.93408| Valid Loss: 0.00000 Valid F1: 0.73347| Best F1: 0.73347\n",
      "\n"
     ]
    },
    {
     "name": "stderr",
     "output_type": "stream",
     "text": [
      "Train Epoch 35: 100%|██████████████████████████████████████████████████████| 15/15 [00:00<00:00, 22.34it/s, loss=0.006]\n",
      "Valid Epoch 35: 100%|████████████████████████████████████████████████████████| 7/7 [00:00<00:00, 49.57it/s, loss=0.023]\n"
     ]
    },
    {
     "name": "stdout",
     "output_type": "stream",
     "text": [
      "Train Loss: 0.00000 Train F1: 0.93846| Valid Loss: 0.00000 Valid F1: 0.73323| Best F1: 0.73347\n",
      "\n"
     ]
    },
    {
     "name": "stderr",
     "output_type": "stream",
     "text": [
      "Train Epoch 36: 100%|██████████████████████████████████████████████████████| 15/15 [00:00<00:00, 25.26it/s, loss=0.007]\n",
      "Valid Epoch 36: 100%|████████████████████████████████████████████████████████| 7/7 [00:00<00:00, 50.09it/s, loss=0.020]\n"
     ]
    },
    {
     "name": "stdout",
     "output_type": "stream",
     "text": [
      "Saving Model With F1 0.73461\n",
      "Train Loss: 0.00000 Train F1: 0.94113| Valid Loss: 0.00000 Valid F1: 0.73461| Best F1: 0.73461\n",
      "\n"
     ]
    },
    {
     "name": "stderr",
     "output_type": "stream",
     "text": [
      "Train Epoch 37: 100%|██████████████████████████████████████████████████████| 15/15 [00:00<00:00, 26.25it/s, loss=0.005]\n",
      "Valid Epoch 37: 100%|████████████████████████████████████████████████████████| 7/7 [00:00<00:00, 47.30it/s, loss=0.019]\n"
     ]
    },
    {
     "name": "stdout",
     "output_type": "stream",
     "text": [
      "Saving Model With F1 0.73521\n",
      "Train Loss: 0.00000 Train F1: 0.94460| Valid Loss: 0.00000 Valid F1: 0.73521| Best F1: 0.73521\n",
      "\n"
     ]
    },
    {
     "name": "stderr",
     "output_type": "stream",
     "text": [
      "Train Epoch 38: 100%|██████████████████████████████████████████████████████| 15/15 [00:00<00:00, 25.78it/s, loss=0.005]\n",
      "Valid Epoch 38: 100%|████████████████████████████████████████████████████████| 7/7 [00:00<00:00, 44.58it/s, loss=0.022]\n"
     ]
    },
    {
     "name": "stdout",
     "output_type": "stream",
     "text": [
      "Saving Model With F1 0.73718\n",
      "Train Loss: 0.00000 Train F1: 0.94713| Valid Loss: 0.00000 Valid F1: 0.73718| Best F1: 0.73718\n",
      "\n"
     ]
    },
    {
     "name": "stderr",
     "output_type": "stream",
     "text": [
      "Train Epoch 39: 100%|██████████████████████████████████████████████████████| 15/15 [00:00<00:00, 25.87it/s, loss=0.005]\n",
      "Valid Epoch 39: 100%|████████████████████████████████████████████████████████| 7/7 [00:00<00:00, 28.14it/s, loss=0.024]\n"
     ]
    },
    {
     "name": "stdout",
     "output_type": "stream",
     "text": [
      "Train Loss: 0.00000 Train F1: 0.94953| Valid Loss: 0.00000 Valid F1: 0.73551| Best F1: 0.73718\n",
      "\n"
     ]
    },
    {
     "name": "stderr",
     "output_type": "stream",
     "text": [
      "Train Epoch 40: 100%|██████████████████████████████████████████████████████| 15/15 [00:00<00:00, 25.56it/s, loss=0.004]\n",
      "Valid Epoch 40: 100%|████████████████████████████████████████████████████████| 7/7 [00:00<00:00, 45.05it/s, loss=0.019]\n"
     ]
    },
    {
     "name": "stdout",
     "output_type": "stream",
     "text": [
      "Saving Model With F1 0.73916\n",
      "Train Loss: 0.00000 Train F1: 0.95168| Valid Loss: 0.00000 Valid F1: 0.73916| Best F1: 0.73916\n",
      "\n"
     ]
    },
    {
     "name": "stderr",
     "output_type": "stream",
     "text": [
      "Train Epoch 41: 100%|██████████████████████████████████████████████████████| 15/15 [00:00<00:00, 25.43it/s, loss=0.004]\n",
      "Valid Epoch 41: 100%|████████████████████████████████████████████████████████| 7/7 [00:00<00:00, 46.49it/s, loss=0.024]\n"
     ]
    },
    {
     "name": "stdout",
     "output_type": "stream",
     "text": [
      "Train Loss: 0.00000 Train F1: 0.95362| Valid Loss: 0.00000 Valid F1: 0.73784| Best F1: 0.73916\n",
      "\n"
     ]
    },
    {
     "name": "stderr",
     "output_type": "stream",
     "text": [
      "Train Epoch 42: 100%|██████████████████████████████████████████████████████| 15/15 [00:00<00:00, 25.45it/s, loss=0.005]\n",
      "Valid Epoch 42: 100%|████████████████████████████████████████████████████████| 7/7 [00:00<00:00, 45.06it/s, loss=0.023]\n"
     ]
    },
    {
     "name": "stdout",
     "output_type": "stream",
     "text": [
      "Saving Model With F1 0.73987\n",
      "Train Loss: 0.00000 Train F1: 0.95629| Valid Loss: 0.00000 Valid F1: 0.73987| Best F1: 0.73987\n",
      "\n"
     ]
    },
    {
     "name": "stderr",
     "output_type": "stream",
     "text": [
      "Train Epoch 43: 100%|██████████████████████████████████████████████████████| 15/15 [00:00<00:00, 25.83it/s, loss=0.005]\n",
      "Valid Epoch 43: 100%|████████████████████████████████████████████████████████| 7/7 [00:00<00:00, 48.67it/s, loss=0.018]\n"
     ]
    },
    {
     "name": "stdout",
     "output_type": "stream",
     "text": [
      "Saving Model With F1 0.74125\n",
      "Train Loss: 0.00000 Train F1: 0.95899| Valid Loss: 0.00000 Valid F1: 0.74125| Best F1: 0.74125\n",
      "\n"
     ]
    },
    {
     "name": "stderr",
     "output_type": "stream",
     "text": [
      "Train Epoch 44: 100%|██████████████████████████████████████████████████████| 15/15 [00:00<00:00, 25.21it/s, loss=0.004]\n",
      "Valid Epoch 44: 100%|████████████████████████████████████████████████████████| 7/7 [00:00<00:00, 49.86it/s, loss=0.023]\n"
     ]
    },
    {
     "name": "stdout",
     "output_type": "stream",
     "text": [
      "Saving Model With F1 0.74233\n",
      "Train Loss: 0.00000 Train F1: 0.96131| Valid Loss: 0.00000 Valid F1: 0.74233| Best F1: 0.74233\n",
      "\n"
     ]
    },
    {
     "name": "stderr",
     "output_type": "stream",
     "text": [
      "Train Epoch 45: 100%|██████████████████████████████████████████████████████| 15/15 [00:00<00:00, 25.64it/s, loss=0.004]\n",
      "Valid Epoch 45: 100%|████████████████████████████████████████████████████████| 7/7 [00:00<00:00, 45.30it/s, loss=0.020]\n"
     ]
    },
    {
     "name": "stdout",
     "output_type": "stream",
     "text": [
      "Saving Model With F1 0.74502\n",
      "Train Loss: 0.00000 Train F1: 0.96363| Valid Loss: 0.00000 Valid F1: 0.74502| Best F1: 0.74502\n",
      "\n"
     ]
    },
    {
     "name": "stderr",
     "output_type": "stream",
     "text": [
      "Train Epoch 46: 100%|██████████████████████████████████████████████████████| 15/15 [00:00<00:00, 22.34it/s, loss=0.003]\n",
      "Valid Epoch 46: 100%|████████████████████████████████████████████████████████| 7/7 [00:00<00:00, 44.90it/s, loss=0.021]\n"
     ]
    },
    {
     "name": "stdout",
     "output_type": "stream",
     "text": [
      "Train Loss: 0.00000 Train F1: 0.96537| Valid Loss: 0.00000 Valid F1: 0.74059| Best F1: 0.74502\n",
      "\n"
     ]
    },
    {
     "name": "stderr",
     "output_type": "stream",
     "text": [
      "Train Epoch 47: 100%|██████████████████████████████████████████████████████| 15/15 [00:00<00:00, 25.94it/s, loss=0.003]\n",
      "Valid Epoch 47: 100%|████████████████████████████████████████████████████████| 7/7 [00:00<00:00, 46.22it/s, loss=0.020]\n"
     ]
    },
    {
     "name": "stdout",
     "output_type": "stream",
     "text": [
      "Train Loss: 0.00000 Train F1: 0.96675| Valid Loss: 0.00000 Valid F1: 0.74370| Best F1: 0.74502\n",
      "\n"
     ]
    },
    {
     "name": "stderr",
     "output_type": "stream",
     "text": [
      "Train Epoch 48: 100%|██████████████████████████████████████████████████████| 15/15 [00:00<00:00, 25.26it/s, loss=0.003]\n",
      "Valid Epoch 48: 100%|████████████████████████████████████████████████████████| 7/7 [00:00<00:00, 45.01it/s, loss=0.020]\n"
     ]
    },
    {
     "name": "stdout",
     "output_type": "stream",
     "text": [
      "Train Loss: 0.00000 Train F1: 0.96848| Valid Loss: 0.00000 Valid F1: 0.74466| Best F1: 0.74502\n",
      "\n"
     ]
    },
    {
     "name": "stderr",
     "output_type": "stream",
     "text": [
      "Train Epoch 49: 100%|██████████████████████████████████████████████████████| 15/15 [00:00<00:00, 25.37it/s, loss=0.003]\n",
      "Valid Epoch 49: 100%|████████████████████████████████████████████████████████| 7/7 [00:00<00:00, 45.05it/s, loss=0.025]\n"
     ]
    },
    {
     "name": "stdout",
     "output_type": "stream",
     "text": [
      "Saving Model With F1 0.74657\n",
      "Train Loss: 0.00000 Train F1: 0.96998| Valid Loss: 0.00000 Valid F1: 0.74657| Best F1: 0.74657\n",
      "\n"
     ]
    },
    {
     "name": "stderr",
     "output_type": "stream",
     "text": [
      "Train Epoch 50: 100%|██████████████████████████████████████████████████████| 15/15 [00:00<00:00, 22.41it/s, loss=0.003]\n",
      "Valid Epoch 50: 100%|████████████████████████████████████████████████████████| 7/7 [00:00<00:00, 45.24it/s, loss=0.021]\n"
     ]
    },
    {
     "name": "stdout",
     "output_type": "stream",
     "text": [
      "Train Loss: 0.00000 Train F1: 0.97168| Valid Loss: 0.00000 Valid F1: 0.74442| Best F1: 0.74657\n",
      "\n"
     ]
    },
    {
     "name": "stderr",
     "output_type": "stream",
     "text": [
      "Train Epoch 51: 100%|██████████████████████████████████████████████████████| 15/15 [00:00<00:00, 25.26it/s, loss=0.003]\n",
      "Valid Epoch 51: 100%|████████████████████████████████████████████████████████| 7/7 [00:00<00:00, 49.61it/s, loss=0.023]\n"
     ]
    },
    {
     "name": "stdout",
     "output_type": "stream",
     "text": [
      "Train Loss: 0.00000 Train F1: 0.97318| Valid Loss: 0.00000 Valid F1: 0.74334| Best F1: 0.74657\n",
      "\n"
     ]
    },
    {
     "name": "stderr",
     "output_type": "stream",
     "text": [
      "Train Epoch 52: 100%|██████████████████████████████████████████████████████| 15/15 [00:00<00:00, 25.47it/s, loss=0.003]\n",
      "Valid Epoch 52: 100%|████████████████████████████████████████████████████████| 7/7 [00:00<00:00, 49.99it/s, loss=0.025]\n"
     ]
    },
    {
     "name": "stdout",
     "output_type": "stream",
     "text": [
      "Train Loss: 0.00000 Train F1: 0.97389| Valid Loss: 0.00000 Valid F1: 0.74322| Best F1: 0.74657\n",
      "\n"
     ]
    },
    {
     "name": "stderr",
     "output_type": "stream",
     "text": [
      "Train Epoch 53: 100%|██████████████████████████████████████████████████████| 15/15 [00:00<00:00, 25.24it/s, loss=0.002]\n",
      "Valid Epoch 53: 100%|████████████████████████████████████████████████████████| 7/7 [00:00<00:00, 44.82it/s, loss=0.021]\n"
     ]
    },
    {
     "name": "stdout",
     "output_type": "stream",
     "text": [
      "Train Loss: 0.00000 Train F1: 0.97550| Valid Loss: 0.00000 Valid F1: 0.74257| Best F1: 0.74657\n",
      "\n"
     ]
    },
    {
     "name": "stderr",
     "output_type": "stream",
     "text": [
      "Train Epoch 54: 100%|██████████████████████████████████████████████████████| 15/15 [00:00<00:00, 24.71it/s, loss=0.003]\n",
      "Valid Epoch 54: 100%|████████████████████████████████████████████████████████| 7/7 [00:00<00:00, 49.18it/s, loss=0.023]\n"
     ]
    },
    {
     "name": "stdout",
     "output_type": "stream",
     "text": [
      "Train Loss: 0.00000 Train F1: 0.97609| Valid Loss: 0.00000 Valid F1: 0.74352| Best F1: 0.74657\n",
      "\n"
     ]
    },
    {
     "name": "stderr",
     "output_type": "stream",
     "text": [
      "Train Epoch 55: 100%|██████████████████████████████████████████████████████| 15/15 [00:00<00:00, 21.81it/s, loss=0.002]\n",
      "Valid Epoch 55: 100%|████████████████████████████████████████████████████████| 7/7 [00:00<00:00, 45.71it/s, loss=0.023]\n"
     ]
    },
    {
     "name": "stdout",
     "output_type": "stream",
     "text": [
      "Train Loss: 0.00000 Train F1: 0.97762| Valid Loss: 0.00000 Valid F1: 0.74460| Best F1: 0.74657\n",
      "\n"
     ]
    },
    {
     "name": "stderr",
     "output_type": "stream",
     "text": [
      "Train Epoch 56: 100%|██████████████████████████████████████████████████████| 15/15 [00:00<00:00, 25.28it/s, loss=0.002]\n",
      "Valid Epoch 56: 100%|████████████████████████████████████████████████████████| 7/7 [00:00<00:00, 43.73it/s, loss=0.024]\n"
     ]
    },
    {
     "name": "stdout",
     "output_type": "stream",
     "text": [
      "Train Loss: 0.00000 Train F1: 0.97847| Valid Loss: 0.00000 Valid F1: 0.74269| Best F1: 0.74657\n",
      "\n"
     ]
    },
    {
     "name": "stderr",
     "output_type": "stream",
     "text": [
      "Train Epoch 57: 100%|██████████████████████████████████████████████████████| 15/15 [00:00<00:00, 25.32it/s, loss=0.002]\n",
      "Valid Epoch 57: 100%|████████████████████████████████████████████████████████| 7/7 [00:00<00:00, 43.76it/s, loss=0.024]\n"
     ]
    },
    {
     "name": "stdout",
     "output_type": "stream",
     "text": [
      "Saving Model With F1 0.74741\n",
      "Train Loss: 0.00000 Train F1: 0.97917| Valid Loss: 0.00000 Valid F1: 0.74741| Best F1: 0.74741\n",
      "\n"
     ]
    },
    {
     "name": "stderr",
     "output_type": "stream",
     "text": [
      "Train Epoch 58: 100%|██████████████████████████████████████████████████████| 15/15 [00:00<00:00, 25.61it/s, loss=0.002]\n",
      "Valid Epoch 58: 100%|████████████████████████████████████████████████████████| 7/7 [00:00<00:00, 49.62it/s, loss=0.022]\n"
     ]
    },
    {
     "name": "stdout",
     "output_type": "stream",
     "text": [
      "Train Loss: 0.00000 Train F1: 0.98023| Valid Loss: 0.00000 Valid F1: 0.74741| Best F1: 0.74741\n",
      "\n"
     ]
    },
    {
     "name": "stderr",
     "output_type": "stream",
     "text": [
      "Train Epoch 59: 100%|██████████████████████████████████████████████████████| 15/15 [00:00<00:00, 25.27it/s, loss=0.002]\n",
      "Valid Epoch 59: 100%|████████████████████████████████████████████████████████| 7/7 [00:00<00:00, 50.79it/s, loss=0.021]\n"
     ]
    },
    {
     "name": "stdout",
     "output_type": "stream",
     "text": [
      "Train Loss: 0.00000 Train F1: 0.98105| Valid Loss: 0.00000 Valid F1: 0.74532| Best F1: 0.74741\n",
      "\n"
     ]
    },
    {
     "name": "stderr",
     "output_type": "stream",
     "text": [
      "Train Epoch 60: 100%|██████████████████████████████████████████████████████| 15/15 [00:00<00:00, 24.97it/s, loss=0.002]\n",
      "Valid Epoch 60: 100%|████████████████████████████████████████████████████████| 7/7 [00:00<00:00, 49.09it/s, loss=0.020]\n"
     ]
    },
    {
     "name": "stdout",
     "output_type": "stream",
     "text": [
      "Train Loss: 0.00000 Train F1: 0.98126| Valid Loss: 0.00000 Valid F1: 0.74197| Best F1: 0.74741\n",
      "\n"
     ]
    },
    {
     "name": "stderr",
     "output_type": "stream",
     "text": [
      "Train Epoch 61: 100%|██████████████████████████████████████████████████████| 15/15 [00:00<00:00, 21.88it/s, loss=0.002]\n",
      "Valid Epoch 61: 100%|████████████████████████████████████████████████████████| 7/7 [00:00<00:00, 46.54it/s, loss=0.024]\n"
     ]
    },
    {
     "name": "stdout",
     "output_type": "stream",
     "text": [
      "Saving Model With F1 0.74843\n",
      "Train Loss: 0.00000 Train F1: 0.98258| Valid Loss: 0.00000 Valid F1: 0.74843| Best F1: 0.74843\n",
      "\n"
     ]
    },
    {
     "name": "stderr",
     "output_type": "stream",
     "text": [
      "Train Epoch 62: 100%|██████████████████████████████████████████████████████| 15/15 [00:00<00:00, 24.58it/s, loss=0.002]\n",
      "Valid Epoch 62: 100%|████████████████████████████████████████████████████████| 7/7 [00:00<00:00, 50.21it/s, loss=0.023]\n"
     ]
    },
    {
     "name": "stdout",
     "output_type": "stream",
     "text": [
      "Train Loss: 0.00000 Train F1: 0.98343| Valid Loss: 0.00000 Valid F1: 0.74400| Best F1: 0.74843\n",
      "\n"
     ]
    },
    {
     "name": "stderr",
     "output_type": "stream",
     "text": [
      "Train Epoch 63: 100%|██████████████████████████████████████████████████████| 15/15 [00:00<00:00, 25.27it/s, loss=0.002]\n",
      "Valid Epoch 63: 100%|████████████████████████████████████████████████████████| 7/7 [00:00<00:00, 49.10it/s, loss=0.022]\n"
     ]
    },
    {
     "name": "stdout",
     "output_type": "stream",
     "text": [
      "Saving Model With F1 0.74981\n",
      "Train Loss: 0.00000 Train F1: 0.98364| Valid Loss: 0.00000 Valid F1: 0.74981| Best F1: 0.74981\n",
      "\n"
     ]
    },
    {
     "name": "stderr",
     "output_type": "stream",
     "text": [
      "Train Epoch 64: 100%|██████████████████████████████████████████████████████| 15/15 [00:00<00:00, 25.91it/s, loss=0.002]\n",
      "Valid Epoch 64: 100%|████████████████████████████████████████████████████████| 7/7 [00:00<00:00, 49.72it/s, loss=0.025]\n"
     ]
    },
    {
     "name": "stdout",
     "output_type": "stream",
     "text": [
      "Train Loss: 0.00000 Train F1: 0.98461| Valid Loss: 0.00000 Valid F1: 0.74568| Best F1: 0.74981\n",
      "\n"
     ]
    },
    {
     "name": "stderr",
     "output_type": "stream",
     "text": [
      "Train Epoch 65: 100%|██████████████████████████████████████████████████████| 15/15 [00:00<00:00, 25.27it/s, loss=0.002]\n",
      "Valid Epoch 65: 100%|████████████████████████████████████████████████████████| 7/7 [00:00<00:00, 30.29it/s, loss=0.025]\n"
     ]
    },
    {
     "name": "stdout",
     "output_type": "stream",
     "text": [
      "Train Loss: 0.00000 Train F1: 0.98522| Valid Loss: 0.00000 Valid F1: 0.74897| Best F1: 0.74981\n",
      "\n"
     ]
    },
    {
     "name": "stderr",
     "output_type": "stream",
     "text": [
      "Train Epoch 66: 100%|██████████████████████████████████████████████████████| 15/15 [00:00<00:00, 26.11it/s, loss=0.002]\n",
      "Valid Epoch 66: 100%|████████████████████████████████████████████████████████| 7/7 [00:00<00:00, 49.79it/s, loss=0.023]\n"
     ]
    },
    {
     "name": "stdout",
     "output_type": "stream",
     "text": [
      "Train Loss: 0.00000 Train F1: 0.98558| Valid Loss: 0.00000 Valid F1: 0.74598| Best F1: 0.74981\n",
      "\n"
     ]
    },
    {
     "name": "stderr",
     "output_type": "stream",
     "text": [
      "Train Epoch 67: 100%|██████████████████████████████████████████████████████| 15/15 [00:00<00:00, 25.60it/s, loss=0.002]\n",
      "Valid Epoch 67: 100%|████████████████████████████████████████████████████████| 7/7 [00:00<00:00, 45.89it/s, loss=0.028]\n"
     ]
    },
    {
     "name": "stdout",
     "output_type": "stream",
     "text": [
      "Train Loss: 0.00000 Train F1: 0.98625| Valid Loss: 0.00000 Valid F1: 0.74699| Best F1: 0.74981\n",
      "\n"
     ]
    },
    {
     "name": "stderr",
     "output_type": "stream",
     "text": [
      "Train Epoch 68: 100%|██████████████████████████████████████████████████████| 15/15 [00:00<00:00, 25.08it/s, loss=0.002]\n",
      "Valid Epoch 68: 100%|████████████████████████████████████████████████████████| 7/7 [00:00<00:00, 44.90it/s, loss=0.022]\n"
     ]
    },
    {
     "name": "stdout",
     "output_type": "stream",
     "text": [
      "Train Loss: 0.00000 Train F1: 0.98672| Valid Loss: 0.00000 Valid F1: 0.74801| Best F1: 0.74981\n",
      "\n"
     ]
    },
    {
     "name": "stderr",
     "output_type": "stream",
     "text": [
      "Train Epoch 69: 100%|██████████████████████████████████████████████████████| 15/15 [00:00<00:00, 25.31it/s, loss=0.002]\n",
      "Valid Epoch 69: 100%|████████████████████████████████████████████████████████| 7/7 [00:00<00:00, 43.41it/s, loss=0.022]\n"
     ]
    },
    {
     "name": "stdout",
     "output_type": "stream",
     "text": [
      "Train Loss: 0.00000 Train F1: 0.98693| Valid Loss: 0.00000 Valid F1: 0.74891| Best F1: 0.74981\n",
      "\n"
     ]
    },
    {
     "name": "stderr",
     "output_type": "stream",
     "text": [
      "Train Epoch 70: 100%|██████████████████████████████████████████████████████| 15/15 [00:00<00:00, 25.29it/s, loss=0.002]\n",
      "Valid Epoch 70: 100%|████████████████████████████████████████████████████████| 7/7 [00:00<00:00, 49.81it/s, loss=0.026]\n"
     ]
    },
    {
     "name": "stdout",
     "output_type": "stream",
     "text": [
      "Train Loss: 0.00000 Train F1: 0.98752| Valid Loss: 0.00000 Valid F1: 0.74729| Best F1: 0.74981\n",
      "\n"
     ]
    },
    {
     "name": "stderr",
     "output_type": "stream",
     "text": [
      "Train Epoch 71: 100%|██████████████████████████████████████████████████████| 15/15 [00:00<00:00, 25.98it/s, loss=0.001]\n",
      "Valid Epoch 71: 100%|████████████████████████████████████████████████████████| 7/7 [00:00<00:00, 49.89it/s, loss=0.024]\n"
     ]
    },
    {
     "name": "stdout",
     "output_type": "stream",
     "text": [
      "Train Loss: 0.00000 Train F1: 0.98804| Valid Loss: 0.00000 Valid F1: 0.74502| Best F1: 0.74981\n",
      "\n"
     ]
    },
    {
     "name": "stderr",
     "output_type": "stream",
     "text": [
      "Train Epoch 72: 100%|██████████████████████████████████████████████████████| 15/15 [00:00<00:00, 21.81it/s, loss=0.001]\n",
      "Valid Epoch 72: 100%|████████████████████████████████████████████████████████| 7/7 [00:00<00:00, 44.44it/s, loss=0.024]\n"
     ]
    },
    {
     "name": "stdout",
     "output_type": "stream",
     "text": [
      "Train Loss: 0.00000 Train F1: 0.98851| Valid Loss: 0.00000 Valid F1: 0.74921| Best F1: 0.74981\n",
      "\n"
     ]
    },
    {
     "name": "stderr",
     "output_type": "stream",
     "text": [
      "Train Epoch 73: 100%|██████████████████████████████████████████████████████| 15/15 [00:00<00:00, 25.18it/s, loss=0.001]\n",
      "Valid Epoch 73: 100%|████████████████████████████████████████████████████████| 7/7 [00:00<00:00, 50.72it/s, loss=0.025]\n"
     ]
    },
    {
     "name": "stdout",
     "output_type": "stream",
     "text": [
      "Train Loss: 0.00000 Train F1: 0.98922| Valid Loss: 0.00000 Valid F1: 0.74771| Best F1: 0.74981\n",
      "\n"
     ]
    },
    {
     "name": "stderr",
     "output_type": "stream",
     "text": [
      "Train Epoch 74: 100%|██████████████████████████████████████████████████████| 15/15 [00:00<00:00, 24.61it/s, loss=0.001]\n",
      "Valid Epoch 74: 100%|████████████████████████████████████████████████████████| 7/7 [00:00<00:00, 43.45it/s, loss=0.024]\n"
     ]
    },
    {
     "name": "stdout",
     "output_type": "stream",
     "text": [
      "Train Loss: 0.00000 Train F1: 0.98945| Valid Loss: 0.00000 Valid F1: 0.74358| Best F1: 0.74981\n",
      "\n"
     ]
    },
    {
     "name": "stderr",
     "output_type": "stream",
     "text": [
      "Train Epoch 75: 100%|██████████████████████████████████████████████████████| 15/15 [00:00<00:00, 24.60it/s, loss=0.002]\n",
      "Valid Epoch 75: 100%|████████████████████████████████████████████████████████| 7/7 [00:00<00:00, 49.64it/s, loss=0.027]\n"
     ]
    },
    {
     "name": "stdout",
     "output_type": "stream",
     "text": [
      "Train Loss: 0.00000 Train F1: 0.98951| Valid Loss: 0.00000 Valid F1: 0.74484| Best F1: 0.74981\n",
      "\n"
     ]
    },
    {
     "name": "stderr",
     "output_type": "stream",
     "text": [
      "Train Epoch 76: 100%|██████████████████████████████████████████████████████| 15/15 [00:00<00:00, 21.95it/s, loss=0.001]\n",
      "Valid Epoch 76: 100%|████████████████████████████████████████████████████████| 7/7 [00:00<00:00, 49.80it/s, loss=0.024]\n"
     ]
    },
    {
     "name": "stdout",
     "output_type": "stream",
     "text": [
      "Saving Model With F1 0.74987\n",
      "Train Loss: 0.00000 Train F1: 0.98951| Valid Loss: 0.00000 Valid F1: 0.74987| Best F1: 0.74987\n",
      "\n"
     ]
    },
    {
     "name": "stderr",
     "output_type": "stream",
     "text": [
      "Train Epoch 77: 100%|██████████████████████████████████████████████████████| 15/15 [00:00<00:00, 24.63it/s, loss=0.001]\n",
      "Valid Epoch 77: 100%|████████████████████████████████████████████████████████| 7/7 [00:00<00:00, 44.77it/s, loss=0.023]\n"
     ]
    },
    {
     "name": "stdout",
     "output_type": "stream",
     "text": [
      "Train Loss: 0.00000 Train F1: 0.99034| Valid Loss: 0.00000 Valid F1: 0.74777| Best F1: 0.74987\n",
      "\n"
     ]
    },
    {
     "name": "stderr",
     "output_type": "stream",
     "text": [
      "Train Epoch 78: 100%|██████████████████████████████████████████████████████| 15/15 [00:00<00:00, 24.61it/s, loss=0.002]\n",
      "Valid Epoch 78: 100%|████████████████████████████████████████████████████████| 7/7 [00:00<00:00, 45.06it/s, loss=0.024]\n"
     ]
    },
    {
     "name": "stdout",
     "output_type": "stream",
     "text": [
      "Train Loss: 0.00000 Train F1: 0.99042| Valid Loss: 0.00000 Valid F1: 0.74807| Best F1: 0.74987\n",
      "\n"
     ]
    },
    {
     "name": "stderr",
     "output_type": "stream",
     "text": [
      "Train Epoch 79: 100%|██████████████████████████████████████████████████████| 15/15 [00:00<00:00, 25.25it/s, loss=0.001]\n",
      "Valid Epoch 79: 100%|████████████████████████████████████████████████████████| 7/7 [00:00<00:00, 44.60it/s, loss=0.026]\n"
     ]
    },
    {
     "name": "stdout",
     "output_type": "stream",
     "text": [
      "Train Loss: 0.00000 Train F1: 0.99075| Valid Loss: 0.00000 Valid F1: 0.74580| Best F1: 0.74987\n",
      "\n"
     ]
    },
    {
     "name": "stderr",
     "output_type": "stream",
     "text": [
      "Train Epoch 80: 100%|██████████████████████████████████████████████████████| 15/15 [00:00<00:00, 24.67it/s, loss=0.001]\n",
      "Valid Epoch 80: 100%|████████████████████████████████████████████████████████| 7/7 [00:00<00:00, 45.41it/s, loss=0.027]\n"
     ]
    },
    {
     "name": "stdout",
     "output_type": "stream",
     "text": [
      "Train Loss: 0.00000 Train F1: 0.99101| Valid Loss: 0.00000 Valid F1: 0.74604| Best F1: 0.74987\n",
      "\n"
     ]
    },
    {
     "name": "stderr",
     "output_type": "stream",
     "text": [
      "Train Epoch 81: 100%|██████████████████████████████████████████████████████| 15/15 [00:00<00:00, 22.37it/s, loss=0.001]\n",
      "Valid Epoch 81: 100%|████████████████████████████████████████████████████████| 7/7 [00:00<00:00, 44.95it/s, loss=0.025]\n"
     ]
    },
    {
     "name": "stdout",
     "output_type": "stream",
     "text": [
      "Train Loss: 0.00000 Train F1: 0.99163| Valid Loss: 0.00000 Valid F1: 0.74747| Best F1: 0.74987\n",
      "\n"
     ]
    },
    {
     "name": "stderr",
     "output_type": "stream",
     "text": [
      "Train Epoch 82: 100%|██████████████████████████████████████████████████████| 15/15 [00:00<00:00, 24.01it/s, loss=0.001]\n",
      "Valid Epoch 82: 100%|████████████████████████████████████████████████████████| 7/7 [00:00<00:00, 49.91it/s, loss=0.025]\n"
     ]
    },
    {
     "name": "stdout",
     "output_type": "stream",
     "text": [
      "Train Loss: 0.00000 Train F1: 0.99189| Valid Loss: 0.00000 Valid F1: 0.74987| Best F1: 0.74987\n",
      "\n"
     ]
    },
    {
     "name": "stderr",
     "output_type": "stream",
     "text": [
      "Train Epoch 83: 100%|██████████████████████████████████████████████████████| 15/15 [00:00<00:00, 24.63it/s, loss=0.001]\n",
      "Valid Epoch 83: 100%|████████████████████████████████████████████████████████| 7/7 [00:00<00:00, 44.44it/s, loss=0.029]\n"
     ]
    },
    {
     "name": "stdout",
     "output_type": "stream",
     "text": [
      "Train Loss: 0.00000 Train F1: 0.99183| Valid Loss: 0.00000 Valid F1: 0.74490| Best F1: 0.74987\n",
      "\n"
     ]
    },
    {
     "name": "stderr",
     "output_type": "stream",
     "text": [
      "Train Epoch 84: 100%|██████████████████████████████████████████████████████| 15/15 [00:00<00:00, 23.95it/s, loss=0.001]\n",
      "Valid Epoch 84: 100%|████████████████████████████████████████████████████████| 7/7 [00:00<00:00, 49.78it/s, loss=0.022]\n"
     ]
    },
    {
     "name": "stdout",
     "output_type": "stream",
     "text": [
      "Train Loss: 0.00000 Train F1: 0.99219| Valid Loss: 0.00000 Valid F1: 0.74622| Best F1: 0.74987\n",
      "\n"
     ]
    },
    {
     "name": "stderr",
     "output_type": "stream",
     "text": [
      "Train Epoch 85: 100%|██████████████████████████████████████████████████████| 15/15 [00:00<00:00, 24.14it/s, loss=0.001]\n",
      "Valid Epoch 85: 100%|████████████████████████████████████████████████████████| 7/7 [00:00<00:00, 45.84it/s, loss=0.023]\n"
     ]
    },
    {
     "name": "stdout",
     "output_type": "stream",
     "text": [
      "Train Loss: 0.00000 Train F1: 0.99233| Valid Loss: 0.00000 Valid F1: 0.74879| Best F1: 0.74987\n",
      "\n"
     ]
    },
    {
     "name": "stderr",
     "output_type": "stream",
     "text": [
      "Train Epoch 86: 100%|██████████████████████████████████████████████████████| 15/15 [00:00<00:00, 23.38it/s, loss=0.001]\n",
      "Valid Epoch 86: 100%|████████████████████████████████████████████████████████| 7/7 [00:00<00:00, 44.40it/s, loss=0.027]\n"
     ]
    },
    {
     "name": "stdout",
     "output_type": "stream",
     "text": [
      "Train Loss: 0.00000 Train F1: 0.99251| Valid Loss: 0.00000 Valid F1: 0.74687| Best F1: 0.74987\n",
      "\n"
     ]
    },
    {
     "name": "stderr",
     "output_type": "stream",
     "text": [
      "Train Epoch 87: 100%|██████████████████████████████████████████████████████| 15/15 [00:00<00:00, 21.34it/s, loss=0.001]\n",
      "Valid Epoch 87: 100%|████████████████████████████████████████████████████████| 7/7 [00:00<00:00, 44.86it/s, loss=0.023]\n"
     ]
    },
    {
     "name": "stdout",
     "output_type": "stream",
     "text": [
      "Train Loss: 0.00000 Train F1: 0.99245| Valid Loss: 0.00000 Valid F1: 0.74957| Best F1: 0.74987\n",
      "\n"
     ]
    },
    {
     "name": "stderr",
     "output_type": "stream",
     "text": [
      "Train Epoch 88: 100%|██████████████████████████████████████████████████████| 15/15 [00:00<00:00, 23.97it/s, loss=0.001]\n",
      "Valid Epoch 88: 100%|████████████████████████████████████████████████████████| 7/7 [00:00<00:00, 45.53it/s, loss=0.024]\n"
     ]
    },
    {
     "name": "stdout",
     "output_type": "stream",
     "text": [
      "Train Loss: 0.00000 Train F1: 0.99289| Valid Loss: 0.00000 Valid F1: 0.74550| Best F1: 0.74987\n",
      "\n"
     ]
    },
    {
     "name": "stderr",
     "output_type": "stream",
     "text": [
      "Train Epoch 89: 100%|██████████████████████████████████████████████████████| 15/15 [00:00<00:00, 23.79it/s, loss=0.001]\n",
      "Valid Epoch 89: 100%|████████████████████████████████████████████████████████| 7/7 [00:00<00:00, 45.44it/s, loss=0.023]\n"
     ]
    },
    {
     "name": "stdout",
     "output_type": "stream",
     "text": [
      "Train Loss: 0.00000 Train F1: 0.99283| Valid Loss: 0.00000 Valid F1: 0.74951| Best F1: 0.74987\n",
      "\n"
     ]
    },
    {
     "name": "stderr",
     "output_type": "stream",
     "text": [
      "Train Epoch 90: 100%|██████████████████████████████████████████████████████| 15/15 [00:00<00:00, 23.49it/s, loss=0.001]\n",
      "Valid Epoch 90: 100%|████████████████████████████████████████████████████████| 7/7 [00:00<00:00, 44.79it/s, loss=0.024]\n"
     ]
    },
    {
     "name": "stdout",
     "output_type": "stream",
     "text": [
      "Train Loss: 0.00000 Train F1: 0.99295| Valid Loss: 0.00000 Valid F1: 0.74616| Best F1: 0.74987\n",
      "\n"
     ]
    },
    {
     "name": "stderr",
     "output_type": "stream",
     "text": [
      "Train Epoch 91: 100%|██████████████████████████████████████████████████████| 15/15 [00:00<00:00, 24.02it/s, loss=0.001]\n",
      "Valid Epoch 91: 100%|████████████████████████████████████████████████████████| 7/7 [00:00<00:00, 28.53it/s, loss=0.023]\n"
     ]
    },
    {
     "name": "stdout",
     "output_type": "stream",
     "text": [
      "Train Loss: 0.00000 Train F1: 0.99345| Valid Loss: 0.00000 Valid F1: 0.74777| Best F1: 0.74987\n",
      "\n"
     ]
    },
    {
     "name": "stderr",
     "output_type": "stream",
     "text": [
      "Train Epoch 92: 100%|██████████████████████████████████████████████████████| 15/15 [00:00<00:00, 23.45it/s, loss=0.001]\n",
      "Valid Epoch 92: 100%|████████████████████████████████████████████████████████| 7/7 [00:00<00:00, 44.95it/s, loss=0.025]\n"
     ]
    },
    {
     "name": "stdout",
     "output_type": "stream",
     "text": [
      "Train Loss: 0.00000 Train F1: 0.99348| Valid Loss: 0.00000 Valid F1: 0.74777| Best F1: 0.74987\n",
      "\n"
     ]
    },
    {
     "name": "stderr",
     "output_type": "stream",
     "text": [
      "Train Epoch 93: 100%|██████████████████████████████████████████████████████| 15/15 [00:00<00:00, 23.40it/s, loss=0.001]\n",
      "Valid Epoch 93: 100%|████████████████████████████████████████████████████████| 7/7 [00:00<00:00, 43.37it/s, loss=0.026]\n"
     ]
    },
    {
     "name": "stdout",
     "output_type": "stream",
     "text": [
      "Train Loss: 0.00000 Train F1: 0.99366| Valid Loss: 0.00000 Valid F1: 0.74981| Best F1: 0.74987\n",
      "\n"
     ]
    },
    {
     "name": "stderr",
     "output_type": "stream",
     "text": [
      "Train Epoch 94: 100%|██████████████████████████████████████████████████████| 15/15 [00:00<00:00, 24.08it/s, loss=0.001]\n",
      "Valid Epoch 94: 100%|████████████████████████████████████████████████████████| 7/7 [00:00<00:00, 44.51it/s, loss=0.026]\n"
     ]
    },
    {
     "name": "stdout",
     "output_type": "stream",
     "text": [
      "Train Loss: 0.00000 Train F1: 0.99386| Valid Loss: 0.00000 Valid F1: 0.74765| Best F1: 0.74987\n",
      "\n"
     ]
    },
    {
     "name": "stderr",
     "output_type": "stream",
     "text": [
      "Train Epoch 95: 100%|██████████████████████████████████████████████████████| 15/15 [00:00<00:00, 23.93it/s, loss=0.001]\n",
      "Valid Epoch 95: 100%|████████████████████████████████████████████████████████| 7/7 [00:00<00:00, 44.95it/s, loss=0.030]\n"
     ]
    },
    {
     "name": "stdout",
     "output_type": "stream",
     "text": [
      "Train Loss: 0.00000 Train F1: 0.99413| Valid Loss: 0.00000 Valid F1: 0.74586| Best F1: 0.74987\n",
      "\n"
     ]
    },
    {
     "name": "stderr",
     "output_type": "stream",
     "text": [
      "Train Epoch 96: 100%|██████████████████████████████████████████████████████| 15/15 [00:00<00:00, 23.44it/s, loss=0.001]\n",
      "Valid Epoch 96: 100%|████████████████████████████████████████████████████████| 7/7 [00:00<00:00, 44.30it/s, loss=0.025]"
     ]
    },
    {
     "name": "stdout",
     "output_type": "stream",
     "text": [
      "------------------------------------\n",
      "|Model can't improve, stop training|\n",
      "------------------------------------\n"
     ]
    },
    {
     "name": "stderr",
     "output_type": "stream",
     "text": [
      "\n"
     ]
    }
   ],
   "source": [
    "import numpy as np\n",
    "epochs = 10000                              # 訓練次數\n",
    "early_stopping = 20                         # 模型訓練幾次沒進步就停止\n",
    "stop_cnt = 0                                # 計數模型是否有進步的計數器\n",
    "model_path = 'model.ckpt'                   # 模型存放路徑\n",
    "show_loss = False                           # 是否顯示訓練折線圖\n",
    "best_f1 = 0                                 # 最佳的準確率\n",
    "loss_record = {'train':[], 'valid':[]}      # 訓練紀錄\n",
    "\n",
    "for epoch in range(epochs):   \n",
    "    train_f1, train_loss= train(epoch)\n",
    "    valid_f1, valid_loss = valid(epoch)\n",
    "    \n",
    "    loss_record['train'].append(train_loss)\n",
    "    loss_record['valid'].append(valid_loss)\n",
    "    \n",
    "    # 儲存最佳的模型權重\n",
    "    if best_f1 < valid_f1:\n",
    "        best_f1 = valid_f1\n",
    "        torch.save(model.state_dict(), model_path)\n",
    "        print(f'Saving Model With F1 {best_f1:.5f}')\n",
    "        stop_cnt = 0\n",
    "    else:\n",
    "        stop_cnt+=1\n",
    "    \n",
    "    # Early stopping\n",
    "    if stop_cnt == early_stopping:\n",
    "        output = \"Model can't improve, stop training\"\n",
    "        print('-' * (len(output)+2))\n",
    "        print(f'|{output}|')\n",
    "        print('-' * (len(output)+2))\n",
    "        break\n",
    "        \n",
    "    print(f'Train Loss: {train_loss:.5f} Train F1: {train_f1:.5f}', end='| ')\n",
    "    print(f'Valid Loss: {valid_loss:.5f} Valid F1: {valid_f1:.5f}', end='| ')\n",
    "    print(f'Best F1: {best_f1:.5f}', end ='\\n\\n')\n",
    "\n",
    "if show_loss:\n",
    "    show_training_loss(loss_record)"
   ]
  }
 ],
 "metadata": {
  "kernelspec": {
   "display_name": "Python 3 (ipykernel)",
   "language": "python",
   "name": "python3"
  },
  "language_info": {
   "codemirror_mode": {
    "name": "ipython",
    "version": 3
   },
   "file_extension": ".py",
   "mimetype": "text/x-python",
   "name": "python",
   "nbconvert_exporter": "python",
   "pygments_lexer": "ipython3",
   "version": "3.8.10"
  }
 },
 "nbformat": 4,
 "nbformat_minor": 5
}
