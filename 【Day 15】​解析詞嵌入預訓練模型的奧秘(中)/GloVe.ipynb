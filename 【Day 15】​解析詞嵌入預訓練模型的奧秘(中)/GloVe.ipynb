{
 "cells": [
  {
   "cell_type": "code",
   "execution_count": 1,
   "id": "59279bfb-5a96-4263-af9d-98aacd73802c",
   "metadata": {},
   "outputs": [
    {
     "name": "stdout",
     "output_type": "stream",
     "text": [
      "[[0. 0. 1. 1. 0. 0. 0. 0. 1. 0. 0. 1.]\n",
      " [0. 0. 0. 0. 0. 0. 0. 1. 0. 1. 0. 0.]\n",
      " [1. 0. 0. 0. 0. 0. 0. 0. 1. 0. 1. 0.]\n",
      " [1. 0. 0. 0. 0. 0. 1. 0. 0. 0. 0. 1.]\n",
      " [0. 0. 0. 0. 0. 1. 0. 1. 0. 1. 0. 0.]\n",
      " [0. 0. 0. 0. 1. 0. 0. 0. 0. 1. 0. 0.]\n",
      " [0. 0. 0. 1. 0. 0. 0. 0. 1. 0. 1. 1.]\n",
      " [0. 1. 0. 0. 1. 0. 0. 0. 0. 1. 0. 0.]\n",
      " [1. 0. 1. 0. 0. 0. 1. 0. 0. 0. 1. 0.]\n",
      " [0. 1. 0. 0. 1. 1. 0. 1. 0. 0. 0. 0.]\n",
      " [0. 0. 1. 0. 0. 0. 1. 0. 1. 0. 0. 0.]\n",
      " [1. 0. 0. 1. 0. 0. 1. 0. 0. 0. 0. 0.]]\n"
     ]
    }
   ],
   "source": [
    "import numpy as np\n",
    "\n",
    "# 1. 建立詞彙表\n",
    "corpus = [\"I like to play soccer\", \"Soccer is a fun sport\", \"I enjoy playing soccer\"]\n",
    "words = ' '.join(corpus).split()\n",
    "vocab = list(set(words))\n",
    "\n",
    "# 2. 初始化共現矩陣\n",
    "co_occurrence_matrix = np.zeros((len(vocab), len(vocab)))\n",
    "\n",
    "# 3. 定義前後窗口\n",
    "window_size = 2\n",
    "\n",
    "# 4. 計算數值並更新共現矩陣\n",
    "for sentence in corpus:\n",
    "    tokens = sentence.split()\n",
    "    for i in range(len(tokens)):\n",
    "        for j in range(max(0, i - window_size), min(len(tokens), i + window_size + 1)):\n",
    "            if i != j:\n",
    "                word_i, word_j = tokens[i], tokens[j]\n",
    "                if word_i in vocab and word_j in vocab:\n",
    "                    index_i, index_j = vocab.index(word_i), vocab.index(word_j)\n",
    "                    co_occurrence_matrix[index_i][index_j] += 1\n",
    "\n",
    "print(co_occurrence_matrix)"
   ]
  },
  {
   "cell_type": "code",
   "execution_count": 2,
   "id": "17d78a83-fd6e-4dbe-a6c5-e0618b61cb8c",
   "metadata": {},
   "outputs": [
    {
     "data": {
      "text/plain": [
       "tensor(5.6144, grad_fn=<MeanBackward0>)"
      ]
     },
     "execution_count": 2,
     "metadata": {},
     "output_type": "execute_result"
    }
   ],
   "source": [
    "import torch.nn as nn\n",
    "import torch\n",
    "class GloVe(nn.Module):\n",
    "    def __init__(self, vocab_size, embedding_dim):\n",
    "        super().__init__()\n",
    "        self.embeddings = nn.Embedding(vocab_size, embedding_dim)\n",
    "        self.bias_target = nn.Embedding(vocab_size, 1)\n",
    "        self.bias_context = nn.Embedding(vocab_size, 1)\n",
    "\n",
    "    def forward(self, target, context):\n",
    "        embed_target = self.embeddings(target)\n",
    "        embed_context = self.embeddings(context)\n",
    "        bias_target = self.bias_target(target).squeeze()\n",
    "        bias_context = self.bias_context(context).squeeze()\n",
    "        \n",
    "        dot_product = torch.sum(embed_target * embed_context, dim=1)\n",
    "        log_co_occurrences = torch.log(co_occurrence_matrix[target, context]) \n",
    "        loss = torch.mean((dot_product + bias_target + bias_context - log_co_occurrences))\n",
    "        return loss\n",
    "        \n",
    "\n",
    "co_occurrence_matrix = torch.LongTensor(co_occurrence_matrix)\n",
    "\n",
    "vocab_size = co_occurrence_matrix.shape[0]\n",
    "embedding_dim = 768\n",
    "\n",
    "model = GloVe(vocab_size, embedding_dim)\n",
    "target, context = torch.where(co_occurrence_matrix > 0)\n",
    "\n",
    "model(target, context)"
   ]
  },
  {
   "cell_type": "code",
   "execution_count": null,
   "id": "3c5e380f-f5e8-44f1-be2d-afe76c4c96a6",
   "metadata": {},
   "outputs": [],
   "source": [
    "import torch\n",
    "import torch.nn as nn\n",
    "\n",
    "# 创建一个HierarchicalSoftmax模型实例，假设输入大小为input_size，类别数为num_classes\n",
    "input_size = 100\n",
    "num_classes = 10\n",
    "model = HierarchicalSoftmax(input_size, num_classes)\n",
    "\n",
    "# 生成假造的输入数据，假设批量大小为batch_size\n",
    "batch_size = 32\n",
    "input_data = torch.randn(batch_size, input_size)\n",
    "\n",
    "# 将输入数据传递给模型的forward方法来获取输出\n",
    "outputs = model(input_data)"
   ]
  }
 ],
 "metadata": {
  "kernelspec": {
   "display_name": "Python 3 (ipykernel)",
   "language": "python",
   "name": "python3"
  },
  "language_info": {
   "codemirror_mode": {
    "name": "ipython",
    "version": 3
   },
   "file_extension": ".py",
   "mimetype": "text/x-python",
   "name": "python",
   "nbconvert_exporter": "python",
   "pygments_lexer": "ipython3",
   "version": "3.8.10"
  }
 },
 "nbformat": 4,
 "nbformat_minor": 5
}
