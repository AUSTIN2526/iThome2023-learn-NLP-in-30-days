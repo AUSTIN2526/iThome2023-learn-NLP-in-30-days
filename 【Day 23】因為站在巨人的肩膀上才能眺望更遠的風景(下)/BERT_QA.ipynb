{
 "cells": [
  {
   "cell_type": "code",
   "execution_count": 1,
   "id": "1c9a5144-7fed-4559-a750-77ce9ae6031a",
   "metadata": {},
   "outputs": [],
   "source": [
    "import json \n",
    "\n",
    "def load_json_data(path):\n",
    "    with open(path) as f:\n",
    "        json_data = json.load(f)\n",
    "    return json_data['data']\n",
    "\n",
    "json_datas = load_json_data('data/train-v2.0.json')"
   ]
  },
  {
   "cell_type": "code",
   "execution_count": 2,
   "id": "b947cfcc-057b-4383-a81c-fa58e4f40995",
   "metadata": {},
   "outputs": [],
   "source": [
    "from transformers import AutoTokenizer, BertForQuestionAnswering\n",
    "tokenizer = AutoTokenizer.from_pretrained(\"deepset/bert-base-cased-squad2\")"
   ]
  },
  {
   "cell_type": "code",
   "execution_count": 3,
   "id": "e005380c-b409-4402-8981-3cf9768982bf",
   "metadata": {},
   "outputs": [],
   "source": [
    "def find_target_sublist(my_list, target_sublist):\n",
    "    target_length = len(target_sublist)\n",
    "    for i in range(len(my_list)):\n",
    "        if my_list[i:i + target_length] == target_sublist:\n",
    "            return i, i + target_length"
   ]
  },
  {
   "cell_type": "code",
   "execution_count": 4,
   "id": "afbb12f1-7c91-403a-9ac6-ae77400da962",
   "metadata": {
    "scrolled": true
   },
   "outputs": [
    {
     "name": "stdout",
     "output_type": "stream",
     "text": [
      "========================================\n",
      "內容: The iPod is a line of portable media players and multi-purpose pocket computers designed and marketed by Apple Inc. The first line was released on October 23, 2001, about 8½ months after iTunes (Macintosh version) was released. The most recent iPod redesigns were announced on July 15, 2015. There are three current versions of the iPod: the ultra-compact iPod Shuffle, the compact iPod Nano and the touchscreen iPod Touch.\n",
      "答案: 3\n",
      "========================================\n",
      "內容: Spectre (2015) is the twenty-fourth James Bond film produced by Eon Productions. It features Daniel Craig in his fourth performance as James Bond, and Christoph Waltz as Ernst Stavro Blofeld, with the film marking the character's re-introduction into the series. It was directed by Sam Mendes as his second James Bond film following Skyfall, and was written by John Logan, Neal Purvis, Robert Wade and Jez Butterworth. It is distributed by Metro-Goldwyn-Mayer and Columbia Pictures. With a budget around $245 million, it is the most expensive Bond film and one of the most expensive films ever made.\n",
      "答案: twenty-four\n",
      "========================================\n",
      "內容: Spectre (2015) is the twenty-fourth James Bond film produced by Eon Productions. It features Daniel Craig in his fourth performance as James Bond, and Christoph Waltz as Ernst Stavro Blofeld, with the film marking the character's re-introduction into the series. It was directed by Sam Mendes as his second James Bond film following Skyfall, and was written by John Logan, Neal Purvis, Robert Wade and Jez Butterworth. It is distributed by Metro-Goldwyn-Mayer and Columbia Pictures. With a budget around $245 million, it is the most expensive Bond film and one of the most expensive films ever made.\n",
      "答案: four\n",
      "========================================\n",
      "內容: Buddhism /ˈbudɪzəm/ is a nontheistic religion[note 1] or philosophy (Sanskrit: धर्म dharma; Pali: धम्म dhamma) that encompasses a variety of traditions, beliefs and spiritual practices largely based on teachings attributed to Gautama Buddha, commonly known as the Buddha (\"the awakened one\"). According to Buddhist tradition, the Buddha lived and taught in the eastern part of the Indian subcontinent, present-day Nepal sometime between the 6th and 4th centuries BCE.[note 1] He is recognized by Buddhists as an awakened or enlightened teacher who shared his insights to help sentient beings end their suffering through the elimination of ignorance and craving. Buddhists believe that this is accomplished through the direct understanding and perception of dependent origination and the Four Noble Truths.\n",
      "答案: 4\n",
      "========================================\n",
      "內容: The Continental Army was created on 14 June 1775 by the Continental Congress as a unified army for the colonies to fight Great Britain, with George Washington appointed as its commander. The army was initially led by men who had served in the British Army or colonial militias and who brought much of British military heritage with them. As the Revolutionary War progressed, French aid, resources, and military thinking influenced the new army. A number of European soldiers came on their own to help, such as Friedrich Wilhelm von Steuben, who taught the army Prussian tactics and organizational skills.\n",
      "答案: Europe\n",
      "========================================\n",
      "內容: In psychology, memory is the process in which information is encoded, stored, and retrieved. Encoding allows information from the outside world to be sensed in the form of chemical and physical stimuli. In the first stage the information must be changed so that it may be put into the encoding process. Storage is the second memory stage or process. This entails that information is maintained over short periods of time. Finally the third process is the retrieval of information that has been stored. Such information must be located and returned to the consciousness. Some retrieval attempts may be effortless due to the type of information, and other attempts to remember stored information may be more demanding for various reasons.\n",
      "答案: g allows information from the outside world to be sensed in the form of chemical and physical stimuli.\n",
      "========================================\n",
      "內容: The Hellenistic period covers the period of ancient Greek (Hellenic) history and Mediterranean history between the death of Alexander the Great in 323 BC and the emergence of the Roman Empire as signified by the Battle of Actium in 31 BC and the subsequent conquest of Ptolemaic Egypt the following year. At this time, Greek cultural influence and power was at its peak in Europe, Africa and Asia, experiencing prosperity and progress in the arts, exploration, literature, theatre, architecture, music, mathematics, philosophy, and science. For example, competitive public games took place, ideas in biology, and popular entertainment in theaters. It is often considered a period of transition, sometimes even of decadence or degeneration, compared to the enlightenment of the Greek Classical era. The Hellenistic period saw the rise of New Comedy, Alexandrian poetry, the Septuagint and the philosophies of Stoicism and Epicureanism. Greek Science was advanced by the works of the mathematician Euclid and the polymath Archimedes. The religious sphere expanded to include new gods such as the Greco-Egyptian Serapis, eastern deities such as Attis and Cybele and the Greek adoption of Buddhism.\n",
      "答案: the Gre\n",
      "========================================\n",
      "內容: In a career spanning more than four decades, Spielberg's films have covered many themes and genres. Spielberg's early science-fiction and adventure films were seen as archetypes of modern Hollywood blockbuster filmmaking. In later years, his films began addressing humanistic issues such as the Holocaust (in Schindler's List), the transatlantic slave trade (in Amistad), war (in Empire of the Sun, Saving Private Ryan, War Horse and Bridge of Spies) and terrorism (in Munich). His other films include Close Encounters of the Third Kind, the Indiana Jones film series, and A.I. Artificial Intelligence.\n",
      "答案: y science-fiction and adventure\n",
      "========================================\n",
      "內容: The Republic of Liberia, beginning as a settlement of the American Colonization Society (ACS), declared its independence on July 26, 1847. The United States did not recognize Liberia's independence until during the American Civil War on February 5, 1862. Between January 7, 1822 and the American Civil War, more than 15,000 freed and free-born Black Americans from United States and 3,198 Afro-Caribbeans relocated to the settlement. The Black American settlers carried their culture with them to Liberia. The Liberian constitution and flag were modeled after the United States. In January 3, 1848 Joseph Jenkins Roberts, a wealthy free-born Black American from Virginia who settled in Liberia, was elected as Liberia's first president after the people proclaimed independence.\n",
      "答案: February 5, 1862. Between January 7, 182\n"
     ]
    }
   ],
   "source": [
    "import torch\n",
    "from torch.nn.utils.rnn import pad_sequence\n",
    "\n",
    "input_data = {'input_ids':[], 'token_type_ids':[], 'attention_mask':[], 'start_positions':[], 'end_positions':[]}\n",
    "for json_data in json_datas:\n",
    "    \n",
    "    paragraphs = json_data['paragraphs'][0]\n",
    "    \n",
    "    # 取得內文\n",
    "    context = paragraphs['context']\n",
    "    \n",
    "    # 取得QA資料\n",
    "    qas = paragraphs['qas']\n",
    "    for qa in qas:\n",
    "        try:\n",
    "            if not qa['is_impossible']: # 不使用不可能的QA解答\n",
    "                # 取得問題\n",
    "                question = qa['question']   \n",
    "                \n",
    "                # 取得答案\n",
    "                answers = qa['answers'][0]['text']\n",
    "                answers_ids = tokenizer(answers).input_ids[1:-1]\n",
    "                \n",
    "                # 轉換成數字\n",
    "                inputs = tokenizer(context, question, return_tensors=\"pt\")\n",
    "                inputs_ids = list(inputs.input_ids[0])\n",
    "                \n",
    "                #更新答案位子\n",
    "                start_positions, end_positions = find_target_sublist(inputs_ids, answers_ids)\n",
    "                start_positions, end_positions = torch.tensor([start_positions]), torch.tensor([end_positions])\n",
    "\n",
    "                # 存入字典中\n",
    "                input_data['input_ids'].append(inputs.input_ids[0])\n",
    "                input_data['token_type_ids'].append(inputs.token_type_ids[0])\n",
    "                input_data['attention_mask'].append(inputs.attention_mask[0])\n",
    "                input_data['start_positions'].append(start_positions)\n",
    "                input_data['end_positions'].append(end_positions)\n",
    "        except:\n",
    "            # 部分斷詞錯誤的結果\n",
    "            if not qa['is_impossible']:\n",
    "                print('=' * 40)\n",
    "                print('內容:', context)\n",
    "                print('答案:', answers)\n",
    "\n",
    "input_data = {k:pad_sequence(v, padding_value=0, batch_first=True) for k, v in input_data.items()}"
   ]
  },
  {
   "cell_type": "code",
   "execution_count": 5,
   "id": "9bd01ab5-adc5-474f-aec6-8c426b6dc366",
   "metadata": {},
   "outputs": [],
   "source": [
    "from torch.utils.data import Dataset, DataLoader\n",
    "class QADataset(Dataset):\n",
    "    def __init__(self, data):\n",
    "        self.data = data\n",
    "\n",
    "    def __getitem__(self, index):\n",
    "        return {k:v[index] for k, v in self.data.items()}     \n",
    "        \n",
    "    def __len__(self):\n",
    "        return len(self.data['input_ids'])\n",
    "\n",
    "dataset = QADataset(input_data)\n",
    "\n",
    "train_simple = int(len(input_data['input_ids']) * 0.8)\n",
    "valid_simple = len(input_data['input_ids']) - train_simple\n",
    "trainset, validset = torch.utils.data.random_split(dataset, [train_simple, valid_simple])\n",
    "\n",
    "train_loader = DataLoader(trainset, batch_size = 32, shuffle = True, num_workers = 0, pin_memory = True)\n",
    "valid_loader = DataLoader(validset, batch_size = 32, shuffle = True, num_workers = 0, pin_memory = True)"
   ]
  },
  {
   "cell_type": "code",
   "execution_count": 6,
   "id": "8b9eef66-8d59-4dca-ace5-70fa3a12e109",
   "metadata": {},
   "outputs": [
    {
     "name": "stderr",
     "output_type": "stream",
     "text": [
      "Some weights of the model checkpoint at deepset/bert-base-cased-squad2 were not used when initializing BertForQuestionAnswering: ['bert.pooler.dense.weight', 'bert.pooler.dense.bias']\n",
      "- This IS expected if you are initializing BertForQuestionAnswering from the checkpoint of a model trained on another task or with another architecture (e.g. initializing a BertForSequenceClassification model from a BertForPreTraining model).\n",
      "- This IS NOT expected if you are initializing BertForQuestionAnswering from the checkpoint of a model that you expect to be exactly identical (initializing a BertForSequenceClassification model from a BertForSequenceClassification model).\n"
     ]
    }
   ],
   "source": [
    "import torch.optim as optim\n",
    "device = torch.device('cuda' if torch.cuda.is_available() else 'cpu')\n",
    "model = BertForQuestionAnswering.from_pretrained(\"deepset/bert-base-cased-squad2\").to(device)\n",
    "optimizer = optim.Adam(model.parameters(), lr=1e-4)"
   ]
  },
  {
   "cell_type": "code",
   "execution_count": 7,
   "id": "8e91e153-8da4-4491-b0e4-54191308a8a2",
   "metadata": {},
   "outputs": [],
   "source": [
    "from tqdm import tqdm\n",
    "import matplotlib.pyplot as plt \n",
    "\n",
    "def train(epoch):\n",
    "    train_loss, train_acc = 0, 0\n",
    "    train_pbar = tqdm(train_loader, position=0, leave=True) # 宣告進度條\n",
    "    \n",
    "    model.train() \n",
    "    for input_datas in train_pbar: \n",
    "        for key in input_datas.keys():\n",
    "            input_datas[key] = input_datas[key].to(device)\n",
    "        optimizer.zero_grad() \n",
    "        \n",
    "        outputs = model(**input_datas) \n",
    "        \n",
    "        loss = outputs.loss\n",
    "\n",
    "        loss.backward()\n",
    "        optimizer.step() \n",
    "        \n",
    "        train_pbar.set_description(f'Train Epoch {epoch}') \n",
    "        train_pbar.set_postfix({'loss':f'{loss:.3f}'})\n",
    "\n",
    "        train_loss += loss.item()  \n",
    "    return train_loss/len(train_loader)\n",
    "\n",
    "def valid(epoch):\n",
    "    valid_loss, valid_acc = 0, 0\n",
    "    valid_pbar = tqdm(valid_loader, position=0, leave=True)\n",
    "    \n",
    "    model.eval()\n",
    "    with torch.no_grad(): \n",
    "        for input_datas in valid_pbar:\n",
    "            for key in input_datas.keys():\n",
    "                input_datas[key] = input_datas[key].to(device)\n",
    "            \n",
    "            outputs = model(**input_datas)\n",
    "            loss = outputs.loss\n",
    "            \n",
    "            valid_pbar.set_description(f'Valid Epoch {epoch}')\n",
    "            valid_pbar.set_postfix({'loss':f'{loss:.3f}'})\n",
    "\n",
    "            valid_loss += loss.item()\n",
    "\n",
    "    return valid_loss/len(valid_loader)\n",
    "\n",
    "\n",
    "def show_training_loss(loss_record):\n",
    "    train_loss, valid_loss = [i for i in loss_record.values()]\n",
    "    \n",
    "    plt.plot(train_loss)\n",
    "    plt.plot(valid_loss)\n",
    "    #標題\n",
    "    plt.title('Result')\n",
    "    #y軸標籤\n",
    "    plt.ylabel('Loss')\n",
    "    #x軸標籤\n",
    "    plt.xlabel('Epoch')\n",
    "    #顯示折線的名稱\n",
    "    plt.legend(['train', 'valid'], loc='upper left')\n",
    "    #顯示折線圖\n",
    "    plt.show()\n"
   ]
  },
  {
   "cell_type": "code",
   "execution_count": 8,
   "id": "34471b58-c2e7-4f7f-837e-c20d13e663e7",
   "metadata": {},
   "outputs": [
    {
     "name": "stderr",
     "output_type": "stream",
     "text": [
      "Train Epoch 0: 100%|███████████████████████████████████████████████████████| 59/59 [00:40<00:00,  1.44it/s, loss=2.234]\n",
      "Valid Epoch 0: 100%|███████████████████████████████████████████████████████| 15/15 [00:03<00:00,  4.23it/s, loss=1.252]\n"
     ]
    },
    {
     "name": "stdout",
     "output_type": "stream",
     "text": [
      "Saving Model With Loss 1.30192\n",
      "Train Loss: 2.21503| Valid Loss: 1.30192| Best Loss: 1.30192\n",
      "\n"
     ]
    },
    {
     "name": "stderr",
     "output_type": "stream",
     "text": [
      "Train Epoch 1: 100%|███████████████████████████████████████████████████████| 59/59 [00:40<00:00,  1.45it/s, loss=1.482]\n",
      "Valid Epoch 1: 100%|███████████████████████████████████████████████████████| 15/15 [00:03<00:00,  4.08it/s, loss=1.155]\n"
     ]
    },
    {
     "name": "stdout",
     "output_type": "stream",
     "text": [
      "Saving Model With Loss 1.28788\n",
      "Train Loss: 0.90966| Valid Loss: 1.28788| Best Loss: 1.28788\n",
      "\n"
     ]
    },
    {
     "name": "stderr",
     "output_type": "stream",
     "text": [
      "Train Epoch 2: 100%|███████████████████████████████████████████████████████| 59/59 [00:40<00:00,  1.45it/s, loss=0.358]\n",
      "Valid Epoch 2: 100%|███████████████████████████████████████████████████████| 15/15 [00:03<00:00,  4.11it/s, loss=1.684]\n"
     ]
    },
    {
     "name": "stdout",
     "output_type": "stream",
     "text": [
      "Train Loss: 0.52878| Valid Loss: 1.70067| Best Loss: 1.28788\n",
      "\n"
     ]
    },
    {
     "name": "stderr",
     "output_type": "stream",
     "text": [
      "Train Epoch 3: 100%|███████████████████████████████████████████████████████| 59/59 [00:40<00:00,  1.45it/s, loss=0.246]\n",
      "Valid Epoch 3: 100%|███████████████████████████████████████████████████████| 15/15 [00:03<00:00,  4.15it/s, loss=2.443]\n"
     ]
    },
    {
     "name": "stdout",
     "output_type": "stream",
     "text": [
      "Train Loss: 0.33954| Valid Loss: 1.79230| Best Loss: 1.28788\n",
      "\n"
     ]
    },
    {
     "name": "stderr",
     "output_type": "stream",
     "text": [
      "Train Epoch 4: 100%|███████████████████████████████████████████████████████| 59/59 [00:40<00:00,  1.47it/s, loss=0.195]\n",
      "Valid Epoch 4: 100%|███████████████████████████████████████████████████████| 15/15 [00:03<00:00,  4.19it/s, loss=2.446]\n"
     ]
    },
    {
     "name": "stdout",
     "output_type": "stream",
     "text": [
      "Train Loss: 0.25185| Valid Loss: 2.12619| Best Loss: 1.28788\n",
      "\n"
     ]
    },
    {
     "name": "stderr",
     "output_type": "stream",
     "text": [
      "Train Epoch 5: 100%|███████████████████████████████████████████████████████| 59/59 [00:40<00:00,  1.47it/s, loss=0.306]\n",
      "Valid Epoch 5: 100%|███████████████████████████████████████████████████████| 15/15 [00:03<00:00,  4.18it/s, loss=1.809]\n"
     ]
    },
    {
     "name": "stdout",
     "output_type": "stream",
     "text": [
      "Train Loss: 0.18896| Valid Loss: 2.08500| Best Loss: 1.28788\n",
      "\n"
     ]
    },
    {
     "name": "stderr",
     "output_type": "stream",
     "text": [
      "Train Epoch 6: 100%|███████████████████████████████████████████████████████| 59/59 [00:40<00:00,  1.47it/s, loss=0.222]\n",
      "Valid Epoch 6: 100%|███████████████████████████████████████████████████████| 15/15 [00:03<00:00,  4.16it/s, loss=2.268]\n"
     ]
    },
    {
     "name": "stdout",
     "output_type": "stream",
     "text": [
      "Train Loss: 0.18119| Valid Loss: 2.06045| Best Loss: 1.28788\n",
      "\n"
     ]
    },
    {
     "name": "stderr",
     "output_type": "stream",
     "text": [
      "Train Epoch 7: 100%|███████████████████████████████████████████████████████| 59/59 [00:40<00:00,  1.45it/s, loss=0.042]\n",
      "Valid Epoch 7: 100%|███████████████████████████████████████████████████████| 15/15 [00:03<00:00,  4.12it/s, loss=1.669]\n"
     ]
    },
    {
     "name": "stdout",
     "output_type": "stream",
     "text": [
      "Train Loss: 0.17172| Valid Loss: 2.14880| Best Loss: 1.28788\n",
      "\n"
     ]
    },
    {
     "name": "stderr",
     "output_type": "stream",
     "text": [
      "Train Epoch 8: 100%|███████████████████████████████████████████████████████| 59/59 [00:40<00:00,  1.46it/s, loss=0.079]\n",
      "Valid Epoch 8: 100%|███████████████████████████████████████████████████████| 15/15 [00:03<00:00,  4.16it/s, loss=1.103]\n"
     ]
    },
    {
     "name": "stdout",
     "output_type": "stream",
     "text": [
      "Train Loss: 0.16243| Valid Loss: 2.38144| Best Loss: 1.28788\n",
      "\n"
     ]
    },
    {
     "name": "stderr",
     "output_type": "stream",
     "text": [
      "Train Epoch 9: 100%|███████████████████████████████████████████████████████| 59/59 [00:40<00:00,  1.47it/s, loss=0.558]\n",
      "Valid Epoch 9: 100%|███████████████████████████████████████████████████████| 15/15 [00:03<00:00,  4.17it/s, loss=2.332]\n"
     ]
    },
    {
     "name": "stdout",
     "output_type": "stream",
     "text": [
      "Train Loss: 0.17496| Valid Loss: 2.28696| Best Loss: 1.28788\n",
      "\n"
     ]
    },
    {
     "name": "stderr",
     "output_type": "stream",
     "text": [
      "Train Epoch 10: 100%|██████████████████████████████████████████████████████| 59/59 [00:40<00:00,  1.47it/s, loss=0.443]\n",
      "Valid Epoch 10: 100%|██████████████████████████████████████████████████████| 15/15 [00:03<00:00,  4.17it/s, loss=2.865]\n"
     ]
    },
    {
     "name": "stdout",
     "output_type": "stream",
     "text": [
      "Train Loss: 0.15048| Valid Loss: 2.00934| Best Loss: 1.28788\n",
      "\n"
     ]
    },
    {
     "name": "stderr",
     "output_type": "stream",
     "text": [
      "Train Epoch 11: 100%|██████████████████████████████████████████████████████| 59/59 [00:40<00:00,  1.47it/s, loss=0.301]\n",
      "Valid Epoch 11: 100%|██████████████████████████████████████████████████████| 15/15 [00:03<00:00,  4.17it/s, loss=2.948]\n"
     ]
    },
    {
     "name": "stdout",
     "output_type": "stream",
     "text": [
      "------------------------------------\n",
      "|Model can't improve, stop training|\n",
      "------------------------------------\n"
     ]
    },
    {
     "data": {
      "image/png": "[encoded data removed]",
      "text/plain": [
       "<Figure size 640x480 with 1 Axes>"
      ]
     },
     "metadata": {},
     "output_type": "display_data"
    }
   ],
   "source": [
    "epochs = 100                             # 訓練次數\n",
    "early_stopping = 10                      # 模型訓練幾次沒進步就停止\n",
    "stop_cnt = 0                             # 計數模型是否有進步的計數器\n",
    "model_path = 'model.ckpt'                # 模型存放路徑\n",
    "show_loss = True                         # 是否顯示訓練折線圖\n",
    "best_loss = float('inf')                 # 最佳的Loss\n",
    "loss_record = {'train':[], 'valid':[]}   # 訓練紀錄\n",
    "\n",
    "for epoch in range(epochs):   \n",
    "    train_loss = train(epoch)\n",
    "    valid_loss = valid(epoch)\n",
    "    \n",
    "    loss_record['train'].append(train_loss)\n",
    "    loss_record['valid'].append(valid_loss)\n",
    "    \n",
    "    # 儲存最佳的模型權重\n",
    "    if valid_loss < best_loss:\n",
    "        best_loss = valid_loss\n",
    "        torch.save(model.state_dict(), model_path)\n",
    "        print(f'Saving Model With Loss {best_loss:.5f}')\n",
    "        stop_cnt = 0\n",
    "    else:\n",
    "        stop_cnt+=1\n",
    "    \n",
    "    # Early stopping\n",
    "    if stop_cnt == early_stopping:\n",
    "        output = \"Model can't improve, stop training\"\n",
    "        print('-' * (len(output)+2))\n",
    "        print(f'|{output}|')\n",
    "        print('-' * (len(output)+2))\n",
    "        break\n",
    "\n",
    "    print(f'Train Loss: {train_loss:.5f}' , end='| ')\n",
    "    print(f'Valid Loss: {valid_loss:.5f}' , end='| ')\n",
    "    print(f'Best Loss: {best_loss:.5f}', end='\\n\\n')\n",
    "\n",
    "\n",
    "if show_loss:\n",
    "    show_training_loss(loss_record)"
   ]
  },
  {
   "cell_type": "code",
   "execution_count": 9,
   "id": "ff151776-425a-4c2e-ac18-681525991c84",
   "metadata": {},
   "outputs": [
    {
     "name": "stderr",
     "output_type": "stream",
     "text": [
      "Some weights of the model checkpoint at deepset/bert-base-cased-squad2 were not used when initializing BertForQuestionAnswering: ['bert.pooler.dense.weight', 'bert.pooler.dense.bias']\n",
      "- This IS expected if you are initializing BertForQuestionAnswering from the checkpoint of a model trained on another task or with another architecture (e.g. initializing a BertForSequenceClassification model from a BertForPreTraining model).\n",
      "- This IS NOT expected if you are initializing BertForQuestionAnswering from the checkpoint of a model that you expect to be exactly identical (initializing a BertForSequenceClassification model from a BertForSequenceClassification model).\n"
     ]
    }
   ],
   "source": [
    "model = BertForQuestionAnswering.from_pretrained(\"deepset/bert-base-cased-squad2\").to(device)\n",
    "model.load_state_dict(torch.load(model_path))\n",
    "\n",
    "preds = next(iter(valid_loader))\n",
    "for k in preds:\n",
    "    preds[k] = preds[k].to(device)\n",
    "output = model(**preds)"
   ]
  },
  {
   "cell_type": "code",
   "execution_count": 30,
   "id": "82084825-2e4c-4f77-b2ac-06436832ae40",
   "metadata": {},
   "outputs": [
    {
     "name": "stdout",
     "output_type": "stream",
     "text": [
      "文章內容: Relations between Grand Lodges are determined by the concept of Recognition. Each Grand Lodge maintains a list of other Grand Lodges that it recognises. When two Grand Lodges recognise and are in Masonic communication with each other, they are said to be in amity, and the brethren of each may visit each other's Lodges and interact Masonically. When two Grand Lodges are not in amity, inter - visitation is not allowed. There are many reasons why one Grand Lodge will withhold or withdraw recognition from another, but the two most common are Exclusive Jurisdiction and Regularity. \n",
      "問題: What concept is used to determine relations between Grand Lodges?\n",
      "預測解答: Recognition\n",
      "實際解答: Recognition\n"
     ]
    }
   ],
   "source": [
    "IDX = 31\n",
    "\n",
    "start = preds['start_positions'][IDX]\n",
    "end = preds['end_positions'][IDX]\n",
    "\n",
    "pred_start = output.start_logits.argmax(dim = 1)[IDX]\n",
    "pred_end = output.end_logits.argmax(dim = 1)[IDX]\n",
    "\n",
    "input_ids = preds['input_ids'][IDX] \n",
    "input_ids = input_ids[input_ids !=0]\n",
    "\n",
    "context, question = tokenizer.decode(input_ids[1:-1]).split('[SEP]')                                                               \n",
    "pred_answer = tokenizer.decode(input_ids[pred_start:pred_end])\n",
    "answer = tokenizer.decode(input_ids[start:end])\n",
    "\n",
    "print('文章內容:', context)\n",
    "print('問題:', question.strip())\n",
    "print('預測解答:', pred_answer)\n",
    "print('實際解答:', answer)"
   ]
  }
 ],
 "metadata": {
  "kernelspec": {
   "display_name": "Python 3 (ipykernel)",
   "language": "python",
   "name": "python3"
  },
  "language_info": {
   "codemirror_mode": {
    "name": "ipython",
    "version": 3
   },
   "file_extension": ".py",
   "mimetype": "text/x-python",
   "name": "python",
   "nbconvert_exporter": "python",
   "pygments_lexer": "ipython3",
   "version": "3.8.10"
  }
 },
 "nbformat": 4,
 "nbformat_minor": 5
}
