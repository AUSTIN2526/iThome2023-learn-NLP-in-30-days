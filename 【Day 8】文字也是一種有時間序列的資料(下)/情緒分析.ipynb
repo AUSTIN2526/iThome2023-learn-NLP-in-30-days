{
 "cells": [
  {
   "cell_type": "code",
   "execution_count": 1,
   "id": "c831d7d5",
   "metadata": {},
   "outputs": [],
   "source": [
    "import torch \n",
    "import torch.nn as nn \n",
    "import torch.optim as optim \n",
    "import numpy as np \n",
    "import pandas as pd\n",
    "from torch.utils.data import Dataset, DataLoader\n",
    "from tqdm import tqdm \n",
    "import matplotlib.pyplot as plt \n",
    "import random \n",
    "from torch.nn.utils.rnn import pad_sequence\n",
    "from sklearn.model_selection import train_test_split\n",
    "from collections import Counter\n",
    "from torchtext.vocab import vocab\n",
    "from torchtext.data.utils import get_tokenizer"
   ]
  },
  {
   "cell_type": "code",
   "execution_count": 2,
   "id": "52e917e8",
   "metadata": {},
   "outputs": [],
   "source": [
    "def set_seeds(seed):\n",
    "    random.seed(seed) \n",
    "    np.random.seed(seed)  \n",
    "    torch.manual_seed(seed)\n",
    "    if torch.cuda.is_available():\n",
    "        torch.cuda.manual_seed(seed)\n",
    "        torch.cuda.manual_seed_all(seed) \n",
    "    torch.backends.cudnn.benchmark = False\n",
    "    torch.backends.cudnn.deterministic = True\n",
    "    \n",
    "set_seeds(2562)"
   ]
  },
  {
   "cell_type": "markdown",
   "id": "ea6827ca",
   "metadata": {},
   "source": [
    "## 讀檔"
   ]
  },
  {
   "cell_type": "code",
   "execution_count": 3,
   "id": "1a8ec9b0",
   "metadata": {},
   "outputs": [],
   "source": [
    "df = pd.read_csv('sentimentData/IMDB Dataset.csv')\n",
    "reviews = df['review'].values\n",
    "sentiments = df['sentiment'].values"
   ]
  },
  {
   "cell_type": "code",
   "execution_count": 4,
   "id": "a7d483b1",
   "metadata": {},
   "outputs": [
    {
     "name": "stdout",
     "output_type": "stream",
     "text": [
      "原始標籤:\n",
      " ['positive' 'positive' 'positive' ... 'negative' 'negative' 'negative']\n",
      "\n",
      "轉換後的標籤:\n",
      " [1. 1. 1. ... 0. 0. 0.]\n"
     ]
    }
   ],
   "source": [
    "print('原始標籤:\\n', sentiments, end = '\\n\\n')\n",
    "print('轉換後的標籤:\\n', (sentiments=='positive').astype('float32'))"
   ]
  },
  {
   "cell_type": "code",
   "execution_count": 5,
   "id": "6d490d1d",
   "metadata": {
    "scrolled": false
   },
   "outputs": [
    {
     "name": "stdout",
     "output_type": "stream",
     "text": [
      "原始文字:\n",
      " One of the other reviewers has mentioned that after watching just 1 Oz episode you'll be hooked. They are right, as this is exactly what happened with me.<br /><br />The first thing that struck me about Oz was its brutality and unflinching scenes of violence, which set in right from the word GO. Trust me, this is not a show for the faint hearted or timid. This show pulls no punches with regards to drugs, sex or violence. Its is hardcore, in the classic use of the word.<br /><br />It is called OZ as that is the nickname given to the Oswald Maximum Security State Penitentary. It focuses mainly on Emerald City, an experimental section of the prison where all the cells have glass fronts and face inwards, so privacy is not high on the agenda. Em City is home to many..Aryans, Muslims, gangstas, Latinos, Christians, Italians, Irish and more....so scuffles, death stares, dodgy dealings and shady agreements are never far away.<br /><br />I would say the main appeal of the show is due to the fact that it goes where other shows wouldn't dare. Forget pretty pictures painted for mainstream audiences, forget charm, forget romance...OZ doesn't mess around. The first episode I ever saw struck me as so nasty it was surreal, I couldn't say I was ready for it, but as I watched more, I developed a taste for Oz, and got accustomed to the high levels of graphic violence. Not just violence, but injustice (crooked guards who'll be sold out for a nickel, inmates who'll kill on order and get away with it, well mannered, middle class inmates being turned into prison bitches due to their lack of street skills or prison experience) Watching Oz, you may become comfortable with what is uncomfortable viewing....thats if you can get in touch with your darker side.\n",
      "\n",
      "轉換後的文字:\n",
      " one of the other reviewers has mentioned that after watching just 1 oz episode you ' ll be hooked . they are right , as this is exactly what happened with me . the first thing that struck me about oz was its brutality and unflinching scenes of violence , which set in right from the word go . trust me , this is not a show for the faint hearted or timid . this show pulls no punches with regards to drugs , sex or violence . its is hardcore , in the classic use of the word . it is called oz as that is the nickname given to the oswald maximum security state penitentary . it focuses mainly on emerald city , an experimental section of the prison where all the cells have glass fronts and face inwards , so privacy is not high on the agenda . em city is home to many . . aryans , muslims , gangstas , latinos , christians , italians , irish and more . . . . so scuffles , death stares , dodgy dealings and shady agreements are never far away . i would say the main appeal of the show is due to the fact that it goes where other shows wouldn ' t dare . forget pretty pictures painted for mainstream audiences , forget charm , forget romance . . . oz doesn ' t mess around . the first episode i ever saw struck me as so nasty it was surreal , i couldn ' t say i was ready for it , but as i watched more , i developed a taste for oz , and got accustomed to the high levels of graphic violence . not just violence , but injustice ( crooked guards who ' ll be sold out for a nickel , inmates who ' ll kill on order and get away with it , well mannered , middle class inmates being turned into prison bitches due to their lack of street skills or prison experience ) watching oz , you may become comfortable with what is uncomfortable viewing . . . . thats if you can get in touch with your darker side .\n"
     ]
    }
   ],
   "source": [
    "tokenizer = get_tokenizer('basic_english')\n",
    "\n",
    "print('原始文字:\\n', reviews[0], end = '\\n\\n')\n",
    "print('轉換後的文字:\\n', \" \".join(tokenizer(reviews[0])))"
   ]
  },
  {
   "cell_type": "code",
   "execution_count": 6,
   "id": "3b70b154",
   "metadata": {},
   "outputs": [],
   "source": [
    "counter = Counter()\n",
    "for review in reviews:\n",
    "    token = tokenizer(review)\n",
    "    counter.update(token)\n",
    "\n",
    "token_vocab = vocab(counter, min_freq=10, specials=('<pad>', '<unk>'))\n",
    "token_vocab.set_default_index(token_vocab.get_stoi()['<unk>'])\n",
    "\n",
    "PAD_IDX = token_vocab.get_stoi()['<pad>']\n",
    "INPUT_DIM = len(token_vocab)\n",
    "\n",
    "reviews_ids = [torch.tensor(token_vocab.lookup_indices(tokenizer(i))) for i in reviews]\n",
    "labels = (sentiments=='positive').astype('float32')\n",
    "\n",
    "x_train, x_valid, y_train, y_valid = train_test_split(reviews_ids, labels, train_size=0.8, random_state=46, shuffle=False)"
   ]
  },
  {
   "cell_type": "markdown",
   "id": "73991ec5",
   "metadata": {},
   "source": [
    "## 創建資料集"
   ]
  },
  {
   "cell_type": "code",
   "execution_count": 7,
   "id": "543ce9b7",
   "metadata": {},
   "outputs": [],
   "source": [
    "class IMDB(Dataset):\n",
    "    def __init__(self, x, y):\n",
    "        self.x = x\n",
    "        self.y = y\n",
    "          \n",
    "    def __getitem__(self, index):\n",
    "        return self.x[index], self.y[index]\n",
    "       \n",
    "    def __len__(self):\n",
    "        return len(self.x)\n",
    "    \n",
    "trainset = IMDB(x_train, y_train)\n",
    "validset = IMDB(x_valid, y_valid)"
   ]
  },
  {
   "cell_type": "code",
   "execution_count": 8,
   "id": "b90f8f91",
   "metadata": {},
   "outputs": [],
   "source": [
    "def collate_fn(batch):    \n",
    "    (x, y) = zip(*batch)\n",
    "    return pad_sequence(x, padding_value=PAD_IDX, batch_first=True), torch.tensor(y)\n",
    "\n",
    "train_loader = DataLoader(trainset, batch_size = 64, shuffle = True, num_workers = 0, pin_memory = True, collate_fn=collate_fn)\n",
    "valid_loader = DataLoader(validset, batch_size = 64, shuffle = True, num_workers = 0, pin_memory = True, collate_fn=collate_fn)"
   ]
  },
  {
   "cell_type": "code",
   "execution_count": 9,
   "id": "e134f30b",
   "metadata": {},
   "outputs": [],
   "source": [
    "class TimeSeriesModel(nn.Module):\n",
    "    def __init__(self, embedding_dim, hidden_size, num_layers=1, bidirectional=True, model_type = 'LSTM'):\n",
    "        super().__init__()\n",
    "        self.embedding = nn.Embedding(INPUT_DIM,  embedding_dim, padding_idx = PAD_IDX)\n",
    "        if model_type == 'LSTM':\n",
    "            self.series_model =nn.LSTM(embedding_dim, \n",
    "                               hidden_size = hidden_size, \n",
    "                               num_layers = num_layers,\n",
    "                               bidirectional = bidirectional,\n",
    "                               batch_first=True\n",
    "            )\n",
    "        elif model_type =='GRU':\n",
    "            self.series_model =nn.GRU(embedding_dim, \n",
    "                               hidden_size = hidden_size, \n",
    "                               num_layers = num_layers,\n",
    "                               bidirectional = bidirectional,\n",
    "                               batch_first=True\n",
    "            )\n",
    "            \n",
    "        else:\n",
    "             self.series_model =nn.RNN(embedding_dim, \n",
    "                               hidden_size = hidden_size, \n",
    "                               num_layers = num_layers,\n",
    "                               bidirectional = bidirectional,\n",
    "                               batch_first=True\n",
    "            )\n",
    "            \n",
    "\n",
    "        hidden = hidden_size * 2 if bidirectional else hidden_size\n",
    "        self.fc = nn.Linear(hidden, 1)\n",
    "\n",
    "        self.sigmoid = nn.Sigmoid()\n",
    "\n",
    "    def forward(self, x):\n",
    "        emb_out = self.embedding(x)\n",
    "        out, (h, c)  = self.series_model(emb_out)\n",
    "        x = out[:, -1, :]\n",
    "        x = self.fc(x)\n",
    "        \n",
    "        return self.sigmoid(x)\n",
    "    \n",
    "device = torch.device('cuda' if torch.cuda.is_available() else 'cpu')\n",
    "model = TimeSeriesModel(embedding_dim = 300, hidden_size= 128, model_type = 'GRU').to(device)\n",
    "criterion = nn.BCELoss()\n",
    "optimizer = optim.Adam(model.parameters(), lr=1e-3)"
   ]
  },
  {
   "cell_type": "code",
   "execution_count": 10,
   "id": "6d7b2ac2",
   "metadata": {},
   "outputs": [],
   "source": [
    "def train(epoch):\n",
    "    train_loss, train_acc = 0, 0\n",
    "    train_pbar = tqdm(train_loader, position=0, leave=True) # 宣告進度條\n",
    "    \n",
    "    model.train() # 將模型切換成訓練模式\n",
    "    for input_datas in train_pbar: \n",
    "        features, labels = [i.to(device) for i in input_datas] # 將資料放入到GPU中\n",
    "        optimizer.zero_grad()  # 梯度清零\n",
    "        outputs = model(features).view(-1) # 模型計算答案(前向傳播)\n",
    "        \n",
    "        loss = criterion(outputs, labels) # 計算Loss值\n",
    "        loss.backward() # 返向傳播\n",
    "        optimizer.step() # 更新模型權重\n",
    "        \n",
    "        train_pbar.set_description(f'Train Epoch {epoch}')  # 顯示訓練次數\n",
    "        train_pbar.set_postfix({'loss':f'{loss:.3f}'}) # 顯示當下模型損失\n",
    "        \n",
    "        pred = outputs > 0.5\n",
    "        train_acc += sum(pred == labels) # 計算預測成功的數量\n",
    "        train_loss += loss.item()  # 模型總損失\n",
    "    return train_loss/len(train_loader), train_acc/len(trainset) # 計算一次訓練的Loss與準確率\n",
    "\n",
    "\n",
    "def valid(epoch):\n",
    "    valid_loss, valid_acc = 0, 0\n",
    "    valid_pbar = tqdm(valid_loader, position=0, leave=True)\n",
    "    \n",
    "    model.eval()\n",
    "    with torch.no_grad(): \n",
    "        for input_datas in valid_pbar:\n",
    "            features, labels = [i.to(device) for i in input_datas]\n",
    "            outputs = model(features).view(-1)\n",
    "            loss = criterion(outputs, labels)\n",
    "            \n",
    "            valid_pbar.set_description(f'Valid Epoch {epoch}')\n",
    "            valid_pbar.set_postfix({'loss':f'{loss:.3f}'})\n",
    "\n",
    "            pred = outputs > 0.5\n",
    "            valid_acc += sum(pred == labels)\n",
    "            valid_loss += loss.item()\n",
    "\n",
    "    return valid_loss/len(valid_loader), valid_acc/len(validset)\n",
    "\n",
    "        \n",
    "def show_training_loss(loss_record):\n",
    "    train_loss, valid_loss = [i for i in loss_record.values()]\n",
    "    \n",
    "    plt.plot(train_loss)\n",
    "    plt.plot(valid_loss)\n",
    "    #標題\n",
    "    plt.title('Result')\n",
    "    #y軸標籤\n",
    "    plt.ylabel('Loss')\n",
    "    #x軸標籤\n",
    "    plt.xlabel('Epoch')\n",
    "    #顯示折線的名稱\n",
    "    plt.legend(['train', 'valid'], loc='upper left')\n",
    "    #顯示折線圖\n",
    "    plt.show()"
   ]
  },
  {
   "cell_type": "code",
   "execution_count": 11,
   "id": "8f1cded5",
   "metadata": {},
   "outputs": [
    {
     "name": "stderr",
     "output_type": "stream",
     "text": [
      "Train Epoch 0: 100%|█████████████████████████████████████████████████████| 625/625 [00:45<00:00, 13.65it/s, loss=0.693]\n",
      "Valid Epoch 0: 100%|█████████████████████████████████████████████████████| 157/157 [00:03<00:00, 39.41it/s, loss=0.717]\n"
     ]
    },
    {
     "name": "stdout",
     "output_type": "stream",
     "text": [
      "Saving Model With Acc 0.50090\n",
      "Train Loss: 0.69346 Train Acc: 0.49935| Valid Loss: 0.69273 Valid Acc: 0.50090| Best Acc: 0.50090\n",
      "\n"
     ]
    },
    {
     "name": "stderr",
     "output_type": "stream",
     "text": [
      "Train Epoch 1: 100%|█████████████████████████████████████████████████████| 625/625 [00:48<00:00, 12.77it/s, loss=0.691]\n",
      "Valid Epoch 1: 100%|█████████████████████████████████████████████████████| 157/157 [00:04<00:00, 37.41it/s, loss=0.699]\n"
     ]
    },
    {
     "name": "stdout",
     "output_type": "stream",
     "text": [
      "Train Loss: 0.69162 Train Acc: 0.50102| Valid Loss: 0.69293 Valid Acc: 0.50090| Best Acc: 0.50090\n",
      "\n"
     ]
    },
    {
     "name": "stderr",
     "output_type": "stream",
     "text": [
      "Train Epoch 2: 100%|█████████████████████████████████████████████████████| 625/625 [00:59<00:00, 10.43it/s, loss=0.687]\n",
      "Valid Epoch 2: 100%|█████████████████████████████████████████████████████| 157/157 [00:05<00:00, 29.12it/s, loss=0.687]\n"
     ]
    },
    {
     "name": "stdout",
     "output_type": "stream",
     "text": [
      "Train Loss: 0.68981 Train Acc: 0.50407| Valid Loss: 0.69342 Valid Acc: 0.50040| Best Acc: 0.50090\n",
      "\n"
     ]
    },
    {
     "name": "stderr",
     "output_type": "stream",
     "text": [
      "Train Epoch 3: 100%|█████████████████████████████████████████████████████| 625/625 [01:02<00:00,  9.98it/s, loss=0.684]\n",
      "Valid Epoch 3: 100%|█████████████████████████████████████████████████████| 157/157 [00:05<00:00, 27.51it/s, loss=0.646]\n"
     ]
    },
    {
     "name": "stdout",
     "output_type": "stream",
     "text": [
      "Saving Model With Acc 0.50140\n",
      "Train Loss: 0.68765 Train Acc: 0.50980| Valid Loss: 0.69545 Valid Acc: 0.50140| Best Acc: 0.50140\n",
      "\n"
     ]
    },
    {
     "name": "stderr",
     "output_type": "stream",
     "text": [
      "Train Epoch 4: 100%|█████████████████████████████████████████████████████| 625/625 [01:04<00:00,  9.73it/s, loss=0.682]\n",
      "Valid Epoch 4: 100%|█████████████████████████████████████████████████████| 157/157 [00:05<00:00, 28.26it/s, loss=0.655]\n"
     ]
    },
    {
     "name": "stdout",
     "output_type": "stream",
     "text": [
      "Train Loss: 0.68689 Train Acc: 0.50252| Valid Loss: 0.69370 Valid Acc: 0.50120| Best Acc: 0.50140\n",
      "\n"
     ]
    },
    {
     "name": "stderr",
     "output_type": "stream",
     "text": [
      "Train Epoch 5: 100%|█████████████████████████████████████████████████████| 625/625 [01:17<00:00,  8.09it/s, loss=0.677]\n",
      "Valid Epoch 5: 100%|█████████████████████████████████████████████████████| 157/157 [00:07<00:00, 22.08it/s, loss=0.622]\n"
     ]
    },
    {
     "name": "stdout",
     "output_type": "stream",
     "text": [
      "Saving Model With Acc 0.65840\n",
      "Train Loss: 0.67527 Train Acc: 0.54412| Valid Loss: 0.63498 Valid Acc: 0.65840| Best Acc: 0.65840\n",
      "\n"
     ]
    },
    {
     "name": "stderr",
     "output_type": "stream",
     "text": [
      "Train Epoch 6: 100%|█████████████████████████████████████████████████████| 625/625 [01:40<00:00,  6.21it/s, loss=0.544]\n",
      "Valid Epoch 6: 100%|█████████████████████████████████████████████████████| 157/157 [00:08<00:00, 17.87it/s, loss=0.434]\n"
     ]
    },
    {
     "name": "stdout",
     "output_type": "stream",
     "text": [
      "Saving Model With Acc 0.75460\n",
      "Train Loss: 0.56378 Train Acc: 0.71625| Valid Loss: 0.50437 Valid Acc: 0.75460| Best Acc: 0.75460\n",
      "\n"
     ]
    },
    {
     "name": "stderr",
     "output_type": "stream",
     "text": [
      "Train Epoch 7: 100%|█████████████████████████████████████████████████████| 625/625 [01:46<00:00,  5.85it/s, loss=0.352]\n",
      "Valid Epoch 7: 100%|█████████████████████████████████████████████████████| 157/157 [00:08<00:00, 18.13it/s, loss=0.538]\n"
     ]
    },
    {
     "name": "stdout",
     "output_type": "stream",
     "text": [
      "Saving Model With Acc 0.84260\n",
      "Train Loss: 0.39428 Train Acc: 0.82897| Valid Loss: 0.37500 Valid Acc: 0.84260| Best Acc: 0.84260\n",
      "\n"
     ]
    },
    {
     "name": "stderr",
     "output_type": "stream",
     "text": [
      "Train Epoch 8: 100%|█████████████████████████████████████████████████████| 625/625 [01:34<00:00,  6.58it/s, loss=0.218]\n",
      "Valid Epoch 8: 100%|█████████████████████████████████████████████████████| 157/157 [00:08<00:00, 19.16it/s, loss=0.793]\n"
     ]
    },
    {
     "name": "stdout",
     "output_type": "stream",
     "text": [
      "Saving Model With Acc 0.86420\n",
      "Train Loss: 0.25750 Train Acc: 0.89922| Valid Loss: 0.33761 Valid Acc: 0.86420| Best Acc: 0.86420\n",
      "\n"
     ]
    },
    {
     "name": "stderr",
     "output_type": "stream",
     "text": [
      "Train Epoch 9: 100%|█████████████████████████████████████████████████████| 625/625 [01:46<00:00,  5.87it/s, loss=0.170]\n",
      "Valid Epoch 9: 100%|█████████████████████████████████████████████████████| 157/157 [00:07<00:00, 19.74it/s, loss=0.741]\n"
     ]
    },
    {
     "name": "stdout",
     "output_type": "stream",
     "text": [
      "Saving Model With Acc 0.86520\n",
      "Train Loss: 0.16135 Train Acc: 0.94320| Valid Loss: 0.34312 Valid Acc: 0.86520| Best Acc: 0.86520\n",
      "\n"
     ]
    },
    {
     "name": "stderr",
     "output_type": "stream",
     "text": [
      "Train Epoch 10: 100%|████████████████████████████████████████████████████| 625/625 [01:37<00:00,  6.41it/s, loss=0.068]\n",
      "Valid Epoch 10: 100%|████████████████████████████████████████████████████| 157/157 [00:07<00:00, 21.00it/s, loss=0.502]\n"
     ]
    },
    {
     "name": "stdout",
     "output_type": "stream",
     "text": [
      "Saving Model With Acc 0.86950\n",
      "Train Loss: 0.09913 Train Acc: 0.96780| Valid Loss: 0.39475 Valid Acc: 0.86950| Best Acc: 0.86950\n",
      "\n"
     ]
    },
    {
     "name": "stderr",
     "output_type": "stream",
     "text": [
      "Train Epoch 11: 100%|████████████████████████████████████████████████████| 625/625 [01:46<00:00,  5.85it/s, loss=0.074]\n",
      "Valid Epoch 11: 100%|████████████████████████████████████████████████████| 157/157 [00:09<00:00, 17.43it/s, loss=0.286]\n"
     ]
    },
    {
     "name": "stdout",
     "output_type": "stream",
     "text": [
      "Train Loss: 0.07164 Train Acc: 0.97795| Valid Loss: 0.44034 Valid Acc: 0.86480| Best Acc: 0.86950\n",
      "\n"
     ]
    },
    {
     "name": "stderr",
     "output_type": "stream",
     "text": [
      "Train Epoch 12: 100%|████████████████████████████████████████████████████| 625/625 [01:47<00:00,  5.83it/s, loss=0.028]\n",
      "Valid Epoch 12: 100%|████████████████████████████████████████████████████| 157/157 [00:08<00:00, 19.54it/s, loss=0.167]\n"
     ]
    },
    {
     "name": "stdout",
     "output_type": "stream",
     "text": [
      "Saving Model With Acc 0.87000\n",
      "Train Loss: 0.05356 Train Acc: 0.98350| Valid Loss: 0.46506 Valid Acc: 0.87000| Best Acc: 0.87000\n",
      "\n"
     ]
    },
    {
     "name": "stderr",
     "output_type": "stream",
     "text": [
      "Train Epoch 13: 100%|████████████████████████████████████████████████████| 625/625 [01:42<00:00,  6.08it/s, loss=0.098]\n",
      "Valid Epoch 13: 100%|████████████████████████████████████████████████████| 157/157 [00:08<00:00, 17.65it/s, loss=0.153]\n"
     ]
    },
    {
     "name": "stdout",
     "output_type": "stream",
     "text": [
      "Train Loss: 0.04336 Train Acc: 0.98745| Valid Loss: 0.49637 Valid Acc: 0.86430| Best Acc: 0.87000\n",
      "\n"
     ]
    },
    {
     "name": "stderr",
     "output_type": "stream",
     "text": [
      "Train Epoch 14: 100%|████████████████████████████████████████████████████| 625/625 [01:45<00:00,  5.91it/s, loss=0.006]\n",
      "Valid Epoch 14: 100%|████████████████████████████████████████████████████| 157/157 [00:07<00:00, 19.90it/s, loss=0.729]\n"
     ]
    },
    {
     "name": "stdout",
     "output_type": "stream",
     "text": [
      "Train Loss: 0.03302 Train Acc: 0.99072| Valid Loss: 0.49373 Valid Acc: 0.86780| Best Acc: 0.87000\n",
      "\n"
     ]
    },
    {
     "data": {
      "image/png": "[encoded data removed]",
      "text/plain": [
       "<Figure size 640x480 with 1 Axes>"
      ]
     },
     "metadata": {},
     "output_type": "display_data"
    }
   ],
   "source": [
    "epochs = 15                              # 訓練次數\n",
    "early_stopping = 7                       # 模型訓練幾次沒進步就停止\n",
    "stop_cnt = 0                             # 計數模型是否有進步的計數器\n",
    "model_path = 'model.ckpt'                # 模型存放路徑\n",
    "show_loss = True                         # 是否顯示訓練折線圖\n",
    "best_acc = 0                             # 最佳的準確率\n",
    "loss_record = {'train':[], 'valid':[]}   # 訓練紀錄\n",
    "\n",
    "for epoch in range(epochs):   \n",
    "    train_loss, train_acc = train(epoch)\n",
    "    valid_loss, valid_acc = valid(epoch)\n",
    "    \n",
    "    loss_record['train'].append(train_loss)\n",
    "    loss_record['valid'].append(valid_loss)\n",
    "    \n",
    "    # 儲存最佳的模型權重\n",
    "    if valid_acc > best_acc:\n",
    "        best_acc = valid_acc\n",
    "        torch.save(model.state_dict(), model_path)\n",
    "        print(f'Saving Model With Acc {best_acc:.5f}')\n",
    "        stop_cnt = 0\n",
    "    else:\n",
    "        stop_cnt+=1\n",
    "    \n",
    "    # Early stopping\n",
    "    if stop_cnt == early_stopping:\n",
    "        output = \"Model can't improve, stop training\"\n",
    "        print('-' * (len(output)+2))\n",
    "        print(f'|{output}|')\n",
    "        print('-' * (len(output)+2))\n",
    "        break\n",
    "\n",
    "    print(f'Train Loss: {train_loss:.5f} Train Acc: {train_acc:.5f}', end='| ')\n",
    "    print(f'Valid Loss: {valid_loss:.5f} Valid Acc: {valid_acc:.5f}', end='| ')\n",
    "    print(f'Best Acc: {best_acc:.5f}', end='\\n\\n')\n",
    "\n",
    "if show_loss:\n",
    "    show_training_loss(loss_record)\n",
    "        "
   ]
  },
  {
   "cell_type": "code",
   "execution_count": 12,
   "id": "1335fbd9",
   "metadata": {},
   "outputs": [
    {
     "data": {
      "text/plain": [
       "TimeSeriesModel(\n",
       "  (embedding): Embedding(29065, 300, padding_idx=0)\n",
       "  (series_model): GRU(300, 128, batch_first=True, bidirectional=True)\n",
       "  (fc): Linear(in_features=256, out_features=1, bias=True)\n",
       "  (sigmoid): Sigmoid()\n",
       ")"
      ]
     },
     "execution_count": 12,
     "metadata": {},
     "output_type": "execute_result"
    }
   ],
   "source": [
    "model = TimeSeriesModel(embedding_dim = 300, hidden_size= 128, model_type = 'GRU').to(device)\n",
    "model.load_state_dict(torch.load(model_path))\n",
    "model.eval()"
   ]
  },
  {
   "cell_type": "code",
   "execution_count": 13,
   "id": "151b7c4d",
   "metadata": {},
   "outputs": [
    {
     "name": "stdout",
     "output_type": "stream",
     "text": [
      "Pred Label: negative\n",
      "Real Label: negative\n",
      "Reivew:\n",
      " first off i want to say that i lean liberal on the political scale and i found the movie offensive . i managed to watch the whole <unk> disgrace of a film . this movie brings a low to original ideas . yes it was original thus my 2 stars instead of 1 . are our film writers that uncreative that they can only come up with this ? ? acting was horrible , and the characters were unlikeable for the most part . the lead lady in the story had no good qualities at all . they made her <unk> into some sort of a bad guy and i did not see that at all . maybe i missed something , i do not know . he was the most down to earth , relevant character in the movie . i did not shell out any money for this garbage . i almost wish peta would come to the rescue of this awful , offensive movie and form a protest . disgusting thats all i have to say anymore !\n"
     ]
    }
   ],
   "source": [
    "label_decoding = {0:'negative', 1:'positive'}\n",
    "text = x_valid[0].unsqueeze(0).to(device)\n",
    "\n",
    "output = model(text)                                     \n",
    "pred = (output.view(-1) > 0.5)\n",
    "label = y_valid.tolist()[0]                                # 取得Label\n",
    "\n",
    "print('Pred Label:',label_decoding[int(pred)])             # 顯示文字 \n",
    "print('Real Label:',label_decoding[label])                 # 顯示文字 \n",
    "print('Reivew:\\n', \" \".join(token_vocab.lookup_tokens(x_valid[0].tolist())))"
   ]
  },
  {
   "cell_type": "code",
   "execution_count": null,
   "id": "61e80ab7",
   "metadata": {},
   "outputs": [],
   "source": []
  }
 ],
 "metadata": {
  "kernelspec": {
   "display_name": "Python 3 (ipykernel)",
   "language": "python",
   "name": "python3"
  },
  "language_info": {
   "codemirror_mode": {
    "name": "ipython",
    "version": 3
   },
   "file_extension": ".py",
   "mimetype": "text/x-python",
   "name": "python",
   "nbconvert_exporter": "python",
   "pygments_lexer": "ipython3",
   "version": "3.7.8"
  }
 },
 "nbformat": 4,
 "nbformat_minor": 5
}
