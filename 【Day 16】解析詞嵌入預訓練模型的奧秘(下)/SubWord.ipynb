{
 "cells": [
  {
   "cell_type": "code",
   "execution_count": 1,
   "id": "d6da6c32-239d-48f9-9785-ce2a326b9e28",
   "metadata": {},
   "outputs": [
    {
     "name": "stdout",
     "output_type": "stream",
     "text": [
      "['<app', 'appl', 'apple', 'ppl', 'pple', 'ple>']\n"
     ]
    }
   ],
   "source": [
    "def create_subwords(word, min_length=3):\n",
    "    subwords = []\n",
    "    length = len(word)\n",
    "    \n",
    "    for start in range(length):\n",
    "        for end in range(start + min_length, length + 1):\n",
    "            subword = word[start:end]\n",
    "            subwords.append(subword)\n",
    "    subwords[0] = \"<\" + subwords[0]\n",
    "    subwords[-1]= subwords[-1]+ \">\" \n",
    "    \n",
    "    return subwords\n",
    "\n",
    "word = \"apple\"\n",
    "subwords = create_subwords(word)\n",
    "print(subwords)"
   ]
  },
  {
   "cell_type": "code",
   "execution_count": 2,
   "id": "e30488fe-d303-48ca-98e6-4e19f08ff4fe",
   "metadata": {},
   "outputs": [],
   "source": [
    "import torch.nn as nn\n",
    "\n",
    "class HierarchicalSoftmax(nn.Module):\n",
    "    def __init__(self, input_size, num_classes):\n",
    "        super(HierarchicalSoftmax, self).__init__()\n",
    "        self.num_classes = num_classes\n",
    "        self.tree = self.build_tree(input_size)\n",
    "\n",
    "    def build_tree(self, input_size):\n",
    "        tree = nn.ModuleList()\n",
    "        for i in range(self.num_classes):\n",
    "            tree.append(nn.Sequential(\n",
    "                nn.Linear(input_size, 1),  \n",
    "                nn.Sigmoid(),\n",
    "            ))\n",
    "        return tree\n",
    "\n",
    "    def forward(self, x):\n",
    "        outputs = []\n",
    "        for i in range(self.num_classes):\n",
    "            output = self.tree[i](x)\n",
    "            outputs.append(output)\n",
    "        return torch.cat(outputs, dim=1)"
   ]
  },
  {
   "cell_type": "code",
   "execution_count": 3,
   "id": "ac1afc44-ee5d-4afd-bd2d-f6c41c78a80e",
   "metadata": {},
   "outputs": [
    {
     "name": "stdout",
     "output_type": "stream",
     "text": [
      "tensor([[0.3040, 0.2945, 0.3813, 0.4524, 0.5232, 0.5590, 0.4761, 0.5235, 0.3246,\n",
      "         0.4809],\n",
      "        [0.7309, 0.5524, 0.4305, 0.5879, 0.3448, 0.4747, 0.4499, 0.5043, 0.4370,\n",
      "         0.5274]], grad_fn=<CatBackward0>)\n"
     ]
    }
   ],
   "source": [
    "import torch\n",
    "\n",
    "\n",
    "input_size = 100\n",
    "num_classes = 10\n",
    "model = HierarchicalSoftmax(input_size, num_classes)\n",
    "\n",
    "batch_size = 2\n",
    "input_data = torch.randn(batch_size, input_size)\n",
    "\n",
    "outputs = model(input_data)\n",
    "print(outputs)"
   ]
  },
  {
   "cell_type": "code",
   "execution_count": null,
   "id": "79cc4f11-d1f2-4c99-be67-d5a0dc17e21a",
   "metadata": {},
   "outputs": [],
   "source": []
  }
 ],
 "metadata": {
  "kernelspec": {
   "display_name": "Python 3 (ipykernel)",
   "language": "python",
   "name": "python3"
  },
  "language_info": {
   "codemirror_mode": {
    "name": "ipython",
    "version": 3
   },
   "file_extension": ".py",
   "mimetype": "text/x-python",
   "name": "python",
   "nbconvert_exporter": "python",
   "pygments_lexer": "ipython3",
   "version": "3.8.10"
  }
 },
 "nbformat": 4,
 "nbformat_minor": 5
}
