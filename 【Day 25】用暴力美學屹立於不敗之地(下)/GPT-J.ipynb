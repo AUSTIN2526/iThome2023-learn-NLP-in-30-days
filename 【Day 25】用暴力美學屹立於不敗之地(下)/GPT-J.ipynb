{
 "cells": [
  {
   "cell_type": "code",
   "execution_count": 52,
   "id": "857ef244-fd37-455c-b912-9b218d37cb1b",
   "metadata": {},
   "outputs": [],
   "source": [
    "!pip install -q  datasets accelerate loralib jmespath\n",
    "!pip install -q git+https://github.com/huggingface/transformers.git@main git+https://github.com/huggingface/peft.git\n",
    "!pip install -q bitsandbytes-windows"
   ]
  },
  {
   "cell_type": "code",
   "execution_count": 1,
   "id": "37e7daad",
   "metadata": {},
   "outputs": [
    {
     "name": "stdout",
     "output_type": "stream",
     "text": [
      "\n",
      "===================================BUG REPORT===================================\n",
      "Welcome to bitsandbytes. For bug reports, please submit your error trace to: https://github.com/TimDettmers/bitsandbytes/issues\n",
      "================================================================================\n",
      "binary_path: c:\\Users\\user\\AppData\\Local\\Programs\\Python\\Python38\\lib\\site-packages\\bitsandbytes\\cuda_setup\\libbitsandbytes_cuda116.dll\n",
      "CUDA SETUP: Loading binary c:\\Users\\user\\AppData\\Local\\Programs\\Python\\Python38\\lib\\site-packages\\bitsandbytes\\cuda_setup\\libbitsandbytes_cuda116.dll...\n"
     ]
    }
   ],
   "source": [
    "import os\n",
    "os.environ[\"CUDA_VISIBLE_DEVICES\"]=\"0\"\n",
    "import torch\n",
    "import torch.nn as nn\n",
    "import bitsandbytes as bnb\n",
    "from transformers import AutoModelForCausalLM\n",
    "\n",
    "model = AutoModelForCausalLM.from_pretrained(\n",
    "    \"EleutherAI/gpt-j-6B\",\n",
    "    load_in_8bit=True, \n",
    "    device_map='auto',\n",
    ")"
   ]
  },
  {
   "cell_type": "code",
   "execution_count": 2,
   "id": "c62e54a4",
   "metadata": {},
   "outputs": [],
   "source": [
    "for param in model.parameters():\n",
    "  param.requires_grad = False \n",
    "  if param.ndim == 1:\n",
    "    param.data = param.data.to(torch.float16)\n",
    "\n",
    "model.gradient_checkpointing_enable()  \n",
    "model.enable_input_require_grads()\n",
    "\n",
    "class CastOutputToFloat(nn.Sequential):\n",
    "  def forward(self, x): return super().forward(x).to(torch.float16)\n",
    "model.lm_head = CastOutputToFloat(model.lm_head)"
   ]
  },
  {
   "cell_type": "code",
   "execution_count": 3,
   "id": "60b79987",
   "metadata": {},
   "outputs": [],
   "source": [
    "from peft import LoraConfig, get_peft_model \n",
    "\n",
    "config = LoraConfig(\n",
    "    r=16,\n",
    "    lora_alpha=32,\n",
    "    target_modules=[\"q_proj\", \"v_proj\"],\n",
    "    lora_dropout=0.05,\n",
    "    bias=\"none\",\n",
    "    task_type=\"CAUSAL_LM\"\n",
    ")\n",
    "\n",
    "model = get_peft_model(model, config)\n"
   ]
  },
  {
   "cell_type": "code",
   "execution_count": 4,
   "id": "627ad2d9",
   "metadata": {},
   "outputs": [
    {
     "name": "stdout",
     "output_type": "stream",
     "text": [
      "trainable params: 7340032 || all params: 6058222816 || trainable%: 0.12115817167725645\n"
     ]
    }
   ],
   "source": [
    "def print_trainable_parameters(model):\n",
    "    trainable_params = 0\n",
    "    all_param = 0\n",
    "    for _, param in model.named_parameters():\n",
    "        all_param += param.numel()\n",
    "        if param.requires_grad:\n",
    "            trainable_params += param.numel()\n",
    "    print(\n",
    "        f\"trainable params: {trainable_params} || all params: {all_param} || trainable%: {100 * trainable_params / all_param}\"\n",
    "    )\n",
    "\n",
    "print_trainable_parameters(model)"
   ]
  },
  {
   "cell_type": "code",
   "execution_count": 5,
   "id": "ea6024d3",
   "metadata": {},
   "outputs": [],
   "source": [
    "import json \n",
    "\n",
    "def load_json_data(path):\n",
    "    with open(path) as f:\n",
    "        json_data = json.load(f)\n",
    "    return json_data['data']\n",
    "\n",
    "json_datas = load_json_data('data/train-v2.0.json')"
   ]
  },
  {
   "cell_type": "code",
   "execution_count": 6,
   "id": "95470655-773e-4295-9bdb-fe1aef17386d",
   "metadata": {},
   "outputs": [],
   "source": [
    "from sklearn.model_selection import train_test_split\n",
    "train_data = []\n",
    "for json_data in json_datas:\n",
    "    paragraphs = json_data['paragraphs'][0]\n",
    "    context = paragraphs['context']\n",
    "    qas = paragraphs['qas']\n",
    "    for qa in qas:\n",
    "        question = qa['question']   \n",
    "\n",
    "        if qa['is_impossible']:\n",
    "            answer = 'answers not in context'\n",
    "        else:\n",
    "            answer = qa['answers'][0]['text']\n",
    "\n",
    "        output = f'Read the context and question to find the correct answer:\\n context:{context} question:{question} answer:{answer}' \n",
    "        train_data.append(output)\n",
    "        \n",
    "x_train, x_valid = train_test_split(train_data, train_size=0.8, random_state=46, shuffle=False)"
   ]
  },
  {
   "cell_type": "code",
   "execution_count": 6,
   "id": "59a3a945-b3b1-42ed-ac87-dd5341843183",
   "metadata": {},
   "outputs": [
    {
     "name": "stderr",
     "output_type": "stream",
     "text": [
      "Special tokens have been added in the vocabulary, make sure the associated word embeddings are fine-tuned or trained.\n"
     ]
    }
   ],
   "source": [
    "from transformers import AutoTokenizer\n",
    "tokenizer = AutoTokenizer.from_pretrained(\"EleutherAI/gpt-j-6B\")\n",
    "tokenizer.pad_token = tokenizer.eos_token"
   ]
  },
  {
   "cell_type": "code",
   "execution_count": 9,
   "id": "7316efbe-3bbb-47b8-98c9-4eaeae3e678f",
   "metadata": {},
   "outputs": [],
   "source": [
    "from torch.utils.data import Dataset, DataLoader\n",
    "import torch\n",
    "class QAdataset(Dataset):\n",
    "    def __init__(self, x):\n",
    "        self.x = x\n",
    "\n",
    "          \n",
    "    def __getitem__(self, index):\n",
    "        return self.x[index]\n",
    "            \n",
    "       \n",
    "    def __len__(self):\n",
    "        return len(self.x)\n",
    "    \n",
    "trainset = QAdataset(x_train)\n",
    "validset = QAdataset(x_valid)"
   ]
  },
  {
   "cell_type": "code",
   "execution_count": 25,
   "id": "8e0073ea-ed01-4418-963a-409e902b8bcc",
   "metadata": {},
   "outputs": [],
   "source": [
    "def collate_fn(batch):    \n",
    "    x = list(batch)\n",
    "    x = tokenizer(x, truncation=True, padding=\"longest\", return_tensors='pt')\n",
    "   \n",
    "    return {**x, 'labels':x.input_ids}\n",
    "    \n",
    "train_loader = DataLoader(trainset, batch_size = 8, shuffle = True, num_workers = 0, collate_fn = collate_fn)\n",
    "valid_loader = DataLoader(validset, batch_size = 8, shuffle = True, num_workers = 0, collate_fn = collate_fn)"
   ]
  },
  {
   "cell_type": "code",
   "execution_count": 28,
   "id": "294b7ede-9dab-40a6-bdb8-e64f0265f5dc",
   "metadata": {},
   "outputs": [],
   "source": [
    "import torch.optim as optim\n",
    "device = torch.device('cuda' if torch.cuda.is_available() else 'cpu')\n",
    "\n",
    "optimizer = optim.Adam(model.parameters(), lr=1e-4)"
   ]
  },
  {
   "cell_type": "code",
   "execution_count": 29,
   "id": "3f6a74ad-5fd8-42ac-a4ad-773864947c2a",
   "metadata": {},
   "outputs": [],
   "source": [
    "from tqdm import tqdm\n",
    "import matplotlib.pyplot as plt \n",
    "\n",
    "def train(epoch):\n",
    "    train_loss = 0\n",
    "    train_pbar = tqdm(train_loader, position=0, leave=True) # 宣告進度條\n",
    "    \n",
    "    model.train() \n",
    "    for input_datas in train_pbar: \n",
    "        for key in input_datas.keys():\n",
    "            input_datas[key] = input_datas[key].to(device)\n",
    "        optimizer.zero_grad() \n",
    "        \n",
    "        outputs = model(**input_datas) \n",
    "        \n",
    "        loss = outputs.loss\n",
    "\n",
    "        loss.backward()\n",
    "        optimizer.step() \n",
    "        \n",
    "        train_pbar.set_description(f'Train Epoch {epoch}') \n",
    "        train_pbar.set_postfix({'loss':f'{loss:.3f}'})\n",
    "\n",
    "        train_loss += loss.item()  \n",
    "    return train_loss/len(train_loader)\n",
    "\n",
    "def valid(epoch):\n",
    "    valid_loss = 0\n",
    "    valid_pbar = tqdm(valid_loader, position=0, leave=True)\n",
    "    \n",
    "    model.eval()\n",
    "    with torch.no_grad(): \n",
    "        for input_datas in valid_pbar:\n",
    "            for key in input_datas.keys():\n",
    "                input_datas[key] = input_datas[key].to(device)\n",
    "        \n",
    "            outputs = model(**input_datas) \n",
    "            loss = outputs.loss\n",
    "            \n",
    "            valid_pbar.set_description(f'Valid Epoch {epoch}')\n",
    "            valid_pbar.set_postfix({'loss':f'{loss:.3f}'})\n",
    "\n",
    "            valid_loss += loss.item()\n",
    "\n",
    "    return valid_loss/len(valid_loader)\n",
    "\n",
    "\n",
    "def show_training_loss(loss_record):\n",
    "    train_loss, valid_loss = [i for i in loss_record.values()]\n",
    "    \n",
    "    plt.plot(train_loss)\n",
    "    plt.plot(valid_loss)\n",
    "    #標題\n",
    "    plt.title('Result')\n",
    "    #y軸標籤\n",
    "    plt.ylabel('Loss')\n",
    "    #x軸標籤\n",
    "    plt.xlabel('Epoch')\n",
    "    #顯示折線的名稱\n",
    "    plt.legend(['train', 'valid'], loc='upper left')\n",
    "    #顯示折線圖\n",
    "    plt.show()"
   ]
  },
  {
   "cell_type": "code",
   "execution_count": 30,
   "id": "0964da4a-374f-40ac-b131-350c5d928c15",
   "metadata": {},
   "outputs": [
    {
     "name": "stderr",
     "output_type": "stream",
     "text": [
      "  0%|          | 0/386 [00:00<?, ?it/s]`use_cache=True` is incompatible with gradient checkpointing. Setting `use_cache=False`...\n",
      "Train Epoch 0: 100%|██████████| 386/386 [11:40<00:00,  1.81s/it, loss=1.146]\n",
      "Valid Epoch 0: 100%|██████████| 97/97 [00:45<00:00,  2.12it/s, loss=1.303]\n"
     ]
    },
    {
     "name": "stdout",
     "output_type": "stream",
     "text": [
      "Saving Model With Loss 1.36042\n",
      "Train Loss: 1.31501| Valid Loss: 1.36042| Best Loss: 1.36042\n",
      "\n"
     ]
    },
    {
     "name": "stderr",
     "output_type": "stream",
     "text": [
      "Train Epoch 1: 100%|██████████| 386/386 [11:38<00:00,  1.81s/it, loss=0.473]\n",
      "Valid Epoch 1: 100%|██████████| 97/97 [00:45<00:00,  2.13it/s, loss=1.131]\n"
     ]
    },
    {
     "name": "stdout",
     "output_type": "stream",
     "text": [
      "Train Loss: 0.65462| Valid Loss: 1.74736| Best Loss: 1.36042\n",
      "\n"
     ]
    },
    {
     "name": "stderr",
     "output_type": "stream",
     "text": [
      "Train Epoch 2: 100%|██████████| 386/386 [11:28<00:00,  1.78s/it, loss=0.189]\n",
      "Valid Epoch 2: 100%|██████████| 97/97 [00:45<00:00,  2.15it/s, loss=2.363]\n"
     ]
    },
    {
     "name": "stdout",
     "output_type": "stream",
     "text": [
      "Train Loss: 0.29500| Valid Loss: 1.95673| Best Loss: 1.36042\n",
      "\n"
     ]
    },
    {
     "name": "stderr",
     "output_type": "stream",
     "text": [
      "Train Epoch 3: 100%|██████████| 386/386 [11:31<00:00,  1.79s/it, loss=0.214]\n",
      "Valid Epoch 3: 100%|██████████| 97/97 [00:45<00:00,  2.11it/s, loss=2.809]\n"
     ]
    },
    {
     "name": "stdout",
     "output_type": "stream",
     "text": [
      "Train Loss: 0.17439| Valid Loss: 2.09798| Best Loss: 1.36042\n",
      "\n"
     ]
    },
    {
     "name": "stderr",
     "output_type": "stream",
     "text": [
      "Train Epoch 4: 100%|██████████| 386/386 [11:36<00:00,  1.80s/it, loss=0.121]\n",
      "Valid Epoch 4: 100%|██████████| 97/97 [00:45<00:00,  2.11it/s, loss=2.658]\n"
     ]
    },
    {
     "name": "stdout",
     "output_type": "stream",
     "text": [
      "Train Loss: 0.13431| Valid Loss: 2.24295| Best Loss: 1.36042\n",
      "\n"
     ]
    },
    {
     "name": "stderr",
     "output_type": "stream",
     "text": [
      "Train Epoch 5: 100%|██████████| 386/386 [11:33<00:00,  1.80s/it, loss=0.082]\n",
      "Valid Epoch 5: 100%|██████████| 97/97 [00:45<00:00,  2.11it/s, loss=1.575]\n"
     ]
    },
    {
     "name": "stdout",
     "output_type": "stream",
     "text": [
      "Train Loss: 0.11732| Valid Loss: 2.26959| Best Loss: 1.36042\n",
      "\n"
     ]
    },
    {
     "name": "stderr",
     "output_type": "stream",
     "text": [
      "Train Epoch 6: 100%|██████████| 386/386 [11:32<00:00,  1.79s/it, loss=0.127]\n",
      "Valid Epoch 6: 100%|██████████| 97/97 [00:46<00:00,  2.09it/s, loss=2.889]\n"
     ]
    },
    {
     "name": "stdout",
     "output_type": "stream",
     "text": [
      "Train Loss: 0.10666| Valid Loss: 2.32638| Best Loss: 1.36042\n",
      "\n"
     ]
    },
    {
     "name": "stderr",
     "output_type": "stream",
     "text": [
      "Train Epoch 7: 100%|██████████| 386/386 [11:32<00:00,  1.80s/it, loss=0.087]\n",
      "Valid Epoch 7: 100%|██████████| 97/97 [00:45<00:00,  2.12it/s, loss=2.387]\n"
     ]
    },
    {
     "name": "stdout",
     "output_type": "stream",
     "text": [
      "Train Loss: 0.09907| Valid Loss: 2.38615| Best Loss: 1.36042\n",
      "\n"
     ]
    },
    {
     "name": "stderr",
     "output_type": "stream",
     "text": [
      "Train Epoch 8: 100%|██████████| 386/386 [11:27<00:00,  1.78s/it, loss=0.104]\n",
      "Valid Epoch 8: 100%|██████████| 97/97 [00:45<00:00,  2.11it/s, loss=2.891]\n"
     ]
    },
    {
     "name": "stdout",
     "output_type": "stream",
     "text": [
      "Train Loss: 0.08873| Valid Loss: 2.39994| Best Loss: 1.36042\n",
      "\n"
     ]
    },
    {
     "name": "stderr",
     "output_type": "stream",
     "text": [
      "Train Epoch 9: 100%|██████████| 386/386 [11:27<00:00,  1.78s/it, loss=0.073]\n",
      "Valid Epoch 9: 100%|██████████| 97/97 [00:46<00:00,  2.08it/s, loss=2.621]\n"
     ]
    },
    {
     "name": "stdout",
     "output_type": "stream",
     "text": [
      "Train Loss: 0.08090| Valid Loss: 2.43657| Best Loss: 1.36042\n",
      "\n"
     ]
    },
    {
     "name": "stderr",
     "output_type": "stream",
     "text": [
      "Train Epoch 10: 100%|██████████| 386/386 [11:36<00:00,  1.80s/it, loss=0.042]\n",
      "Valid Epoch 10: 100%|██████████| 97/97 [00:46<00:00,  2.10it/s, loss=3.531]"
     ]
    },
    {
     "name": "stdout",
     "output_type": "stream",
     "text": [
      "------------------------------------\n",
      "|Model can't improve, stop training|\n",
      "------------------------------------\n"
     ]
    },
    {
     "name": "stderr",
     "output_type": "stream",
     "text": [
      "\n"
     ]
    },
    {
     "data": {
      "image/png": "[encoded data removed]",
      "text/plain": [
       "<Figure size 640x480 with 1 Axes>"
      ]
     },
     "metadata": {},
     "output_type": "display_data"
    }
   ],
   "source": [
    "epochs = 100                             # 訓練次數\n",
    "early_stopping = 10                      # 模型訓練幾次沒進步就停止\n",
    "stop_cnt = 0                             # 計數模型是否有進步的計數器\n",
    "model_path = 'model.ckpt'                # 模型存放路徑\n",
    "show_loss = True                         # 是否顯示訓練折線圖\n",
    "best_loss = float('inf')                 # 最佳的Loss\n",
    "loss_record = {'train':[], 'valid':[]}   # 訓練紀錄\n",
    "\n",
    "for epoch in range(epochs):   \n",
    "    train_loss = train(epoch)\n",
    "    valid_loss = valid(epoch)\n",
    "    \n",
    "    loss_record['train'].append(train_loss)\n",
    "    loss_record['valid'].append(valid_loss)\n",
    "    \n",
    "    # 儲存最佳的模型權重\n",
    "    if valid_loss < best_loss:\n",
    "        best_loss = valid_loss\n",
    "        torch.save(model.state_dict(), model_path)\n",
    "        print(f'Saving Model With Loss {best_loss:.5f}')\n",
    "        stop_cnt = 0\n",
    "    else:\n",
    "        stop_cnt+=1\n",
    "    \n",
    "    # Early stopping\n",
    "    if stop_cnt == early_stopping:\n",
    "        output = \"Model can't improve, stop training\"\n",
    "        print('-' * (len(output)+2))\n",
    "        print(f'|{output}|')\n",
    "        print('-' * (len(output)+2))\n",
    "        break\n",
    "\n",
    "    print(f'Train Loss: {train_loss:.5f}' , end='| ')\n",
    "    print(f'Valid Loss: {valid_loss:.5f}' , end='| ')\n",
    "    print(f'Best Loss: {best_loss:.5f}', end='\\n\\n')\n",
    "\n",
    "\n",
    "if show_loss:\n",
    "    show_training_loss(loss_record)"
   ]
  },
  {
   "cell_type": "code",
   "execution_count": null,
   "id": "e45ffa53",
   "metadata": {},
   "outputs": [],
   "source": [
    "model.load_state_dict(torch.load(model_path))"
   ]
  },
  {
   "cell_type": "code",
   "execution_count": 59,
   "id": "dbc63c01",
   "metadata": {},
   "outputs": [
    {
     "name": "stderr",
     "output_type": "stream",
     "text": [
      "Setting `pad_token_id` to `eos_token_id`:50256 for open-end generation.\n",
      "c:\\Users\\user\\AppData\\Local\\Programs\\Python\\Python38\\lib\\site-packages\\transformers\\generation\\utils.py:1539: UserWarning: You are calling .generate() with the `input_ids` being on a device type different than your model's device. `input_ids` is on cpu, whereas the model is on cuda. You may experience unexpected behaviors or slower generation. Please make sure that you have put `input_ids` to the correct device by calling for example input_ids = input_ids.to('cuda') before running `.generate()`.\n",
      "  warnings.warn(\n"
     ]
    },
    {
     "name": "stdout",
     "output_type": "stream",
     "text": [
      "context:A railway electrification system supplies electric power to railway trains and trams without an on-board prime mover or local fuel supply. Electrification has many advantages but requires significant capital expenditure. Selection of an electrification system is based on economics of energy supply, maintenance, and capital cost compared to the revenue obtained for freight and passenger traffic. Different systems are used for urban and intercity areas; some electric locomotives can switch to different supply voltages to allow flexibility in operation. question:A railway electrification system supplies power to trains and trams with an on-board what? \n",
      "answers not in context\n",
      "answers not in context\n"
     ]
    }
   ],
   "source": [
    "inputs_text = 'context:A railway electrification system supplies electric power to railway trains and trams without an on-board prime mover or local fuel supply. Electrification has many advantages but requires significant capital expenditure. Selection of an electrification system is based on economics of energy supply, maintenance, and capital cost compared to the revenue obtained for freight and passenger traffic. Different systems are used for urban and intercity areas; some electric locomotives can switch to different supply voltages to allow flexibility in operation. question:A railway electrification system supplies power to trains and trams with an on-board what'\n",
    "input_ids = tokenizer(inputs_text, return_tensors=\"pt\")\n",
    "generated_ids = model.generate(**input_ids, num_beams = 2, max_length = 132, repetition_penalty = 2.5, length_penalty = 1.0, early_stopping = True)\n",
    "generated_tokens = tokenizer.decode(generated_ids[0], skip_special_tokens=True).split('answer:')\n",
    "print(generated_tokens[0])\n",
    "print(generated_tokens[1])\n",
    "print(x_valid[0].split('answer:')[2])"
   ]
  }
 ],
 "metadata": {
  "kernelspec": {
   "display_name": "Python 3 (ipykernel)",
   "language": "python",
   "name": "python3"
  },
  "language_info": {
   "codemirror_mode": {
    "name": "ipython",
    "version": 3
   },
   "file_extension": ".py",
   "mimetype": "text/x-python",
   "name": "python",
   "nbconvert_exporter": "python",
   "pygments_lexer": "ipython3",
   "version": "3.8.10"
  }
 },
 "nbformat": 4,
 "nbformat_minor": 5
}
