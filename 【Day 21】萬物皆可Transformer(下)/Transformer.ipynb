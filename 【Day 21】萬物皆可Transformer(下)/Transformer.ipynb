{
 "cells": [
  {
   "cell_type": "code",
   "execution_count": 1,
   "id": "b46f82a7-6c0a-4444-8f5e-a377095e9749",
   "metadata": {},
   "outputs": [],
   "source": [
    "import pandas as pd\n",
    "import os\n",
    "\n",
    "\n",
    "def load_data(path):\n",
    "    x_train, y_train, x_valid, y_valid= [], [], [], []\n",
    "    for types in os.listdir(path):\n",
    "        classes_path = f'{path}/{types}'\n",
    "        for classes in os.listdir(classes_path):\n",
    "            file_path = f'{classes_path}/{classes}'\n",
    "            df = pd.read_csv(file_path).values\n",
    "            input_text, summary = df[:,1], df[:,0]\n",
    "            if types == 'Train':\n",
    "                x_train.extend(input_text)\n",
    "                y_train.extend(summary)\n",
    "            \n",
    "            else:\n",
    "                x_valid.extend(input_text)\n",
    "                y_valid.extend(summary)\n",
    "    return  x_train, y_train, x_valid, y_valid\n",
    "\n",
    "x_train, y_train, x_valid, y_valid = load_data('SummaryData')"
   ]
  },
  {
   "cell_type": "code",
   "execution_count": 2,
   "id": "cd56bf7f",
   "metadata": {},
   "outputs": [],
   "source": [
    "from torchtext.data.utils import get_tokenizer\n",
    "from torchtext.vocab import vocab\n",
    "from collections import Counter\n",
    "\n",
    "\n",
    "def get_vocab(inputs, tokenizer, train_len, special = ('<PAD>', '<SOS>','<EOS>','<UNK>')):\n",
    "    counter = Counter()\n",
    "\n",
    "\n",
    "    new_inputs = []\n",
    "    for sentence in inputs:\n",
    "        tokens = tokenizer(sentence)\n",
    "        counter.update(tokens)\n",
    "        new_inputs.append(tokens)\n",
    "\n",
    "    token_vocab = vocab(counter, min_freq=5, specials=special)\n",
    "\n",
    "    return token_vocab, new_inputs[:train_len], new_inputs[train_len:]\n",
    "\n",
    "all_input = x_train + x_valid\n",
    "all_target = y_train + y_valid\n",
    "tokenizer = get_tokenizer('basic_english')\n",
    "\n",
    "input_vocab, x_train, x_valid= get_vocab(all_input, tokenizer, len(x_train))\n",
    "traget_vocab, y_train, y_valid= get_vocab(all_target, tokenizer, len(y_train))\n",
    "\n",
    "\n",
    "\n",
    "\n",
    "\n",
    "input_vocab.set_default_index(input_vocab.get_stoi()['<UNK>'])\n",
    "traget_vocab.set_default_index(traget_vocab.get_stoi()['<UNK>'])\n",
    "\n",
    "# Ecoder與Decoder的Embedding輸入大小\n",
    "INPUT_DIM =  len(input_vocab)\n",
    "OUTPUT_DIN = len(traget_vocab)\n",
    "\n",
    "# 取得給予模型的索引值\n",
    "SOS_IDX = input_vocab.get_stoi()['<SOS>']\n",
    "EOS_IDX = input_vocab.get_stoi()['<EOS>']\n",
    "PAD_IDX = input_vocab.get_stoi()['<PAD>']"
   ]
  },
  {
   "cell_type": "code",
   "execution_count": 3,
   "id": "320f11d4",
   "metadata": {},
   "outputs": [],
   "source": [
    "import torch\n",
    "\n",
    "def token2num(inputs, targets):\n",
    "    encoder_input, decoder_input = [], []\n",
    "    for i in range(len(inputs)):\n",
    "        encoder_in = input_vocab.lookup_indices(inputs[i])[:499] + [EOS_IDX]\n",
    "        decoder_in = traget_vocab.lookup_indices(targets[i])[:499] + [EOS_IDX]\n",
    "\n",
    "        encoder_input.append(torch.tensor(encoder_in))\n",
    "        decoder_input.append(torch.tensor(decoder_in))\n",
    "    return encoder_input, decoder_input\n",
    "\n",
    "x_train, y_train= token2num(x_train, y_train)\n",
    "x_valid, y_valid= token2num(x_valid, y_valid)"
   ]
  },
  {
   "cell_type": "code",
   "execution_count": 4,
   "id": "265bd469-ad5d-4f0b-9259-71e3aae50310",
   "metadata": {},
   "outputs": [],
   "source": [
    "from torch.utils.data import Dataset, DataLoader\n",
    "\n",
    "class SummaryeDataset(Dataset):\n",
    "    def __init__(self, x, y):\n",
    "        self.x = x\n",
    "        self.y = y\n",
    "          \n",
    "    def __getitem__(self, index):\n",
    "        return self.x[index], self.y[index]\n",
    "       \n",
    "    def __len__(self):\n",
    "        return len(self.x)\n",
    "    \n",
    "trainset = SummaryeDataset(x_train, y_train)\n",
    "validset = SummaryeDataset(x_valid, y_valid)"
   ]
  },
  {
   "cell_type": "code",
   "execution_count": 5,
   "id": "d565596d",
   "metadata": {},
   "outputs": [],
   "source": [
    "from torch.nn.utils.rnn import pad_sequence\n",
    "\n",
    "def collate_fn(batch):    \n",
    "    (x, y) = zip(*batch)\n",
    "    \n",
    "    pad_data = pad_sequence(x + y, padding_value=PAD_IDX, batch_first=True)\n",
    "    src, tgt = torch.split(pad_data, split_size_or_sections=[len(x), len(y)], dim=0)\n",
    "\n",
    "  \n",
    "\n",
    "    return src.permute(1, 0) , tgt.permute(1, 0)\n",
    "train_loader = DataLoader(trainset, batch_size = 32, shuffle = True, num_workers = 0, pin_memory = True, collate_fn = collate_fn)\n",
    "valid_loader = DataLoader(validset, batch_size = 32, shuffle = True, num_workers = 0, pin_memory = True, collate_fn = collate_fn)\n"
   ]
  },
  {
   "cell_type": "code",
   "execution_count": 6,
   "id": "76841f54",
   "metadata": {},
   "outputs": [],
   "source": [
    "from torch import Tensor\n",
    "import torch\n",
    "import torch.nn as nn\n",
    "from torch.nn import Transformer\n",
    "import math\n",
    "device = torch.device('cuda' if torch.cuda.is_available() else 'cpu')\n",
    "\n",
    "\n",
    "class PositionalEncoding(nn.Module):\n",
    "    def __init__(self,\n",
    "                 emb_size: int,\n",
    "                 dropout: float,\n",
    "                 maxlen: int = 500):\n",
    "        super(PositionalEncoding, self).__init__()\n",
    "        den = torch.exp(- torch.arange(0, emb_size, 2)* math.log(10000) / emb_size)\n",
    "        pos = torch.arange(0, maxlen).reshape(maxlen, 1)\n",
    "        pos_embedding = torch.zeros((maxlen, emb_size))\n",
    "        pos_embedding[:, 0::2] = torch.sin(pos * den)\n",
    "        pos_embedding[:, 1::2] = torch.cos(pos * den)\n",
    "        pos_embedding = pos_embedding.unsqueeze(-2)\n",
    "\n",
    "        self.dropout = nn.Dropout(dropout)\n",
    "        self.register_buffer('pos_embedding', pos_embedding)\n",
    "\n",
    "    def forward(self, token_embedding: Tensor):\n",
    "        return self.dropout(token_embedding + self.pos_embedding[:token_embedding.size(0), :])\n",
    "    \n",
    "\n",
    "class TokenEmbedding(nn.Module):\n",
    "    def __init__(self, vocab_size: int, emb_size):\n",
    "        super(TokenEmbedding, self).__init__()\n",
    "        self.embedding = nn.Embedding(vocab_size, emb_size)\n",
    "        self.emb_size = emb_size\n",
    "\n",
    "    def forward(self, tokens: Tensor):\n",
    "        return self.embedding(tokens.long()) * math.sqrt(self.emb_size)\n",
    "    \n",
    "\n",
    "class Seq2SeqTransformer(nn.Module):\n",
    "    def __init__(self, num_encoder_layers: int,  # Encoder數量\n",
    "                 num_decoder_layers: int,        # Decoder數量\n",
    "                 emb_size: int,                  # Embedding輸出\n",
    "                 nhead: int,                     # head的數量\n",
    "                 src_vocab_size: int,            # Encoder Embedding大小\n",
    "                 tgt_vocab_size: int,            # Deocder Embedding大小\n",
    "                 dim_feedforward: int = 512,     # feedforward神經元數量\n",
    "                 dropout: float = 0.1            # 每層丟棄多少神經元\n",
    "            ):\n",
    "        super(Seq2SeqTransformer, self).__init__()\n",
    "        self.transformer = Transformer(d_model=emb_size,\n",
    "                                       nhead=nhead,\n",
    "                                       num_encoder_layers=num_encoder_layers,\n",
    "                                       num_decoder_layers=num_decoder_layers,\n",
    "                                       dim_feedforward=dim_feedforward,\n",
    "                                       dropout=dropout)\n",
    "        self.generator = nn.Linear(emb_size, tgt_vocab_size)\n",
    "        self.src_tok_emb = TokenEmbedding(src_vocab_size, emb_size)\n",
    "        self.tgt_tok_emb = TokenEmbedding(tgt_vocab_size, emb_size)\n",
    "        self.positional_encoding = PositionalEncoding(\n",
    "            emb_size, dropout=dropout)\n",
    "\n",
    "    def forward(self,\n",
    "                src: Tensor,         # Encoder輸入\n",
    "                trg: Tensor,         # Decoder輸入\n",
    "                src_mask: Tensor,    # Encoder輸入忽略PAD_IDX的索引\n",
    "                tgt_mask: Tensor,    # Decoder輸入忽略PAD_IDX的索引\n",
    "                src_padding_mask: Tensor,\n",
    "                tgt_padding_mask: Tensor,\n",
    "                memory_key_padding_mask: Tensor):\n",
    "        src_emb = self.positional_encoding(self.src_tok_emb(src))\n",
    "        tgt_emb = self.positional_encoding(self.tgt_tok_emb(trg))\n",
    "        outs = self.transformer(src_emb, tgt_emb, src_mask, tgt_mask, None,\n",
    "                                src_padding_mask, tgt_padding_mask, memory_key_padding_mask)\n",
    "        return self.generator(outs)\n",
    "\n",
    "    def encode(self, src: Tensor, src_mask: Tensor):\n",
    "        return self.transformer.encoder(self.positional_encoding(\n",
    "                            self.src_tok_emb(src)), src_mask)\n",
    "\n",
    "    def decode(self, tgt: Tensor, memory: Tensor, tgt_mask: Tensor):\n",
    "        return self.transformer.decoder(self.positional_encoding(\n",
    "                          self.tgt_tok_emb(tgt)), memory,\n",
    "                          tgt_mask)"
   ]
  },
  {
   "cell_type": "code",
   "execution_count": 7,
   "id": "0ec83631",
   "metadata": {},
   "outputs": [
    {
     "name": "stderr",
     "output_type": "stream",
     "text": [
      "C:\\Users\\user\\AppData\\Roaming\\Python\\Python38\\site-packages\\torch\\nn\\modules\\transformer.py:282: UserWarning: enable_nested_tensor is True, but self.use_nested_tensor is False because encoder_layer.self_attn.batch_first was not True(use batch_first for better inference performance)\n",
      "  warnings.warn(f\"enable_nested_tensor is True, but self.use_nested_tensor is False because {why_not_sparsity_fast_path}\")\n"
     ]
    }
   ],
   "source": [
    "EMB_SIZE = 512\n",
    "NHEAD = 8\n",
    "FFN_HID_DIM = 512\n",
    "BATCH_SIZE = 128\n",
    "NUM_ENCODER_LAYERS = 3\n",
    "NUM_DECODER_LAYERS = 3\n",
    "\n",
    "transformer = Seq2SeqTransformer(NUM_ENCODER_LAYERS, NUM_DECODER_LAYERS, EMB_SIZE,\n",
    "                                 NHEAD, INPUT_DIM, OUTPUT_DIN, FFN_HID_DIM)\n",
    "\n",
    "\n",
    "\n",
    "model = transformer.to(device)\n",
    "\n",
    "criterion = torch.nn.CrossEntropyLoss(ignore_index=PAD_IDX)\n",
    "\n",
    "optimizer = torch.optim.Adam(model.parameters(), lr=0.0001, betas=(0.9, 0.98), eps=1e-9)"
   ]
  },
  {
   "cell_type": "code",
   "execution_count": 8,
   "id": "90322220",
   "metadata": {},
   "outputs": [],
   "source": [
    "def generate_square_subsequent_mask(sz):\n",
    "    mask = (torch.triu(torch.ones((sz, sz), device=device)) == 1).transpose(0, 1)\n",
    "    mask = mask.float().masked_fill(mask == 0, float('-inf')).masked_fill(mask == 1, float(0.0))\n",
    "    return mask\n",
    "\n",
    "\n",
    "def create_mask(src, tgt):\n",
    "    src_seq_len = src.shape[0]\n",
    "    tgt_seq_len = tgt.shape[0]\n",
    "\n",
    "    tgt_mask = generate_square_subsequent_mask(tgt_seq_len)\n",
    "    src_mask = torch.zeros((src_seq_len, src_seq_len),device=device).type(torch.bool)\n",
    "\n",
    "    src_padding_mask = (src == PAD_IDX).transpose(0, 1)\n",
    "    tgt_padding_mask = (tgt == PAD_IDX).transpose(0, 1)\n",
    "    return src_mask, tgt_mask, src_padding_mask, tgt_padding_mask"
   ]
  },
  {
   "cell_type": "code",
   "execution_count": 9,
   "id": "ff046618",
   "metadata": {},
   "outputs": [],
   "source": [
    "from tqdm import tqdm\n",
    "import matplotlib.pyplot as plt \n",
    "\n",
    "def train(epoch):\n",
    "    train_loss = 0\n",
    "    train_pbar = tqdm(train_loader, position=0, leave=True) \n",
    "\n",
    "    model.train()\n",
    "    for input_datas in train_pbar: \n",
    "        \n",
    "        src, tgt = [i.to(device) for i in input_datas]\n",
    "        tgt_input = tgt[:-1, :]\n",
    "        src_mask, tgt_mask, src_padding_mask, tgt_padding_mask = create_mask(src, tgt_input)\n",
    "\n",
    "        logits = model(src, tgt_input, src_mask, tgt_mask,src_padding_mask, tgt_padding_mask, src_padding_mask)\n",
    "        optimizer.zero_grad()\n",
    "        tgt_out = tgt[1:, :]\n",
    "        loss = criterion(logits.reshape(-1, logits.shape[-1]), tgt_out.reshape(-1))\n",
    "        loss.backward()\n",
    "        optimizer.step()\n",
    "\n",
    "        train_pbar.set_description(f'Train Epoch {epoch}')  \n",
    "        train_pbar.set_postfix({'loss':f'{loss:.3f}'}) \n",
    "\n",
    "        train_loss += loss.item()\n",
    "\n",
    "    return train_loss/len(train_loader)\n",
    "\n",
    "def valid(epoch):\n",
    "    valid_loss = 0\n",
    "    valid_pbar = tqdm(valid_loader, position=0, leave=True) \n",
    "\n",
    "    model.eval()\n",
    "    with torch.no_grad(): \n",
    "        for input_datas in valid_pbar: \n",
    "            \n",
    "            src, tgt = [i.to(device) for i in input_datas]\n",
    "\n",
    "            tgt_input = tgt[:-1, :]\n",
    "            src_mask, tgt_mask, src_padding_mask, tgt_padding_mask = create_mask(src, tgt_input)\n",
    "\n",
    "            logits = model(src, tgt_input, src_mask, tgt_mask,src_padding_mask, tgt_padding_mask, src_padding_mask)\n",
    "\n",
    "            tgt_out = tgt[1:, :]\n",
    "            loss = criterion(logits.reshape(-1, logits.shape[-1]), tgt_out.reshape(-1))\n",
    "\n",
    "            valid_pbar.set_description(f'Valid Epoch {epoch}')  \n",
    "            valid_pbar.set_postfix({'loss':f'{loss:.3f}'}) \n",
    "    \n",
    "            valid_loss += loss.item()\n",
    "    \n",
    "        return valid_loss/len(valid_loader)\n",
    "    \n",
    "def show_training_loss(loss_record):\n",
    "    train_loss, valid_loss = [i for i in loss_record.values()]\n",
    "    \n",
    "    plt.plot(train_loss)\n",
    "    plt.plot(valid_loss)\n",
    "    #標題\n",
    "    plt.title('Result')\n",
    "    #y軸標籤\n",
    "    plt.ylabel('Loss')\n",
    "    #x軸標籤\n",
    "    plt.xlabel('Epoch')\n",
    "    #顯示折線的名稱\n",
    "    plt.legend(['train', 'valid'], loc='upper left')\n",
    "    #顯示折線圖\n",
    "    plt.show()"
   ]
  },
  {
   "cell_type": "code",
   "execution_count": 10,
   "id": "82f516f1",
   "metadata": {},
   "outputs": [
    {
     "name": "stderr",
     "output_type": "stream",
     "text": [
      "  0%|          | 0/2867 [00:00<?, ?it/s]C:\\Users\\user\\AppData\\Roaming\\Python\\Python38\\site-packages\\torch\\nn\\functional.py:5076: UserWarning: Support for mismatched key_padding_mask and attn_mask is deprecated. Use same type for both instead.\n",
      "  warnings.warn(\n",
      "Train Epoch 0: 100%|██████████| 2867/2867 [07:13<00:00,  6.61it/s, loss=6.721]\n",
      "Valid Epoch 0: 100%|██████████| 3556/3556 [00:56<00:00, 63.39it/s, loss=8.062]\n"
     ]
    },
    {
     "name": "stdout",
     "output_type": "stream",
     "text": [
      "Saving Model With Loss 7.82280\n",
      "Train Loss: 7.47472| Valid Loss: 7.82280| Best Loss: 7.82280\n",
      "\n"
     ]
    },
    {
     "name": "stderr",
     "output_type": "stream",
     "text": [
      "Train Epoch 1: 100%|██████████| 2867/2867 [07:14<00:00,  6.60it/s, loss=6.985]\n",
      "Valid Epoch 1: 100%|██████████| 3556/3556 [00:55<00:00, 63.53it/s, loss=7.316]\n"
     ]
    },
    {
     "name": "stdout",
     "output_type": "stream",
     "text": [
      "Saving Model With Loss 7.43181\n",
      "Train Loss: 6.83756| Valid Loss: 7.43181| Best Loss: 7.43181\n",
      "\n"
     ]
    },
    {
     "name": "stderr",
     "output_type": "stream",
     "text": [
      "Train Epoch 2: 100%|██████████| 2867/2867 [07:12<00:00,  6.62it/s, loss=6.450]\n",
      "Valid Epoch 2: 100%|██████████| 3556/3556 [00:55<00:00, 63.74it/s, loss=7.263]\n"
     ]
    },
    {
     "name": "stdout",
     "output_type": "stream",
     "text": [
      "Saving Model With Loss 7.15172\n",
      "Train Loss: 6.47267| Valid Loss: 7.15172| Best Loss: 7.15172\n",
      "\n"
     ]
    },
    {
     "name": "stderr",
     "output_type": "stream",
     "text": [
      "Train Epoch 3: 100%|██████████| 2867/2867 [07:15<00:00,  6.59it/s, loss=6.430]\n",
      "Valid Epoch 3: 100%|██████████| 3556/3556 [00:56<00:00, 63.48it/s, loss=6.894]\n"
     ]
    },
    {
     "name": "stdout",
     "output_type": "stream",
     "text": [
      "Saving Model With Loss 6.97456\n",
      "Train Loss: 6.18011| Valid Loss: 6.97456| Best Loss: 6.97456\n",
      "\n"
     ]
    },
    {
     "name": "stderr",
     "output_type": "stream",
     "text": [
      "Train Epoch 4: 100%|██████████| 2867/2867 [07:13<00:00,  6.61it/s, loss=5.652]\n",
      "Valid Epoch 4: 100%|██████████| 3556/3556 [00:56<00:00, 63.02it/s, loss=6.755]\n"
     ]
    },
    {
     "name": "stdout",
     "output_type": "stream",
     "text": [
      "Saving Model With Loss 6.86287\n",
      "Train Loss: 5.92162| Valid Loss: 6.86287| Best Loss: 6.86287\n",
      "\n"
     ]
    },
    {
     "name": "stderr",
     "output_type": "stream",
     "text": [
      "Train Epoch 5: 100%|██████████| 2867/2867 [07:13<00:00,  6.61it/s, loss=5.376]\n",
      "Valid Epoch 5: 100%|██████████| 3556/3556 [00:55<00:00, 63.52it/s, loss=6.773]\n"
     ]
    },
    {
     "name": "stdout",
     "output_type": "stream",
     "text": [
      "Saving Model With Loss 6.58602\n",
      "Train Loss: 5.69394| Valid Loss: 6.58602| Best Loss: 6.58602\n",
      "\n"
     ]
    },
    {
     "name": "stderr",
     "output_type": "stream",
     "text": [
      "Train Epoch 6: 100%|██████████| 2867/2867 [07:12<00:00,  6.63it/s, loss=6.057]\n",
      "Valid Epoch 6: 100%|██████████| 3556/3556 [00:55<00:00, 63.71it/s, loss=6.209]\n"
     ]
    },
    {
     "name": "stdout",
     "output_type": "stream",
     "text": [
      "Saving Model With Loss 6.45817\n",
      "Train Loss: 5.48100| Valid Loss: 6.45817| Best Loss: 6.45817\n",
      "\n"
     ]
    },
    {
     "name": "stderr",
     "output_type": "stream",
     "text": [
      "Train Epoch 7: 100%|██████████| 2867/2867 [07:12<00:00,  6.63it/s, loss=5.498]\n",
      "Valid Epoch 7: 100%|██████████| 3556/3556 [00:55<00:00, 63.80it/s, loss=6.175]\n"
     ]
    },
    {
     "name": "stdout",
     "output_type": "stream",
     "text": [
      "Saving Model With Loss 6.32319\n",
      "Train Loss: 5.28912| Valid Loss: 6.32319| Best Loss: 6.32319\n",
      "\n"
     ]
    },
    {
     "name": "stderr",
     "output_type": "stream",
     "text": [
      "Train Epoch 8: 100%|██████████| 2867/2867 [07:15<00:00,  6.59it/s, loss=4.809]\n",
      "Valid Epoch 8: 100%|██████████| 3556/3556 [00:55<00:00, 63.58it/s, loss=6.932]\n"
     ]
    },
    {
     "name": "stdout",
     "output_type": "stream",
     "text": [
      "Saving Model With Loss 6.28203\n",
      "Train Loss: 5.10661| Valid Loss: 6.28203| Best Loss: 6.28203\n",
      "\n"
     ]
    },
    {
     "name": "stderr",
     "output_type": "stream",
     "text": [
      "Train Epoch 9: 100%|██████████| 2867/2867 [07:12<00:00,  6.62it/s, loss=4.877]\n",
      "Valid Epoch 9: 100%|██████████| 3556/3556 [00:55<00:00, 63.77it/s, loss=6.041]\n"
     ]
    },
    {
     "name": "stdout",
     "output_type": "stream",
     "text": [
      "Saving Model With Loss 6.16706\n",
      "Train Loss: 4.93967| Valid Loss: 6.16706| Best Loss: 6.16706\n",
      "\n"
     ]
    },
    {
     "name": "stderr",
     "output_type": "stream",
     "text": [
      "Train Epoch 10: 100%|██████████| 2867/2867 [07:11<00:00,  6.64it/s, loss=5.002]\n",
      "Valid Epoch 10: 100%|██████████| 3556/3556 [00:54<00:00, 65.70it/s, loss=6.153]\n"
     ]
    },
    {
     "name": "stdout",
     "output_type": "stream",
     "text": [
      "Saving Model With Loss 6.05932\n",
      "Train Loss: 4.78238| Valid Loss: 6.05932| Best Loss: 6.05932\n",
      "\n"
     ]
    },
    {
     "name": "stderr",
     "output_type": "stream",
     "text": [
      "Train Epoch 11: 100%|██████████| 2867/2867 [07:13<00:00,  6.62it/s, loss=4.240]\n",
      "Valid Epoch 11: 100%|██████████| 3556/3556 [00:56<00:00, 63.46it/s, loss=6.564]\n"
     ]
    },
    {
     "name": "stdout",
     "output_type": "stream",
     "text": [
      "Train Loss: 4.63378| Valid Loss: 6.09231| Best Loss: 6.05932\n",
      "\n"
     ]
    },
    {
     "name": "stderr",
     "output_type": "stream",
     "text": [
      "Train Epoch 12: 100%|██████████| 2867/2867 [07:08<00:00,  6.69it/s, loss=4.847]\n",
      "Valid Epoch 12: 100%|██████████| 3556/3556 [00:54<00:00, 64.91it/s, loss=5.723]\n"
     ]
    },
    {
     "name": "stdout",
     "output_type": "stream",
     "text": [
      "Saving Model With Loss 5.87732\n",
      "Train Loss: 4.49703| Valid Loss: 5.87732| Best Loss: 5.87732\n",
      "\n"
     ]
    },
    {
     "name": "stderr",
     "output_type": "stream",
     "text": [
      "Train Epoch 13: 100%|██████████| 2867/2867 [07:05<00:00,  6.74it/s, loss=4.485]\n",
      "Valid Epoch 13: 100%|██████████| 3556/3556 [00:54<00:00, 64.75it/s, loss=4.940]\n"
     ]
    },
    {
     "name": "stdout",
     "output_type": "stream",
     "text": [
      "Saving Model With Loss 5.85204\n",
      "Train Loss: 4.36233| Valid Loss: 5.85204| Best Loss: 5.85204\n",
      "\n"
     ]
    },
    {
     "name": "stderr",
     "output_type": "stream",
     "text": [
      "Train Epoch 14: 100%|██████████| 2867/2867 [07:06<00:00,  6.72it/s, loss=4.250]\n",
      "Valid Epoch 14: 100%|██████████| 3556/3556 [00:54<00:00, 65.03it/s, loss=5.101]\n"
     ]
    },
    {
     "name": "stdout",
     "output_type": "stream",
     "text": [
      "Saving Model With Loss 5.68538\n",
      "Train Loss: 4.24094| Valid Loss: 5.68538| Best Loss: 5.68538\n",
      "\n"
     ]
    },
    {
     "name": "stderr",
     "output_type": "stream",
     "text": [
      "Train Epoch 15: 100%|██████████| 2867/2867 [07:05<00:00,  6.73it/s, loss=4.045]\n",
      "Valid Epoch 15: 100%|██████████| 3556/3556 [00:55<00:00, 63.77it/s, loss=5.826]\n"
     ]
    },
    {
     "name": "stdout",
     "output_type": "stream",
     "text": [
      "Saving Model With Loss 5.67410\n",
      "Train Loss: 4.12021| Valid Loss: 5.67410| Best Loss: 5.67410\n",
      "\n"
     ]
    },
    {
     "name": "stderr",
     "output_type": "stream",
     "text": [
      "Train Epoch 16: 100%|██████████| 2867/2867 [07:09<00:00,  6.68it/s, loss=4.456]\n",
      "Valid Epoch 16: 100%|██████████| 3556/3556 [00:54<00:00, 65.01it/s, loss=5.757]\n"
     ]
    },
    {
     "name": "stdout",
     "output_type": "stream",
     "text": [
      "Train Loss: 4.01201| Valid Loss: 5.67837| Best Loss: 5.67410\n",
      "\n"
     ]
    },
    {
     "name": "stderr",
     "output_type": "stream",
     "text": [
      "Train Epoch 17: 100%|██████████| 2867/2867 [07:07<00:00,  6.71it/s, loss=4.127]\n",
      "Valid Epoch 17: 100%|██████████| 3556/3556 [00:54<00:00, 64.95it/s, loss=5.864]\n"
     ]
    },
    {
     "name": "stdout",
     "output_type": "stream",
     "text": [
      "Saving Model With Loss 5.60897\n",
      "Train Loss: 3.90704| Valid Loss: 5.60897| Best Loss: 5.60897\n",
      "\n"
     ]
    },
    {
     "name": "stderr",
     "output_type": "stream",
     "text": [
      "Train Epoch 18: 100%|██████████| 2867/2867 [07:03<00:00,  6.76it/s, loss=4.171]\n",
      "Valid Epoch 18: 100%|██████████| 3556/3556 [00:54<00:00, 64.87it/s, loss=5.899]\n"
     ]
    },
    {
     "name": "stdout",
     "output_type": "stream",
     "text": [
      "Train Loss: 3.80917| Valid Loss: 5.65104| Best Loss: 5.60897\n",
      "\n"
     ]
    },
    {
     "name": "stderr",
     "output_type": "stream",
     "text": [
      "Train Epoch 19: 100%|██████████| 2867/2867 [07:05<00:00,  6.74it/s, loss=3.800]\n",
      "Valid Epoch 19: 100%|██████████| 3556/3556 [00:54<00:00, 65.15it/s, loss=5.482]\n"
     ]
    },
    {
     "name": "stdout",
     "output_type": "stream",
     "text": [
      "Train Loss: 3.71637| Valid Loss: 5.63986| Best Loss: 5.60897\n",
      "\n"
     ]
    },
    {
     "name": "stderr",
     "output_type": "stream",
     "text": [
      "Train Epoch 20: 100%|██████████| 2867/2867 [07:05<00:00,  6.74it/s, loss=3.742]\n",
      "Valid Epoch 20: 100%|██████████| 3556/3556 [00:54<00:00, 65.15it/s, loss=5.682]\n"
     ]
    },
    {
     "name": "stdout",
     "output_type": "stream",
     "text": [
      "Saving Model With Loss 5.52176\n",
      "Train Loss: 3.62857| Valid Loss: 5.52176| Best Loss: 5.52176\n",
      "\n"
     ]
    },
    {
     "name": "stderr",
     "output_type": "stream",
     "text": [
      "Train Epoch 21: 100%|██████████| 2867/2867 [07:06<00:00,  6.72it/s, loss=3.958]\n",
      "Valid Epoch 21: 100%|██████████| 3556/3556 [00:54<00:00, 65.25it/s, loss=6.118]\n"
     ]
    },
    {
     "name": "stdout",
     "output_type": "stream",
     "text": [
      "Train Loss: 3.54738| Valid Loss: 5.57374| Best Loss: 5.52176\n",
      "\n"
     ]
    },
    {
     "name": "stderr",
     "output_type": "stream",
     "text": [
      "Train Epoch 22: 100%|██████████| 2867/2867 [07:04<00:00,  6.76it/s, loss=3.524]\n",
      "Valid Epoch 22: 100%|██████████| 3556/3556 [00:54<00:00, 64.77it/s, loss=6.314]\n"
     ]
    },
    {
     "name": "stdout",
     "output_type": "stream",
     "text": [
      "Train Loss: 3.47134| Valid Loss: 5.52224| Best Loss: 5.52176\n",
      "\n"
     ]
    },
    {
     "name": "stderr",
     "output_type": "stream",
     "text": [
      "Train Epoch 23: 100%|██████████| 2867/2867 [07:05<00:00,  6.74it/s, loss=4.168]\n",
      "Valid Epoch 23: 100%|██████████| 3556/3556 [00:54<00:00, 65.14it/s, loss=5.526]\n"
     ]
    },
    {
     "name": "stdout",
     "output_type": "stream",
     "text": [
      "Saving Model With Loss 5.44311\n",
      "Train Loss: 3.40284| Valid Loss: 5.44311| Best Loss: 5.44311\n",
      "\n"
     ]
    },
    {
     "name": "stderr",
     "output_type": "stream",
     "text": [
      "Train Epoch 24: 100%|██████████| 2867/2867 [07:06<00:00,  6.72it/s, loss=3.519]\n",
      "Valid Epoch 24: 100%|██████████| 3556/3556 [00:54<00:00, 65.00it/s, loss=6.923]\n"
     ]
    },
    {
     "name": "stdout",
     "output_type": "stream",
     "text": [
      "Train Loss: 3.34280| Valid Loss: 5.49964| Best Loss: 5.44311\n",
      "\n"
     ]
    },
    {
     "name": "stderr",
     "output_type": "stream",
     "text": [
      "Train Epoch 25: 100%|██████████| 2867/2867 [07:06<00:00,  6.72it/s, loss=3.540]\n",
      "Valid Epoch 25: 100%|██████████| 3556/3556 [00:54<00:00, 65.01it/s, loss=4.847]\n"
     ]
    },
    {
     "name": "stdout",
     "output_type": "stream",
     "text": [
      "Train Loss: 3.28963| Valid Loss: 5.49888| Best Loss: 5.44311\n",
      "\n"
     ]
    },
    {
     "name": "stderr",
     "output_type": "stream",
     "text": [
      "Train Epoch 26: 100%|██████████| 2867/2867 [07:07<00:00,  6.71it/s, loss=3.822]\n",
      "Valid Epoch 26: 100%|██████████| 3556/3556 [00:54<00:00, 64.99it/s, loss=5.594]\n"
     ]
    },
    {
     "name": "stdout",
     "output_type": "stream",
     "text": [
      "Train Loss: 3.24969| Valid Loss: 5.55361| Best Loss: 5.44311\n",
      "\n"
     ]
    },
    {
     "name": "stderr",
     "output_type": "stream",
     "text": [
      "Train Epoch 27: 100%|██████████| 2867/2867 [07:05<00:00,  6.73it/s, loss=3.696]\n",
      "Valid Epoch 27: 100%|██████████| 3556/3556 [00:54<00:00, 65.06it/s, loss=6.530]\n"
     ]
    },
    {
     "name": "stdout",
     "output_type": "stream",
     "text": [
      "Train Loss: 3.22755| Valid Loss: 5.49053| Best Loss: 5.44311\n",
      "\n"
     ]
    },
    {
     "name": "stderr",
     "output_type": "stream",
     "text": [
      "Train Epoch 28: 100%|██████████| 2867/2867 [07:04<00:00,  6.76it/s, loss=3.371]\n",
      "Valid Epoch 28: 100%|██████████| 3556/3556 [00:54<00:00, 65.07it/s, loss=4.849]\n"
     ]
    },
    {
     "name": "stdout",
     "output_type": "stream",
     "text": [
      "Train Loss: 3.21705| Valid Loss: 5.50293| Best Loss: 5.44311\n",
      "\n"
     ]
    },
    {
     "name": "stderr",
     "output_type": "stream",
     "text": [
      "Train Epoch 29: 100%|██████████| 2867/2867 [07:07<00:00,  6.71it/s, loss=2.972]\n",
      "Valid Epoch 29: 100%|██████████| 3556/3556 [00:55<00:00, 64.13it/s, loss=5.096]\n"
     ]
    },
    {
     "name": "stdout",
     "output_type": "stream",
     "text": [
      "Saving Model With Loss 5.36531\n",
      "Train Loss: 3.19472| Valid Loss: 5.36531| Best Loss: 5.36531\n",
      "\n"
     ]
    },
    {
     "name": "stderr",
     "output_type": "stream",
     "text": [
      "Train Epoch 30: 100%|██████████| 2867/2867 [07:15<00:00,  6.58it/s, loss=3.277]\n",
      "Valid Epoch 30: 100%|██████████| 3556/3556 [00:55<00:00, 64.35it/s, loss=5.324]\n"
     ]
    },
    {
     "name": "stdout",
     "output_type": "stream",
     "text": [
      "Saving Model With Loss 5.13791\n",
      "Train Loss: 3.15366| Valid Loss: 5.13791| Best Loss: 5.13791\n",
      "\n"
     ]
    },
    {
     "name": "stderr",
     "output_type": "stream",
     "text": [
      "Train Epoch 31: 100%|██████████| 2867/2867 [07:15<00:00,  6.58it/s, loss=3.225]\n",
      "Valid Epoch 31: 100%|██████████| 3556/3556 [00:55<00:00, 63.64it/s, loss=4.621]\n"
     ]
    },
    {
     "name": "stdout",
     "output_type": "stream",
     "text": [
      "Saving Model With Loss 5.11865\n",
      "Train Loss: 3.10548| Valid Loss: 5.11865| Best Loss: 5.11865\n",
      "\n"
     ]
    },
    {
     "name": "stderr",
     "output_type": "stream",
     "text": [
      "Train Epoch 32: 100%|██████████| 2867/2867 [07:14<00:00,  6.61it/s, loss=3.538]\n",
      "Valid Epoch 32: 100%|██████████| 3556/3556 [00:56<00:00, 63.48it/s, loss=6.248]\n"
     ]
    },
    {
     "name": "stdout",
     "output_type": "stream",
     "text": [
      "Train Loss: 3.05685| Valid Loss: 5.11944| Best Loss: 5.11865\n",
      "\n"
     ]
    },
    {
     "name": "stderr",
     "output_type": "stream",
     "text": [
      "Train Epoch 33: 100%|██████████| 2867/2867 [07:16<00:00,  6.57it/s, loss=2.862]\n",
      "Valid Epoch 33: 100%|██████████| 3556/3556 [00:56<00:00, 63.46it/s, loss=5.419]\n"
     ]
    },
    {
     "name": "stdout",
     "output_type": "stream",
     "text": [
      "Saving Model With Loss 5.01773\n",
      "Train Loss: 3.01121| Valid Loss: 5.01773| Best Loss: 5.01773\n",
      "\n"
     ]
    },
    {
     "name": "stderr",
     "output_type": "stream",
     "text": [
      "Train Epoch 34: 100%|██████████| 2867/2867 [07:13<00:00,  6.62it/s, loss=3.196]\n",
      "Valid Epoch 34: 100%|██████████| 3556/3556 [00:56<00:00, 63.27it/s, loss=5.137]\n"
     ]
    },
    {
     "name": "stdout",
     "output_type": "stream",
     "text": [
      "Saving Model With Loss 4.97087\n",
      "Train Loss: 2.96779| Valid Loss: 4.97087| Best Loss: 4.97087\n",
      "\n"
     ]
    },
    {
     "name": "stderr",
     "output_type": "stream",
     "text": [
      "Train Epoch 35: 100%|██████████| 2867/2867 [07:10<00:00,  6.66it/s, loss=2.595]\n",
      "Valid Epoch 35: 100%|██████████| 3556/3556 [00:55<00:00, 64.09it/s, loss=5.254]\n"
     ]
    },
    {
     "name": "stdout",
     "output_type": "stream",
     "text": [
      "Saving Model With Loss 4.96915\n",
      "Train Loss: 2.92747| Valid Loss: 4.96915| Best Loss: 4.96915\n",
      "\n"
     ]
    },
    {
     "name": "stderr",
     "output_type": "stream",
     "text": [
      "Train Epoch 36: 100%|██████████| 2867/2867 [07:08<00:00,  6.69it/s, loss=3.583]\n",
      "Valid Epoch 36: 100%|██████████| 3556/3556 [00:55<00:00, 63.61it/s, loss=4.764]\n"
     ]
    },
    {
     "name": "stdout",
     "output_type": "stream",
     "text": [
      "Saving Model With Loss 4.85003\n",
      "Train Loss: 2.88984| Valid Loss: 4.85003| Best Loss: 4.85003\n",
      "\n"
     ]
    },
    {
     "name": "stderr",
     "output_type": "stream",
     "text": [
      "Train Epoch 37: 100%|██████████| 2867/2867 [07:12<00:00,  6.62it/s, loss=2.846]\n",
      "Valid Epoch 37: 100%|██████████| 3556/3556 [00:55<00:00, 63.63it/s, loss=4.325]\n"
     ]
    },
    {
     "name": "stdout",
     "output_type": "stream",
     "text": [
      "Train Loss: 2.85529| Valid Loss: 4.86428| Best Loss: 4.85003\n",
      "\n"
     ]
    },
    {
     "name": "stderr",
     "output_type": "stream",
     "text": [
      "Train Epoch 38: 100%|██████████| 2867/2867 [07:13<00:00,  6.62it/s, loss=3.193]\n",
      "Valid Epoch 38: 100%|██████████| 3556/3556 [00:56<00:00, 63.31it/s, loss=5.092]\n"
     ]
    },
    {
     "name": "stdout",
     "output_type": "stream",
     "text": [
      "Saving Model With Loss 4.73501\n",
      "Train Loss: 2.82221| Valid Loss: 4.73501| Best Loss: 4.73501\n",
      "\n"
     ]
    },
    {
     "name": "stderr",
     "output_type": "stream",
     "text": [
      "Train Epoch 39: 100%|██████████| 2867/2867 [07:13<00:00,  6.61it/s, loss=2.706]\n",
      "Valid Epoch 39: 100%|██████████| 3556/3556 [00:56<00:00, 63.45it/s, loss=5.321]\n"
     ]
    },
    {
     "name": "stdout",
     "output_type": "stream",
     "text": [
      "Train Loss: 2.79217| Valid Loss: 4.81007| Best Loss: 4.73501\n",
      "\n"
     ]
    },
    {
     "name": "stderr",
     "output_type": "stream",
     "text": [
      "Train Epoch 40: 100%|██████████| 2867/2867 [07:10<00:00,  6.65it/s, loss=3.002]\n",
      "Valid Epoch 40: 100%|██████████| 3556/3556 [00:55<00:00, 63.81it/s, loss=5.135]\n"
     ]
    },
    {
     "name": "stdout",
     "output_type": "stream",
     "text": [
      "Train Loss: 2.76562| Valid Loss: 4.80441| Best Loss: 4.73501\n",
      "\n"
     ]
    },
    {
     "name": "stderr",
     "output_type": "stream",
     "text": [
      "Train Epoch 41: 100%|██████████| 2867/2867 [07:14<00:00,  6.60it/s, loss=3.391]\n",
      "Valid Epoch 41: 100%|██████████| 3556/3556 [00:55<00:00, 63.99it/s, loss=4.672]\n"
     ]
    },
    {
     "name": "stdout",
     "output_type": "stream",
     "text": [
      "Train Loss: 2.74185| Valid Loss: 4.74916| Best Loss: 4.73501\n",
      "\n"
     ]
    },
    {
     "name": "stderr",
     "output_type": "stream",
     "text": [
      "Train Epoch 42: 100%|██████████| 2867/2867 [07:15<00:00,  6.59it/s, loss=2.828]\n",
      "Valid Epoch 42: 100%|██████████| 3556/3556 [00:55<00:00, 63.83it/s, loss=4.173]\n"
     ]
    },
    {
     "name": "stdout",
     "output_type": "stream",
     "text": [
      "Saving Model With Loss 4.69784\n",
      "Train Loss: 2.71436| Valid Loss: 4.69784| Best Loss: 4.69784\n",
      "\n"
     ]
    },
    {
     "name": "stderr",
     "output_type": "stream",
     "text": [
      "Train Epoch 43: 100%|██████████| 2867/2867 [07:14<00:00,  6.61it/s, loss=2.372]\n",
      "Valid Epoch 43: 100%|██████████| 3556/3556 [00:55<00:00, 64.05it/s, loss=3.908]\n"
     ]
    },
    {
     "name": "stdout",
     "output_type": "stream",
     "text": [
      "Saving Model With Loss 4.61282\n",
      "Train Loss: 2.69325| Valid Loss: 4.61282| Best Loss: 4.61282\n",
      "\n"
     ]
    },
    {
     "name": "stderr",
     "output_type": "stream",
     "text": [
      "Train Epoch 44: 100%|██████████| 2867/2867 [07:08<00:00,  6.70it/s, loss=2.575]\n",
      "Valid Epoch 44: 100%|██████████| 3556/3556 [00:54<00:00, 64.94it/s, loss=4.774]\n"
     ]
    },
    {
     "name": "stdout",
     "output_type": "stream",
     "text": [
      "Train Loss: 2.67546| Valid Loss: 4.71296| Best Loss: 4.61282\n",
      "\n"
     ]
    },
    {
     "name": "stderr",
     "output_type": "stream",
     "text": [
      "Train Epoch 45: 100%|██████████| 2867/2867 [07:06<00:00,  6.73it/s, loss=2.343]\n",
      "Valid Epoch 45: 100%|██████████| 3556/3556 [00:55<00:00, 64.58it/s, loss=4.187]\n"
     ]
    },
    {
     "name": "stdout",
     "output_type": "stream",
     "text": [
      "Train Loss: 2.65636| Valid Loss: 4.67263| Best Loss: 4.61282\n",
      "\n"
     ]
    },
    {
     "name": "stderr",
     "output_type": "stream",
     "text": [
      "Train Epoch 46: 100%|██████████| 2867/2867 [07:05<00:00,  6.74it/s, loss=2.933]\n",
      "Valid Epoch 46: 100%|██████████| 3556/3556 [00:54<00:00, 64.78it/s, loss=4.448]\n"
     ]
    },
    {
     "name": "stdout",
     "output_type": "stream",
     "text": [
      "Train Loss: 2.63874| Valid Loss: 4.71412| Best Loss: 4.61282\n",
      "\n"
     ]
    },
    {
     "name": "stderr",
     "output_type": "stream",
     "text": [
      "Train Epoch 47: 100%|██████████| 2867/2867 [07:05<00:00,  6.74it/s, loss=3.060]\n",
      "Valid Epoch 47: 100%|██████████| 3556/3556 [00:54<00:00, 64.90it/s, loss=4.822]\n"
     ]
    },
    {
     "name": "stdout",
     "output_type": "stream",
     "text": [
      "Saving Model With Loss 4.54595\n",
      "Train Loss: 2.62423| Valid Loss: 4.54595| Best Loss: 4.54595\n",
      "\n"
     ]
    },
    {
     "name": "stderr",
     "output_type": "stream",
     "text": [
      "Train Epoch 48: 100%|██████████| 2867/2867 [07:05<00:00,  6.73it/s, loss=3.297]\n",
      "Valid Epoch 48: 100%|██████████| 3556/3556 [00:54<00:00, 64.94it/s, loss=4.325]\n"
     ]
    },
    {
     "name": "stdout",
     "output_type": "stream",
     "text": [
      "Train Loss: 2.60709| Valid Loss: 4.62882| Best Loss: 4.54595\n",
      "\n"
     ]
    },
    {
     "name": "stderr",
     "output_type": "stream",
     "text": [
      "Train Epoch 49: 100%|██████████| 2867/2867 [07:08<00:00,  6.68it/s, loss=2.511]\n",
      "Valid Epoch 49: 100%|██████████| 3556/3556 [00:54<00:00, 65.17it/s, loss=4.410]\n"
     ]
    },
    {
     "name": "stdout",
     "output_type": "stream",
     "text": [
      "Saving Model With Loss 4.53364\n",
      "Train Loss: 2.59269| Valid Loss: 4.53364| Best Loss: 4.53364\n",
      "\n"
     ]
    },
    {
     "name": "stderr",
     "output_type": "stream",
     "text": [
      "Train Epoch 50: 100%|██████████| 2867/2867 [07:07<00:00,  6.71it/s, loss=2.632]\n",
      "Valid Epoch 50: 100%|██████████| 3556/3556 [00:54<00:00, 64.73it/s, loss=5.195]\n"
     ]
    },
    {
     "name": "stdout",
     "output_type": "stream",
     "text": [
      "Train Loss: 2.57558| Valid Loss: 4.55948| Best Loss: 4.53364\n",
      "\n"
     ]
    },
    {
     "name": "stderr",
     "output_type": "stream",
     "text": [
      "Train Epoch 51: 100%|██████████| 2867/2867 [07:06<00:00,  6.73it/s, loss=2.545]\n",
      "Valid Epoch 51: 100%|██████████| 3556/3556 [00:54<00:00, 65.27it/s, loss=3.694]\n"
     ]
    },
    {
     "name": "stdout",
     "output_type": "stream",
     "text": [
      "Train Loss: 2.56429| Valid Loss: 4.57703| Best Loss: 4.53364\n",
      "\n"
     ]
    },
    {
     "name": "stderr",
     "output_type": "stream",
     "text": [
      "Train Epoch 52: 100%|██████████| 2867/2867 [07:07<00:00,  6.70it/s, loss=2.437]\n",
      "Valid Epoch 52: 100%|██████████| 3556/3556 [00:54<00:00, 65.33it/s, loss=5.181]\n"
     ]
    },
    {
     "name": "stdout",
     "output_type": "stream",
     "text": [
      "Saving Model With Loss 4.49462\n",
      "Train Loss: 2.54777| Valid Loss: 4.49462| Best Loss: 4.49462\n",
      "\n"
     ]
    },
    {
     "name": "stderr",
     "output_type": "stream",
     "text": [
      "Train Epoch 53: 100%|██████████| 2867/2867 [07:06<00:00,  6.72it/s, loss=3.338]\n",
      "Valid Epoch 53: 100%|██████████| 3556/3556 [00:54<00:00, 65.00it/s, loss=4.418]\n"
     ]
    },
    {
     "name": "stdout",
     "output_type": "stream",
     "text": [
      "Train Loss: 2.53343| Valid Loss: 4.53966| Best Loss: 4.49462\n",
      "\n"
     ]
    },
    {
     "name": "stderr",
     "output_type": "stream",
     "text": [
      "Train Epoch 54: 100%|██████████| 2867/2867 [07:04<00:00,  6.75it/s, loss=2.582]\n",
      "Valid Epoch 54: 100%|██████████| 3556/3556 [00:54<00:00, 64.69it/s, loss=4.325]\n"
     ]
    },
    {
     "name": "stdout",
     "output_type": "stream",
     "text": [
      "Saving Model With Loss 4.45906\n",
      "Train Loss: 2.51890| Valid Loss: 4.45906| Best Loss: 4.45906\n",
      "\n"
     ]
    },
    {
     "name": "stderr",
     "output_type": "stream",
     "text": [
      "Train Epoch 55: 100%|██████████| 2867/2867 [07:03<00:00,  6.78it/s, loss=2.740]\n",
      "Valid Epoch 55: 100%|██████████| 3556/3556 [00:55<00:00, 64.65it/s, loss=4.355]\n"
     ]
    },
    {
     "name": "stdout",
     "output_type": "stream",
     "text": [
      "Train Loss: 2.50956| Valid Loss: 4.52469| Best Loss: 4.45906\n",
      "\n"
     ]
    },
    {
     "name": "stderr",
     "output_type": "stream",
     "text": [
      "Train Epoch 56: 100%|██████████| 2867/2867 [07:05<00:00,  6.74it/s, loss=2.699]\n",
      "Valid Epoch 56: 100%|██████████| 3556/3556 [00:54<00:00, 64.76it/s, loss=4.170]\n"
     ]
    },
    {
     "name": "stdout",
     "output_type": "stream",
     "text": [
      "Saving Model With Loss 4.45755\n",
      "Train Loss: 2.49591| Valid Loss: 4.45755| Best Loss: 4.45755\n",
      "\n"
     ]
    },
    {
     "name": "stderr",
     "output_type": "stream",
     "text": [
      "Train Epoch 57: 100%|██████████| 2867/2867 [07:03<00:00,  6.77it/s, loss=2.753]\n",
      "Valid Epoch 57: 100%|██████████| 3556/3556 [00:54<00:00, 64.92it/s, loss=3.585]\n"
     ]
    },
    {
     "name": "stdout",
     "output_type": "stream",
     "text": [
      "Train Loss: 2.47994| Valid Loss: 4.46010| Best Loss: 4.45755\n",
      "\n"
     ]
    },
    {
     "name": "stderr",
     "output_type": "stream",
     "text": [
      "Train Epoch 58: 100%|██████████| 2867/2867 [07:07<00:00,  6.71it/s, loss=3.425]\n",
      "Valid Epoch 58: 100%|██████████| 3556/3556 [00:54<00:00, 64.77it/s, loss=4.470]\n"
     ]
    },
    {
     "name": "stdout",
     "output_type": "stream",
     "text": [
      "Saving Model With Loss 4.45549\n",
      "Train Loss: 2.46636| Valid Loss: 4.45549| Best Loss: 4.45549\n",
      "\n"
     ]
    },
    {
     "name": "stderr",
     "output_type": "stream",
     "text": [
      "Train Epoch 59: 100%|██████████| 2867/2867 [07:05<00:00,  6.74it/s, loss=3.392]\n",
      "Valid Epoch 59: 100%|██████████| 3556/3556 [00:55<00:00, 64.59it/s, loss=4.047]\n"
     ]
    },
    {
     "name": "stdout",
     "output_type": "stream",
     "text": [
      "Train Loss: 2.45647| Valid Loss: 4.45834| Best Loss: 4.45549\n",
      "\n"
     ]
    },
    {
     "name": "stderr",
     "output_type": "stream",
     "text": [
      "Train Epoch 60: 100%|██████████| 2867/2867 [07:06<00:00,  6.73it/s, loss=2.403]\n",
      "Valid Epoch 60: 100%|██████████| 3556/3556 [00:55<00:00, 63.74it/s, loss=4.658]\n"
     ]
    },
    {
     "name": "stdout",
     "output_type": "stream",
     "text": [
      "Saving Model With Loss 4.43679\n",
      "Train Loss: 2.44529| Valid Loss: 4.43679| Best Loss: 4.43679\n",
      "\n"
     ]
    },
    {
     "name": "stderr",
     "output_type": "stream",
     "text": [
      "Train Epoch 61: 100%|██████████| 2867/2867 [07:12<00:00,  6.64it/s, loss=2.624]\n",
      "Valid Epoch 61: 100%|██████████| 3556/3556 [00:55<00:00, 63.64it/s, loss=4.944]\n"
     ]
    },
    {
     "name": "stdout",
     "output_type": "stream",
     "text": [
      "Saving Model With Loss 4.40805\n",
      "Train Loss: 2.43460| Valid Loss: 4.40805| Best Loss: 4.40805\n",
      "\n"
     ]
    },
    {
     "name": "stderr",
     "output_type": "stream",
     "text": [
      "Train Epoch 62: 100%|██████████| 2867/2867 [07:12<00:00,  6.62it/s, loss=2.363]\n",
      "Valid Epoch 62: 100%|██████████| 3556/3556 [00:55<00:00, 64.00it/s, loss=4.571]\n"
     ]
    },
    {
     "name": "stdout",
     "output_type": "stream",
     "text": [
      "Saving Model With Loss 4.32078\n",
      "Train Loss: 2.42406| Valid Loss: 4.32078| Best Loss: 4.32078\n",
      "\n"
     ]
    },
    {
     "name": "stderr",
     "output_type": "stream",
     "text": [
      "Train Epoch 63: 100%|██████████| 2867/2867 [07:14<00:00,  6.59it/s, loss=2.232]\n",
      "Valid Epoch 63: 100%|██████████| 3556/3556 [00:56<00:00, 63.25it/s, loss=4.396]\n"
     ]
    },
    {
     "name": "stdout",
     "output_type": "stream",
     "text": [
      "Train Loss: 2.41425| Valid Loss: 4.39871| Best Loss: 4.32078\n",
      "\n"
     ]
    },
    {
     "name": "stderr",
     "output_type": "stream",
     "text": [
      "Train Epoch 64: 100%|██████████| 2867/2867 [07:11<00:00,  6.64it/s, loss=2.732]\n",
      "Valid Epoch 64: 100%|██████████| 3556/3556 [00:56<00:00, 63.38it/s, loss=4.715]\n"
     ]
    },
    {
     "name": "stdout",
     "output_type": "stream",
     "text": [
      "Train Loss: 2.40356| Valid Loss: 4.33029| Best Loss: 4.32078\n",
      "\n"
     ]
    },
    {
     "name": "stderr",
     "output_type": "stream",
     "text": [
      "Train Epoch 65: 100%|██████████| 2867/2867 [07:12<00:00,  6.62it/s, loss=2.329]\n",
      "Valid Epoch 65: 100%|██████████| 3556/3556 [00:56<00:00, 63.07it/s, loss=4.267]\n"
     ]
    },
    {
     "name": "stdout",
     "output_type": "stream",
     "text": [
      "Train Loss: 2.39642| Valid Loss: 4.35055| Best Loss: 4.32078\n",
      "\n"
     ]
    },
    {
     "name": "stderr",
     "output_type": "stream",
     "text": [
      "Train Epoch 66: 100%|██████████| 2867/2867 [07:11<00:00,  6.65it/s, loss=2.688]\n",
      "Valid Epoch 66: 100%|██████████| 3556/3556 [00:56<00:00, 63.12it/s, loss=4.609]\n"
     ]
    },
    {
     "name": "stdout",
     "output_type": "stream",
     "text": [
      "Train Loss: 2.38303| Valid Loss: 4.38749| Best Loss: 4.32078\n",
      "\n"
     ]
    },
    {
     "name": "stderr",
     "output_type": "stream",
     "text": [
      "Train Epoch 67: 100%|██████████| 2867/2867 [07:14<00:00,  6.59it/s, loss=2.855]\n",
      "Valid Epoch 67: 100%|██████████| 3556/3556 [00:56<00:00, 63.11it/s, loss=3.777]\n"
     ]
    },
    {
     "name": "stdout",
     "output_type": "stream",
     "text": [
      "Train Loss: 2.37148| Valid Loss: 4.36404| Best Loss: 4.32078\n",
      "\n"
     ]
    },
    {
     "name": "stderr",
     "output_type": "stream",
     "text": [
      "Train Epoch 68: 100%|██████████| 2867/2867 [07:12<00:00,  6.64it/s, loss=2.665]\n",
      "Valid Epoch 68: 100%|██████████| 3556/3556 [00:55<00:00, 63.90it/s, loss=3.665]\n"
     ]
    },
    {
     "name": "stdout",
     "output_type": "stream",
     "text": [
      "Train Loss: 2.36075| Valid Loss: 4.32749| Best Loss: 4.32078\n",
      "\n"
     ]
    },
    {
     "name": "stderr",
     "output_type": "stream",
     "text": [
      "Train Epoch 69: 100%|██████████| 2867/2867 [07:12<00:00,  6.64it/s, loss=2.367]\n",
      "Valid Epoch 69: 100%|██████████| 3556/3556 [00:55<00:00, 63.84it/s, loss=5.044]\n"
     ]
    },
    {
     "name": "stdout",
     "output_type": "stream",
     "text": [
      "Train Loss: 2.35539| Valid Loss: 4.36261| Best Loss: 4.32078\n",
      "\n"
     ]
    },
    {
     "name": "stderr",
     "output_type": "stream",
     "text": [
      "Train Epoch 70: 100%|██████████| 2867/2867 [07:11<00:00,  6.65it/s, loss=2.652]\n",
      "Valid Epoch 70: 100%|██████████| 3556/3556 [00:56<00:00, 63.47it/s, loss=3.428]\n"
     ]
    },
    {
     "name": "stdout",
     "output_type": "stream",
     "text": [
      "Train Loss: 2.34019| Valid Loss: 4.35852| Best Loss: 4.32078\n",
      "\n"
     ]
    },
    {
     "name": "stderr",
     "output_type": "stream",
     "text": [
      "Train Epoch 71: 100%|██████████| 2867/2867 [07:09<00:00,  6.67it/s, loss=2.622]\n",
      "Valid Epoch 71: 100%|██████████| 3556/3556 [00:54<00:00, 64.87it/s, loss=5.398]\n"
     ]
    },
    {
     "name": "stdout",
     "output_type": "stream",
     "text": [
      "Saving Model With Loss 4.26806\n",
      "Train Loss: 2.33394| Valid Loss: 4.26806| Best Loss: 4.26806\n",
      "\n"
     ]
    },
    {
     "name": "stderr",
     "output_type": "stream",
     "text": [
      "Train Epoch 72: 100%|██████████| 2867/2867 [07:10<00:00,  6.67it/s, loss=2.423]\n",
      "Valid Epoch 72: 100%|██████████| 3556/3556 [00:56<00:00, 63.44it/s, loss=4.700]\n"
     ]
    },
    {
     "name": "stdout",
     "output_type": "stream",
     "text": [
      "Train Loss: 2.32244| Valid Loss: 4.30021| Best Loss: 4.26806\n",
      "\n"
     ]
    },
    {
     "name": "stderr",
     "output_type": "stream",
     "text": [
      "Train Epoch 73: 100%|██████████| 2867/2867 [07:12<00:00,  6.63it/s, loss=2.508]\n",
      "Valid Epoch 73: 100%|██████████| 3556/3556 [00:56<00:00, 63.13it/s, loss=4.464]\n"
     ]
    },
    {
     "name": "stdout",
     "output_type": "stream",
     "text": [
      "Saving Model With Loss 4.25576\n",
      "Train Loss: 2.32014| Valid Loss: 4.25576| Best Loss: 4.25576\n",
      "\n"
     ]
    },
    {
     "name": "stderr",
     "output_type": "stream",
     "text": [
      "Train Epoch 74: 100%|██████████| 2867/2867 [07:13<00:00,  6.61it/s, loss=2.433]\n",
      "Valid Epoch 74: 100%|██████████| 3556/3556 [00:56<00:00, 63.37it/s, loss=3.891]\n"
     ]
    },
    {
     "name": "stdout",
     "output_type": "stream",
     "text": [
      "Train Loss: 2.30847| Valid Loss: 4.27436| Best Loss: 4.25576\n",
      "\n"
     ]
    },
    {
     "name": "stderr",
     "output_type": "stream",
     "text": [
      "Train Epoch 75: 100%|██████████| 2867/2867 [07:13<00:00,  6.61it/s, loss=2.692]\n",
      "Valid Epoch 75: 100%|██████████| 3556/3556 [00:56<00:00, 63.06it/s, loss=3.517]\n"
     ]
    },
    {
     "name": "stdout",
     "output_type": "stream",
     "text": [
      "Train Loss: 2.29583| Valid Loss: 4.31537| Best Loss: 4.25576\n",
      "\n"
     ]
    },
    {
     "name": "stderr",
     "output_type": "stream",
     "text": [
      "Train Epoch 76: 100%|██████████| 2867/2867 [07:14<00:00,  6.60it/s, loss=2.270]\n",
      "Valid Epoch 76: 100%|██████████| 3556/3556 [00:55<00:00, 63.74it/s, loss=4.157]\n"
     ]
    },
    {
     "name": "stdout",
     "output_type": "stream",
     "text": [
      "Train Loss: 2.29324| Valid Loss: 4.32257| Best Loss: 4.25576\n",
      "\n"
     ]
    },
    {
     "name": "stderr",
     "output_type": "stream",
     "text": [
      "Train Epoch 77: 100%|██████████| 2867/2867 [07:13<00:00,  6.61it/s, loss=2.621]\n",
      "Valid Epoch 77: 100%|██████████| 3556/3556 [00:55<00:00, 64.25it/s, loss=5.379]\n"
     ]
    },
    {
     "name": "stdout",
     "output_type": "stream",
     "text": [
      "Saving Model With Loss 4.24138\n",
      "Train Loss: 2.28620| Valid Loss: 4.24138| Best Loss: 4.24138\n",
      "\n"
     ]
    },
    {
     "name": "stderr",
     "output_type": "stream",
     "text": [
      "Train Epoch 78: 100%|██████████| 2867/2867 [07:11<00:00,  6.65it/s, loss=2.171]\n",
      "Valid Epoch 78: 100%|██████████| 3556/3556 [00:55<00:00, 64.04it/s, loss=5.755]\n"
     ]
    },
    {
     "name": "stdout",
     "output_type": "stream",
     "text": [
      "Train Loss: 2.27280| Valid Loss: 4.28188| Best Loss: 4.24138\n",
      "\n"
     ]
    },
    {
     "name": "stderr",
     "output_type": "stream",
     "text": [
      "Train Epoch 79: 100%|██████████| 2867/2867 [07:14<00:00,  6.60it/s, loss=2.271]\n",
      "Valid Epoch 79: 100%|██████████| 3556/3556 [00:55<00:00, 63.67it/s, loss=4.386]\n"
     ]
    },
    {
     "name": "stdout",
     "output_type": "stream",
     "text": [
      "Saving Model With Loss 4.16570\n",
      "Train Loss: 2.27026| Valid Loss: 4.16570| Best Loss: 4.16570\n",
      "\n"
     ]
    },
    {
     "name": "stderr",
     "output_type": "stream",
     "text": [
      "Train Epoch 80: 100%|██████████| 2867/2867 [07:07<00:00,  6.70it/s, loss=2.319]\n",
      "Valid Epoch 80: 100%|██████████| 3556/3556 [00:54<00:00, 65.52it/s, loss=2.660]\n"
     ]
    },
    {
     "name": "stdout",
     "output_type": "stream",
     "text": [
      "Train Loss: 2.25966| Valid Loss: 4.24462| Best Loss: 4.16570\n",
      "\n"
     ]
    },
    {
     "name": "stderr",
     "output_type": "stream",
     "text": [
      "Train Epoch 81: 100%|██████████| 2867/2867 [07:08<00:00,  6.69it/s, loss=2.022]\n",
      "Valid Epoch 81: 100%|██████████| 3556/3556 [00:55<00:00, 64.00it/s, loss=3.980]\n"
     ]
    },
    {
     "name": "stdout",
     "output_type": "stream",
     "text": [
      "Train Loss: 2.24863| Valid Loss: 4.17864| Best Loss: 4.16570\n",
      "\n"
     ]
    },
    {
     "name": "stderr",
     "output_type": "stream",
     "text": [
      "Train Epoch 82: 100%|██████████| 2867/2867 [07:03<00:00,  6.77it/s, loss=2.284]\n",
      "Valid Epoch 82: 100%|██████████| 3556/3556 [00:54<00:00, 65.59it/s, loss=3.906]\n"
     ]
    },
    {
     "name": "stdout",
     "output_type": "stream",
     "text": [
      "Train Loss: 2.24276| Valid Loss: 4.21143| Best Loss: 4.16570\n",
      "\n"
     ]
    },
    {
     "name": "stderr",
     "output_type": "stream",
     "text": [
      "Train Epoch 83: 100%|██████████| 2867/2867 [07:02<00:00,  6.79it/s, loss=2.437]\n",
      "Valid Epoch 83: 100%|██████████| 3556/3556 [00:54<00:00, 65.43it/s, loss=4.411]\n"
     ]
    },
    {
     "name": "stdout",
     "output_type": "stream",
     "text": [
      "Train Loss: 2.23574| Valid Loss: 4.20341| Best Loss: 4.16570\n",
      "\n"
     ]
    },
    {
     "name": "stderr",
     "output_type": "stream",
     "text": [
      "Train Epoch 84: 100%|██████████| 2867/2867 [07:01<00:00,  6.81it/s, loss=2.255]\n",
      "Valid Epoch 84: 100%|██████████| 3556/3556 [00:54<00:00, 65.63it/s, loss=4.337]\n"
     ]
    },
    {
     "name": "stdout",
     "output_type": "stream",
     "text": [
      "Train Loss: 2.22905| Valid Loss: 4.18887| Best Loss: 4.16570\n",
      "\n"
     ]
    },
    {
     "name": "stderr",
     "output_type": "stream",
     "text": [
      "Train Epoch 85: 100%|██████████| 2867/2867 [07:03<00:00,  6.76it/s, loss=2.430]\n",
      "Valid Epoch 85: 100%|██████████| 3556/3556 [00:54<00:00, 65.52it/s, loss=4.156]\n"
     ]
    },
    {
     "name": "stdout",
     "output_type": "stream",
     "text": [
      "Train Loss: 2.22261| Valid Loss: 4.22789| Best Loss: 4.16570\n",
      "\n"
     ]
    },
    {
     "name": "stderr",
     "output_type": "stream",
     "text": [
      "Train Epoch 86: 100%|██████████| 2867/2867 [07:02<00:00,  6.79it/s, loss=2.160]\n",
      "Valid Epoch 86: 100%|██████████| 3556/3556 [00:54<00:00, 65.66it/s, loss=3.579]\n"
     ]
    },
    {
     "name": "stdout",
     "output_type": "stream",
     "text": [
      "Saving Model With Loss 4.11416\n",
      "Train Loss: 2.21254| Valid Loss: 4.11416| Best Loss: 4.11416\n",
      "\n"
     ]
    },
    {
     "name": "stderr",
     "output_type": "stream",
     "text": [
      "Train Epoch 87: 100%|██████████| 2867/2867 [07:07<00:00,  6.71it/s, loss=1.927]\n",
      "Valid Epoch 87: 100%|██████████| 3556/3556 [00:54<00:00, 65.10it/s, loss=4.685]\n"
     ]
    },
    {
     "name": "stdout",
     "output_type": "stream",
     "text": [
      "Train Loss: 2.20340| Valid Loss: 4.27483| Best Loss: 4.11416\n",
      "\n"
     ]
    },
    {
     "name": "stderr",
     "output_type": "stream",
     "text": [
      "Train Epoch 88: 100%|██████████| 2867/2867 [07:06<00:00,  6.72it/s, loss=2.507]\n",
      "Valid Epoch 88: 100%|██████████| 3556/3556 [00:54<00:00, 65.28it/s, loss=4.100]\n"
     ]
    },
    {
     "name": "stdout",
     "output_type": "stream",
     "text": [
      "Train Loss: 2.19984| Valid Loss: 4.12377| Best Loss: 4.11416\n",
      "\n"
     ]
    },
    {
     "name": "stderr",
     "output_type": "stream",
     "text": [
      "Train Epoch 89: 100%|██████████| 2867/2867 [07:03<00:00,  6.76it/s, loss=1.969]\n",
      "Valid Epoch 89: 100%|██████████| 3556/3556 [00:54<00:00, 65.13it/s, loss=4.079]\n"
     ]
    },
    {
     "name": "stdout",
     "output_type": "stream",
     "text": [
      "Train Loss: 2.19024| Valid Loss: 4.13729| Best Loss: 4.11416\n",
      "\n"
     ]
    },
    {
     "name": "stderr",
     "output_type": "stream",
     "text": [
      "Train Epoch 90: 100%|██████████| 2867/2867 [07:06<00:00,  6.72it/s, loss=2.052]\n",
      "Valid Epoch 90: 100%|██████████| 3556/3556 [00:55<00:00, 64.03it/s, loss=5.419]\n"
     ]
    },
    {
     "name": "stdout",
     "output_type": "stream",
     "text": [
      "Train Loss: 2.18660| Valid Loss: 4.14175| Best Loss: 4.11416\n",
      "\n"
     ]
    },
    {
     "name": "stderr",
     "output_type": "stream",
     "text": [
      "Train Epoch 91: 100%|██████████| 2867/2867 [07:11<00:00,  6.64it/s, loss=2.721]\n",
      "Valid Epoch 91: 100%|██████████| 3556/3556 [00:55<00:00, 64.43it/s, loss=4.306]\n"
     ]
    },
    {
     "name": "stdout",
     "output_type": "stream",
     "text": [
      "Saving Model With Loss 4.07427\n",
      "Train Loss: 2.17954| Valid Loss: 4.07427| Best Loss: 4.07427\n",
      "\n"
     ]
    },
    {
     "name": "stderr",
     "output_type": "stream",
     "text": [
      "Train Epoch 92: 100%|██████████| 2867/2867 [07:10<00:00,  6.66it/s, loss=2.553]\n",
      "Valid Epoch 92: 100%|██████████| 3556/3556 [00:55<00:00, 63.72it/s, loss=5.537]\n"
     ]
    },
    {
     "name": "stdout",
     "output_type": "stream",
     "text": [
      "Train Loss: 2.16890| Valid Loss: 4.16452| Best Loss: 4.07427\n",
      "\n"
     ]
    },
    {
     "name": "stderr",
     "output_type": "stream",
     "text": [
      "Train Epoch 93: 100%|██████████| 2867/2867 [07:12<00:00,  6.63it/s, loss=2.735]\n",
      "Valid Epoch 93: 100%|██████████| 3556/3556 [00:55<00:00, 64.31it/s, loss=3.451]\n"
     ]
    },
    {
     "name": "stdout",
     "output_type": "stream",
     "text": [
      "Train Loss: 2.16351| Valid Loss: 4.09844| Best Loss: 4.07427\n",
      "\n"
     ]
    },
    {
     "name": "stderr",
     "output_type": "stream",
     "text": [
      "Train Epoch 94: 100%|██████████| 2867/2867 [07:08<00:00,  6.69it/s, loss=2.432]\n",
      "Valid Epoch 94: 100%|██████████| 3556/3556 [00:55<00:00, 63.93it/s, loss=4.263]\n"
     ]
    },
    {
     "name": "stdout",
     "output_type": "stream",
     "text": [
      "Train Loss: 2.15276| Valid Loss: 4.13003| Best Loss: 4.07427\n",
      "\n"
     ]
    },
    {
     "name": "stderr",
     "output_type": "stream",
     "text": [
      "Train Epoch 95: 100%|██████████| 2867/2867 [07:07<00:00,  6.71it/s, loss=1.968]\n",
      "Valid Epoch 95: 100%|██████████| 3556/3556 [00:54<00:00, 65.07it/s, loss=5.061]\n"
     ]
    },
    {
     "name": "stdout",
     "output_type": "stream",
     "text": [
      "Train Loss: 2.15221| Valid Loss: 4.14299| Best Loss: 4.07427\n",
      "\n"
     ]
    },
    {
     "name": "stderr",
     "output_type": "stream",
     "text": [
      "Train Epoch 96: 100%|██████████| 2867/2867 [07:06<00:00,  6.72it/s, loss=2.321]\n",
      "Valid Epoch 96: 100%|██████████| 3556/3556 [00:54<00:00, 64.66it/s, loss=3.416]\n"
     ]
    },
    {
     "name": "stdout",
     "output_type": "stream",
     "text": [
      "Saving Model With Loss 4.05970\n",
      "Train Loss: 2.14481| Valid Loss: 4.05970| Best Loss: 4.05970\n",
      "\n"
     ]
    },
    {
     "name": "stderr",
     "output_type": "stream",
     "text": [
      "Train Epoch 97: 100%|██████████| 2867/2867 [07:05<00:00,  6.74it/s, loss=2.705]\n",
      "Valid Epoch 97: 100%|██████████| 3556/3556 [00:55<00:00, 64.61it/s, loss=3.741]\n"
     ]
    },
    {
     "name": "stdout",
     "output_type": "stream",
     "text": [
      "Saving Model With Loss 4.05096\n",
      "Train Loss: 2.14159| Valid Loss: 4.05096| Best Loss: 4.05096\n",
      "\n"
     ]
    },
    {
     "name": "stderr",
     "output_type": "stream",
     "text": [
      "Train Epoch 98: 100%|██████████| 2867/2867 [07:09<00:00,  6.68it/s, loss=2.340]\n",
      "Valid Epoch 98: 100%|██████████| 3556/3556 [00:54<00:00, 64.95it/s, loss=3.663]\n"
     ]
    },
    {
     "name": "stdout",
     "output_type": "stream",
     "text": [
      "Train Loss: 2.13378| Valid Loss: 4.10571| Best Loss: 4.05096\n",
      "\n"
     ]
    },
    {
     "name": "stderr",
     "output_type": "stream",
     "text": [
      "Train Epoch 99: 100%|██████████| 2867/2867 [07:08<00:00,  6.69it/s, loss=2.181]\n",
      "Valid Epoch 99: 100%|██████████| 3556/3556 [00:54<00:00, 65.11it/s, loss=3.034]\n"
     ]
    },
    {
     "name": "stdout",
     "output_type": "stream",
     "text": [
      "Train Loss: 2.12309| Valid Loss: 4.10222| Best Loss: 4.05096\n",
      "\n"
     ]
    },
    {
     "data": {
      "image/png": "[encoded data removed]",
      "text/plain": [
       "<Figure size 640x480 with 1 Axes>"
      ]
     },
     "metadata": {},
     "output_type": "display_data"
    }
   ],
   "source": [
    "epochs = 100                             # 訓練次數\n",
    "early_stopping = 10                      # 模型訓練幾次沒進步就停止\n",
    "stop_cnt = 0                             # 計數模型是否有進步的計數器\n",
    "model_path = 'model.ckpt'                # 模型存放路徑\n",
    "show_loss = True                         # 是否顯示訓練折線圖\n",
    "best_loss = float('inf')                 # 最佳的Loss\n",
    "loss_record = {'train':[], 'valid':[]}   # 訓練紀錄\n",
    "\n",
    "for epoch in range(epochs):   \n",
    "    train_loss = train(epoch)\n",
    "    valid_loss = valid(epoch)\n",
    "    \n",
    "    loss_record['train'].append(train_loss)\n",
    "    loss_record['valid'].append(valid_loss)\n",
    "    \n",
    "    # 儲存最佳的模型權重\n",
    "    if valid_loss < best_loss:\n",
    "        best_loss = valid_loss\n",
    "        torch.save(model.state_dict(), 'e' + model_path)\n",
    "        print(f'Saving Model With Loss {best_loss:.5f}')\n",
    "        stop_cnt = 0\n",
    "    else:\n",
    "        stop_cnt+=1\n",
    "    \n",
    "    # Early stopping\n",
    "    if stop_cnt == early_stopping:\n",
    "        output = \"Model can't improve, stop training\"\n",
    "        print('-' * (len(output)+2))\n",
    "        print(f'|{output}|')\n",
    "        print('-' * (len(output)+2))\n",
    "        break\n",
    "\n",
    "    print(f'Train Loss: {train_loss:.5f}' , end='| ')\n",
    "    print(f'Valid Loss: {valid_loss:.5f}' , end='| ')\n",
    "    print(f'Best Loss: {best_loss:.5f}', end='\\n\\n')\n",
    "\n",
    "\n",
    "if show_loss:\n",
    "    show_training_loss(loss_record)"
   ]
  }
 ],
 "metadata": {
  "kernelspec": {
   "display_name": "Python 3 (ipykernel)",
   "language": "python",
   "name": "python3"
  },
  "language_info": {
   "codemirror_mode": {
    "name": "ipython",
    "version": 3
   },
   "file_extension": ".py",
   "mimetype": "text/x-python",
   "name": "python",
   "nbconvert_exporter": "python",
   "pygments_lexer": "ipython3",
   "version": "3.8.10"
  }
 },
 "nbformat": 4,
 "nbformat_minor": 5
}
