{
 "cells": [
  {
   "cell_type": "code",
   "execution_count": 7,
   "id": "bb598bb6",
   "metadata": {},
   "outputs": [
    {
     "name": "stdout",
     "output_type": "stream",
     "text": [
      "Collecting fr-core-news-sm==3.6.0\n",
      "  Downloading https://github.com/explosion/spacy-models/releases/download/fr_core_news_sm-3.6.0/fr_core_news_sm-3.6.0-py3-none-any.whl (16.3 MB)\n",
      "Requirement already satisfied: spacy<3.7.0,>=3.6.0 in c:\\users\\user\\appdata\\local\\programs\\python\\python38\\lib\\site-packages (from fr-core-news-sm==3.6.0) (3.6.1)\n",
      "Requirement already satisfied: smart-open<7.0.0,>=5.2.1 in c:\\users\\user\\appdata\\local\\programs\\python\\python38\\lib\\site-packages (from spacy<3.7.0,>=3.6.0->fr-core-news-sm==3.6.0) (6.4.0)\n",
      "Requirement already satisfied: wasabi<1.2.0,>=0.9.1 in c:\\users\\user\\appdata\\local\\programs\\python\\python38\\lib\\site-packages (from spacy<3.7.0,>=3.6.0->fr-core-news-sm==3.6.0) (1.1.2)\n",
      "Requirement already satisfied: typer<0.10.0,>=0.3.0 in c:\\users\\user\\appdata\\local\\programs\\python\\python38\\lib\\site-packages (from spacy<3.7.0,>=3.6.0->fr-core-news-sm==3.6.0) (0.9.0)\n",
      "Requirement already satisfied: requests<3.0.0,>=2.13.0 in c:\\users\\user\\appdata\\local\\programs\\python\\python38\\lib\\site-packages (from spacy<3.7.0,>=3.6.0->fr-core-news-sm==3.6.0) (2.31.0)\n",
      "Requirement already satisfied: setuptools in c:\\users\\user\\appdata\\local\\programs\\python\\python38\\lib\\site-packages (from spacy<3.7.0,>=3.6.0->fr-core-news-sm==3.6.0) (49.2.1)\n",
      "Requirement already satisfied: tqdm<5.0.0,>=4.38.0 in c:\\users\\user\\appdata\\local\\programs\\python\\python38\\lib\\site-packages (from spacy<3.7.0,>=3.6.0->fr-core-news-sm==3.6.0) (4.66.1)\n",
      "Requirement already satisfied: pydantic!=1.8,!=1.8.1,<3.0.0,>=1.7.4 in c:\\users\\user\\appdata\\local\\programs\\python\\python38\\lib\\site-packages (from spacy<3.7.0,>=3.6.0->fr-core-news-sm==3.6.0) (2.4.0)\n",
      "Requirement already satisfied: numpy>=1.15.0 in c:\\users\\user\\appdata\\local\\programs\\python\\python38\\lib\\site-packages (from spacy<3.7.0,>=3.6.0->fr-core-news-sm==3.6.0) (1.24.4)\n",
      "Requirement already satisfied: spacy-loggers<2.0.0,>=1.0.0 in c:\\users\\user\\appdata\\local\\programs\\python\\python38\\lib\\site-packages (from spacy<3.7.0,>=3.6.0->fr-core-news-sm==3.6.0) (1.0.5)\n",
      "Requirement already satisfied: packaging>=20.0 in c:\\users\\user\\appdata\\local\\programs\\python\\python38\\lib\\site-packages (from spacy<3.7.0,>=3.6.0->fr-core-news-sm==3.6.0) (23.1)\n",
      "Requirement already satisfied: preshed<3.1.0,>=3.0.2 in c:\\users\\user\\appdata\\local\\programs\\python\\python38\\lib\\site-packages (from spacy<3.7.0,>=3.6.0->fr-core-news-sm==3.6.0) (3.0.9)\n",
      "Requirement already satisfied: jinja2 in c:\\users\\user\\appdata\\local\\programs\\python\\python38\\lib\\site-packages (from spacy<3.7.0,>=3.6.0->fr-core-news-sm==3.6.0) (3.1.2)\n",
      "Requirement already satisfied: srsly<3.0.0,>=2.4.3 in c:\\users\\user\\appdata\\local\\programs\\python\\python38\\lib\\site-packages (from spacy<3.7.0,>=3.6.0->fr-core-news-sm==3.6.0) (2.4.8)\n",
      "Requirement already satisfied: pathy>=0.10.0 in c:\\users\\user\\appdata\\local\\programs\\python\\python38\\lib\\site-packages (from spacy<3.7.0,>=3.6.0->fr-core-news-sm==3.6.0) (0.10.2)\n",
      "Requirement already satisfied: langcodes<4.0.0,>=3.2.0 in c:\\users\\user\\appdata\\local\\programs\\python\\python38\\lib\\site-packages (from spacy<3.7.0,>=3.6.0->fr-core-news-sm==3.6.0) (3.3.0)\n",
      "Requirement already satisfied: thinc<8.2.0,>=8.1.8 in c:\\users\\user\\appdata\\local\\programs\\python\\python38\\lib\\site-packages (from spacy<3.7.0,>=3.6.0->fr-core-news-sm==3.6.0) (8.1.12)\n",
      "Requirement already satisfied: catalogue<2.1.0,>=2.0.6 in c:\\users\\user\\appdata\\local\\programs\\python\\python38\\lib\\site-packages (from spacy<3.7.0,>=3.6.0->fr-core-news-sm==3.6.0) (2.0.10)\n",
      "Requirement already satisfied: murmurhash<1.1.0,>=0.28.0 in c:\\users\\user\\appdata\\local\\programs\\python\\python38\\lib\\site-packages (from spacy<3.7.0,>=3.6.0->fr-core-news-sm==3.6.0) (1.0.10)\n",
      "Requirement already satisfied: cymem<2.1.0,>=2.0.2 in c:\\users\\user\\appdata\\local\\programs\\python\\python38\\lib\\site-packages (from spacy<3.7.0,>=3.6.0->fr-core-news-sm==3.6.0) (2.0.8)\n",
      "Requirement already satisfied: spacy-legacy<3.1.0,>=3.0.11 in c:\\users\\user\\appdata\\local\\programs\\python\\python38\\lib\\site-packages (from spacy<3.7.0,>=3.6.0->fr-core-news-sm==3.6.0) (3.0.12)\n",
      "Requirement already satisfied: colorama>=0.4.6; sys_platform == \"win32\" and python_version >= \"3.7\" in c:\\users\\user\\appdata\\local\\programs\\python\\python38\\lib\\site-packages (from wasabi<1.2.0,>=0.9.1->spacy<3.7.0,>=3.6.0->fr-core-news-sm==3.6.0) (0.4.6)\n",
      "Requirement already satisfied: typing-extensions>=3.7.4.3 in c:\\users\\user\\appdata\\local\\programs\\python\\python38\\lib\\site-packages (from typer<0.10.0,>=0.3.0->spacy<3.7.0,>=3.6.0->fr-core-news-sm==3.6.0) (4.8.0)\n",
      "Requirement already satisfied: click<9.0.0,>=7.1.1 in c:\\users\\user\\appdata\\local\\programs\\python\\python38\\lib\\site-packages (from typer<0.10.0,>=0.3.0->spacy<3.7.0,>=3.6.0->fr-core-news-sm==3.6.0) (8.1.7)\n",
      "Requirement already satisfied: certifi>=2017.4.17 in c:\\users\\user\\appdata\\local\\programs\\python\\python38\\lib\\site-packages (from requests<3.0.0,>=2.13.0->spacy<3.7.0,>=3.6.0->fr-core-news-sm==3.6.0) (2023.7.22)\n",
      "Requirement already satisfied: charset-normalizer<4,>=2 in c:\\users\\user\\appdata\\local\\programs\\python\\python38\\lib\\site-packages (from requests<3.0.0,>=2.13.0->spacy<3.7.0,>=3.6.0->fr-core-news-sm==3.6.0) (3.2.0)\n",
      "Requirement already satisfied: idna<4,>=2.5 in c:\\users\\user\\appdata\\local\\programs\\python\\python38\\lib\\site-packages (from requests<3.0.0,>=2.13.0->spacy<3.7.0,>=3.6.0->fr-core-news-sm==3.6.0) (3.4)\n",
      "Requirement already satisfied: urllib3<3,>=1.21.1 in c:\\users\\user\\appdata\\local\\programs\\python\\python38\\lib\\site-packages (from requests<3.0.0,>=2.13.0->spacy<3.7.0,>=3.6.0->fr-core-news-sm==3.6.0) (2.0.5)\n",
      "Requirement already satisfied: pydantic-core==2.10.0 in c:\\users\\user\\appdata\\local\\programs\\python\\python38\\lib\\site-packages (from pydantic!=1.8,!=1.8.1,<3.0.0,>=1.7.4->spacy<3.7.0,>=3.6.0->fr-core-news-sm==3.6.0) (2.10.0)\n",
      "Requirement already satisfied: annotated-types>=0.4.0 in c:\\users\\user\\appdata\\local\\programs\\python\\python38\\lib\\site-packages (from pydantic!=1.8,!=1.8.1,<3.0.0,>=1.7.4->spacy<3.7.0,>=3.6.0->fr-core-news-sm==3.6.0) (0.5.0)\n",
      "Requirement already satisfied: MarkupSafe>=2.0 in c:\\users\\user\\appdata\\local\\programs\\python\\python38\\lib\\site-packages (from jinja2->spacy<3.7.0,>=3.6.0->fr-core-news-sm==3.6.0) (2.1.3)\n",
      "Requirement already satisfied: blis<0.8.0,>=0.7.8 in c:\\users\\user\\appdata\\local\\programs\\python\\python38\\lib\\site-packages (from thinc<8.2.0,>=8.1.8->spacy<3.7.0,>=3.6.0->fr-core-news-sm==3.6.0) (0.7.11)\n",
      "Requirement already satisfied: confection<1.0.0,>=0.0.1 in c:\\users\\user\\appdata\\local\\programs\\python\\python38\\lib\\site-packages (from thinc<8.2.0,>=8.1.8->spacy<3.7.0,>=3.6.0->fr-core-news-sm==3.6.0) (0.1.3)\n",
      "Installing collected packages: fr-core-news-sm\n",
      "Successfully installed fr-core-news-sm-3.6.0\n",
      "\u001b[38;5;2m[+] Download and installation successful\u001b[0m\n",
      "You can now load the package via spacy.load('fr_core_news_sm')\n"
     ]
    },
    {
     "name": "stderr",
     "output_type": "stream",
     "text": [
      "WARNING: You are using pip version 20.2.3; however, version 23.2.1 is available.\n",
      "You should consider upgrading via the 'C:\\Users\\user\\AppData\\Local\\Programs\\Python\\Python38\\python.exe -m pip install --upgrade pip' command.\n"
     ]
    }
   ],
   "source": [
    "!python -m spacy download fr_core_news_sm"
   ]
  },
  {
   "cell_type": "code",
   "execution_count": 1,
   "id": "1c96a505",
   "metadata": {},
   "outputs": [],
   "source": [
    "from torchtext.data.utils import get_tokenizer\n",
    "from torchtext.vocab import vocab\n",
    "from collections import Counter\n",
    "\n",
    "\n",
    "def preprocessing(french_tokenizer, englisg_tokenizer):\n",
    "    en_counter, fr_counter = Counter(), Counter()\n",
    "    \n",
    "    english, french = [], []\n",
    "    for text_data in text_datas:\n",
    "        en, fr = text_data.strip('\\n').split('\\t')\n",
    "        en_tokens, fr_tokens = englisg_tokenizer(en), french_tokenizer(fr)\n",
    "\n",
    "        english.append(en_tokens)\n",
    "        french.append(fr_tokens)\n",
    "        \n",
    "        en_counter.update(en_tokens)\n",
    "        fr_counter.update(fr_tokens)\n",
    "\n",
    "    return en_counter, fr_counter, english, french\n",
    "\n",
    "# 讀檔\n",
    "with open('data/eng-fra.txt', 'r',encoding='utf-8') as f:\n",
    "    text_datas = f.readlines()\n",
    "    \n",
    "# 建立標記器\n",
    "french_tokenizer = get_tokenizer('spacy', language='fr_core_news_sm')\n",
    "englisg_tokenizer = get_tokenizer('basic_english')\n",
    "\n",
    "en_counter, fr_counter, english, french = preprocessing(french_tokenizer, englisg_tokenizer)\n",
    "\n",
    "# 建立詞彙表\n",
    "en_vocab = vocab(en_counter, min_freq=5, specials=('<PAD>', '<SOS>','<EOS>','<UNK>'))\n",
    "en_vocab.set_default_index(en_vocab.get_stoi()['<UNK>'])\n",
    "\n",
    "fr_vocab = vocab(fr_counter, min_freq=5, specials=('<PAD>', '<SOS>','<EOS>','<UNK>'))\n",
    "fr_vocab.set_default_index(en_vocab.get_stoi()['<UNK>'])\n",
    "\n",
    "# Ecoder與Decoder的Embedding輸入大小\n",
    "INPUT_DIM =  len(en_vocab)\n",
    "OUTPUT_DIM = len(fr_vocab)\n",
    "\n",
    "# 取得給予模型的索引值\n",
    "SOS_IDX = en_vocab.get_stoi()['<SOS>']\n",
    "EOS_IDX = en_vocab.get_stoi()['<EOS>']\n",
    "PAD_IDX = en_vocab.get_stoi()['<PAD>']"
   ]
  },
  {
   "cell_type": "code",
   "execution_count": 2,
   "id": "b61ab138",
   "metadata": {},
   "outputs": [],
   "source": [
    "from torch.utils.data import Dataset, DataLoader\n",
    "from torch.nn.utils.rnn import pad_sequence\n",
    "from sklearn.model_selection import train_test_split\n",
    "import torch\n",
    "\n",
    "class TranslateDataset(Dataset):\n",
    "    def __init__(self, x, y):\n",
    "        self.x = x\n",
    "        self.y = y\n",
    "          \n",
    "    def __getitem__(self, index):\n",
    "        return self.x[index], self.y[index]\n",
    "       \n",
    "    def __len__(self):\n",
    "        return len(self.x)\n",
    "\n",
    "english_num, french_num = [], []\n",
    "for i in range(len(english)):\n",
    "    en_num = en_vocab.lookup_indices(english[i]) + [EOS_IDX]\n",
    "    fr_num = fr_vocab.lookup_indices(french[i])  + [EOS_IDX]\n",
    "\n",
    "    english_num.append(torch.tensor(en_num))\n",
    "    french_num.append(torch.tensor(fr_num))\n",
    "\n",
    "all_seq = english_num + french_num\n",
    "pad_seq = pad_sequence(all_seq, padding_value=PAD_IDX, batch_first=True)\n",
    "\n",
    "english_num, french_num = pad_seq[:len(english_num)], pad_seq[len(english_num):]\n",
    "MAX_LEN = len(english_num[0])\n",
    "\n",
    "x_train, x_valid, y_train, y_valid = train_test_split(english_num, french_num, train_size=0.8, random_state=46, shuffle=False)\n",
    "\n",
    "trainset = TranslateDataset(x_train, y_train)\n",
    "validset = TranslateDataset(x_valid, y_valid)\n",
    "\n",
    "\n",
    "train_loader = DataLoader(trainset, batch_size = 1024, shuffle = True, num_workers = 0, pin_memory = True)\n",
    "valid_loader = DataLoader(validset, batch_size = 1024, shuffle = True, num_workers = 0, pin_memory = True)\n",
    "\n",
    "device = torch.device('cuda' if torch.cuda.is_available() else 'cpu')"
   ]
  },
  {
   "cell_type": "code",
   "execution_count": 3,
   "id": "2ab22223",
   "metadata": {},
   "outputs": [],
   "source": [
    "import torch.nn as nn\n",
    "class EncoderRNN(nn.Module):\n",
    "    def __init__(self, input_size, hidden_size, dropout_p=0.1):\n",
    "        super(EncoderRNN, self).__init__()\n",
    "        self.hidden_size = hidden_size\n",
    "\n",
    "        self.embedding = nn.Embedding(input_size, hidden_size, padding_idx=PAD_IDX)\n",
    "        self.gru = nn.GRU(hidden_size, hidden_size, batch_first=True)\n",
    "        self.dropout = nn.Dropout(dropout_p)\n",
    "\n",
    "    def forward(self, input):\n",
    "        embedded = self.dropout(self.embedding(input))\n",
    "        output, hidden = self.gru(embedded)\n",
    "        return output, hidden\n",
    "    \n",
    "encoder = EncoderRNN(input_size = INPUT_DIM, hidden_size = 128).to(device)"
   ]
  },
  {
   "cell_type": "code",
   "execution_count": 4,
   "id": "a5b22c5b",
   "metadata": {},
   "outputs": [],
   "source": [
    "import torch.nn.functional as F\n",
    "\n",
    "class BahdanauAttention(nn.Module):\n",
    "    def __init__(self, hidden_size):\n",
    "        super(BahdanauAttention, self).__init__()\n",
    "        self.Wa = nn.Linear(hidden_size, hidden_size)\n",
    "        self.Ua = nn.Linear(hidden_size, hidden_size)\n",
    "        self.Va = nn.Linear(hidden_size, 1)\n",
    "\n",
    "    def forward(self, query, keys):\n",
    "        scores = self.Va(torch.tanh(self.Wa(query) + self.Ua(keys)))\n",
    "        scores = scores.squeeze(2).unsqueeze(1)\n",
    "\n",
    "        weights = F.softmax(scores, dim=-1)\n",
    "        context = torch.bmm(weights, keys)\n",
    "\n",
    "        return context, weights\n",
    "\n",
    "class AttnDecoderRNN(nn.Module):\n",
    "    def __init__(self, hidden_size, output_size, dropout_p=0.1):\n",
    "        super(AttnDecoderRNN, self).__init__()\n",
    "        self.embedding = nn.Embedding(output_size, hidden_size, padding_idx=PAD_IDX)\n",
    "        self.attention = BahdanauAttention(hidden_size)\n",
    "        self.gru = nn.GRU(2 * hidden_size, hidden_size, batch_first=True)\n",
    "        self.out = nn.Linear(hidden_size, output_size)\n",
    "        self.dropout = nn.Dropout(dropout_p)\n",
    "\n",
    "    def forward(self, encoder_outputs, encoder_hidden, target_tensor=None):\n",
    "        batch_size = encoder_outputs.size(0)\n",
    "        decoder_input = torch.empty(batch_size, 1, dtype=torch.long, device=device).fill_(SOS_IDX)\n",
    "        decoder_hidden = encoder_hidden\n",
    "        decoder_outputs = []\n",
    "        attentions = []\n",
    "\n",
    "        for i in range(MAX_LEN):\n",
    "            decoder_output, decoder_hidden, attn_weights = self.forward_step(\n",
    "                decoder_input, decoder_hidden, encoder_outputs\n",
    "            )\n",
    "            decoder_outputs.append(decoder_output)\n",
    "            attentions.append(attn_weights)\n",
    "\n",
    "            if target_tensor is not None:\n",
    "                # Teacher forcing: Feed the target as the next input\n",
    "                decoder_input = target_tensor[:, i].unsqueeze(1) # Teacher forcing\n",
    "            else:\n",
    "                # Without teacher forcing: use its own predictions as the next input\n",
    "                _, topi = decoder_output.topk(1)\n",
    "                decoder_input = topi.squeeze(-1).detach()  # detach from history as input\n",
    "\n",
    "        decoder_outputs = torch.cat(decoder_outputs, dim=1)\n",
    "        decoder_outputs = F.log_softmax(decoder_outputs, dim=-1)\n",
    "        attentions = torch.cat(attentions, dim=1)\n",
    "\n",
    "        return decoder_outputs, decoder_hidden, attentions\n",
    "\n",
    "\n",
    "    def forward_step(self, input, hidden, encoder_outputs):\n",
    "        embedded =  self.dropout(self.embedding(input))\n",
    "\n",
    "        query = hidden.permute(1, 0, 2)\n",
    "        context, attn_weights = self.attention(query, encoder_outputs)\n",
    "        input_gru = torch.cat((embedded, context), dim=2)\n",
    "\n",
    "        output, hidden = self.gru(input_gru, hidden)\n",
    "        output = self.out(output)\n",
    "\n",
    "        return output, hidden, attn_weights\n",
    "    \n",
    "decoder = AttnDecoderRNN(hidden_size = 128, output_size = OUTPUT_DIM).to(device)"
   ]
  },
  {
   "cell_type": "code",
   "execution_count": 5,
   "id": "c61c8f7d",
   "metadata": {},
   "outputs": [],
   "source": [
    "import torch.optim as optim\n",
    "encoder_optimizer = optim.Adam(encoder.parameters(), lr=1e-3)\n",
    "decoder_optimizer = optim.Adam(decoder.parameters(), lr=1e-3)\n",
    "criterion = nn.NLLLoss()"
   ]
  },
  {
   "cell_type": "code",
   "execution_count": 6,
   "id": "a518b206",
   "metadata": {},
   "outputs": [],
   "source": [
    "from tqdm import tqdm\n",
    "import matplotlib.pyplot as plt \n",
    "\n",
    "def train(epoch):\n",
    "    train_loss = 0\n",
    "    train_pbar = tqdm(train_loader, position=0, leave=True) \n",
    "\n",
    "    encoder.train()\n",
    "    decoder.train()\n",
    "    for input_datas in train_pbar: \n",
    "        \n",
    "        inputs, targets = [i.to(device) for i in input_datas]\n",
    "        encoder_optimizer.zero_grad()\n",
    "        decoder_optimizer.zero_grad()\n",
    "       \n",
    "        encoder_outputs, encoder_hidden = encoder(inputs)\n",
    "\n",
    "        decoder_outputs, _, _ = decoder(encoder_outputs, encoder_hidden, targets)\n",
    "        loss = criterion(\n",
    "            decoder_outputs.view(-1, decoder_outputs.size(-1)),\n",
    "            targets.view(-1)\n",
    "        )\n",
    "\n",
    "        loss.backward()\n",
    "        encoder_optimizer.step()\n",
    "        decoder_optimizer.step()\n",
    "\n",
    "        train_pbar.set_description(f'Train Epoch {epoch}')  \n",
    "        train_pbar.set_postfix({'loss':f'{loss:.3f}'}) \n",
    "\n",
    "        train_loss += loss.item()\n",
    "\n",
    "    return train_loss/len(train_loader)\n",
    "\n",
    "def valid(epoch):\n",
    "    valid_loss = 0\n",
    "    valid_pbar = tqdm(valid_loader, position=0, leave=True) \n",
    "\n",
    "    encoder.eval()\n",
    "    decoder.eval()\n",
    "    with torch.no_grad(): \n",
    "        for input_datas in valid_pbar: \n",
    "            \n",
    "            inputs, targets = [i.to(device) for i in input_datas]\n",
    "         \n",
    "            encoder_outputs, encoder_hidden = encoder(inputs)\n",
    "            decoder_outputs, _, _ = decoder(encoder_outputs, encoder_hidden, targets)\n",
    "            loss = criterion(\n",
    "                decoder_outputs.view(-1, decoder_outputs.size(-1)),\n",
    "                targets.view(-1)\n",
    "            )\n",
    "    \n",
    "        \n",
    "    \n",
    "            valid_pbar.set_description(f'Valid Epoch {epoch}')  \n",
    "            valid_pbar.set_postfix({'loss':f'{loss:.3f}'}) \n",
    "    \n",
    "            valid_loss += loss.item()\n",
    "    \n",
    "        return valid_loss/len(valid_loader)\n",
    "\n",
    "def show_training_loss(loss_record):\n",
    "    train_loss, valid_loss = [i for i in loss_record.values()]\n",
    "    \n",
    "    plt.plot(train_loss)\n",
    "    plt.plot(valid_loss)\n",
    "    #標題\n",
    "    plt.title('Result')\n",
    "    #y軸標籤\n",
    "    plt.ylabel('Loss')\n",
    "    #x軸標籤\n",
    "    plt.xlabel('Epoch')\n",
    "    #顯示折線的名稱\n",
    "    plt.legend(['train', 'valid'], loc='upper left')\n",
    "    #顯示折線圖\n",
    "    plt.show()"
   ]
  },
  {
   "cell_type": "code",
   "execution_count": 7,
   "id": "33eb201e",
   "metadata": {},
   "outputs": [
    {
     "name": "stderr",
     "output_type": "stream",
     "text": [
      "Train Epoch 0: 100%|█████████████████████████████████████████████████████| 107/107 [00:25<00:00,  4.13it/s, loss=0.728]\n",
      "Valid Epoch 0: 100%|███████████████████████████████████████████████████████| 27/27 [00:02<00:00,  9.67it/s, loss=1.232]\n"
     ]
    },
    {
     "name": "stdout",
     "output_type": "stream",
     "text": [
      "Saving Model With Loss 1.24677\n",
      "Train Loss: 1.76774| Valid Loss: 1.24677| Best Loss: 1.24677\n",
      "\n"
     ]
    },
    {
     "name": "stderr",
     "output_type": "stream",
     "text": [
      "Train Epoch 1: 100%|█████████████████████████████████████████████████████| 107/107 [00:25<00:00,  4.23it/s, loss=0.625]\n",
      "Valid Epoch 1: 100%|███████████████████████████████████████████████████████| 27/27 [00:02<00:00, 10.02it/s, loss=1.163]\n"
     ]
    },
    {
     "name": "stdout",
     "output_type": "stream",
     "text": [
      "Saving Model With Loss 1.16585\n",
      "Train Loss: 0.64946| Valid Loss: 1.16585| Best Loss: 1.16585\n",
      "\n"
     ]
    },
    {
     "name": "stderr",
     "output_type": "stream",
     "text": [
      "Train Epoch 2: 100%|█████████████████████████████████████████████████████| 107/107 [00:26<00:00,  4.04it/s, loss=0.574]\n",
      "Valid Epoch 2: 100%|███████████████████████████████████████████████████████| 27/27 [00:02<00:00,  9.62it/s, loss=1.111]\n"
     ]
    },
    {
     "name": "stdout",
     "output_type": "stream",
     "text": [
      "Saving Model With Loss 1.09640\n",
      "Train Loss: 0.59262| Valid Loss: 1.09640| Best Loss: 1.09640\n",
      "\n"
     ]
    },
    {
     "name": "stderr",
     "output_type": "stream",
     "text": [
      "Train Epoch 3: 100%|█████████████████████████████████████████████████████| 107/107 [00:27<00:00,  3.87it/s, loss=0.521]\n",
      "Valid Epoch 3: 100%|███████████████████████████████████████████████████████| 27/27 [00:02<00:00,  9.07it/s, loss=1.015]\n"
     ]
    },
    {
     "name": "stdout",
     "output_type": "stream",
     "text": [
      "Saving Model With Loss 1.02976\n",
      "Train Loss: 0.54499| Valid Loss: 1.02976| Best Loss: 1.02976\n",
      "\n"
     ]
    },
    {
     "name": "stderr",
     "output_type": "stream",
     "text": [
      "Train Epoch 4: 100%|█████████████████████████████████████████████████████| 107/107 [00:27<00:00,  3.87it/s, loss=0.484]\n",
      "Valid Epoch 4: 100%|███████████████████████████████████████████████████████| 27/27 [00:02<00:00,  9.84it/s, loss=1.007]\n"
     ]
    },
    {
     "name": "stdout",
     "output_type": "stream",
     "text": [
      "Saving Model With Loss 0.98539\n",
      "Train Loss: 0.50927| Valid Loss: 0.98539| Best Loss: 0.98539\n",
      "\n"
     ]
    },
    {
     "name": "stderr",
     "output_type": "stream",
     "text": [
      "Train Epoch 5: 100%|█████████████████████████████████████████████████████| 107/107 [00:27<00:00,  3.94it/s, loss=0.473]\n",
      "Valid Epoch 5: 100%|███████████████████████████████████████████████████████| 27/27 [00:02<00:00,  9.94it/s, loss=0.955]\n"
     ]
    },
    {
     "name": "stdout",
     "output_type": "stream",
     "text": [
      "Saving Model With Loss 0.95329\n",
      "Train Loss: 0.48364| Valid Loss: 0.95329| Best Loss: 0.95329\n",
      "\n"
     ]
    },
    {
     "name": "stderr",
     "output_type": "stream",
     "text": [
      "Train Epoch 6: 100%|█████████████████████████████████████████████████████| 107/107 [00:26<00:00,  4.06it/s, loss=0.448]\n",
      "Valid Epoch 6: 100%|███████████████████████████████████████████████████████| 27/27 [00:03<00:00,  8.99it/s, loss=0.930]\n"
     ]
    },
    {
     "name": "stdout",
     "output_type": "stream",
     "text": [
      "Saving Model With Loss 0.92508\n",
      "Train Loss: 0.46251| Valid Loss: 0.92508| Best Loss: 0.92508\n",
      "\n"
     ]
    },
    {
     "name": "stderr",
     "output_type": "stream",
     "text": [
      "Train Epoch 7: 100%|█████████████████████████████████████████████████████| 107/107 [00:25<00:00,  4.19it/s, loss=0.438]\n",
      "Valid Epoch 7: 100%|███████████████████████████████████████████████████████| 27/27 [00:02<00:00, 10.00it/s, loss=0.905]\n"
     ]
    },
    {
     "name": "stdout",
     "output_type": "stream",
     "text": [
      "Saving Model With Loss 0.90406\n",
      "Train Loss: 0.44504| Valid Loss: 0.90406| Best Loss: 0.90406\n",
      "\n"
     ]
    },
    {
     "name": "stderr",
     "output_type": "stream",
     "text": [
      "Train Epoch 8: 100%|█████████████████████████████████████████████████████| 107/107 [00:25<00:00,  4.20it/s, loss=0.420]\n",
      "Valid Epoch 8: 100%|███████████████████████████████████████████████████████| 27/27 [00:02<00:00,  9.96it/s, loss=0.874]\n"
     ]
    },
    {
     "name": "stdout",
     "output_type": "stream",
     "text": [
      "Saving Model With Loss 0.88532\n",
      "Train Loss: 0.43024| Valid Loss: 0.88532| Best Loss: 0.88532\n",
      "\n"
     ]
    },
    {
     "name": "stderr",
     "output_type": "stream",
     "text": [
      "Train Epoch 9: 100%|█████████████████████████████████████████████████████| 107/107 [00:25<00:00,  4.14it/s, loss=0.401]\n",
      "Valid Epoch 9: 100%|███████████████████████████████████████████████████████| 27/27 [00:02<00:00,  9.97it/s, loss=0.887]\n"
     ]
    },
    {
     "name": "stdout",
     "output_type": "stream",
     "text": [
      "Saving Model With Loss 0.87167\n",
      "Train Loss: 0.41566| Valid Loss: 0.87167| Best Loss: 0.87167\n",
      "\n"
     ]
    },
    {
     "name": "stderr",
     "output_type": "stream",
     "text": [
      "Train Epoch 10: 100%|████████████████████████████████████████████████████| 107/107 [00:25<00:00,  4.21it/s, loss=0.407]\n",
      "Valid Epoch 10: 100%|██████████████████████████████████████████████████████| 27/27 [00:02<00:00, 10.01it/s, loss=0.840]\n"
     ]
    },
    {
     "name": "stdout",
     "output_type": "stream",
     "text": [
      "Saving Model With Loss 0.85344\n",
      "Train Loss: 0.40274| Valid Loss: 0.85344| Best Loss: 0.85344\n",
      "\n"
     ]
    },
    {
     "name": "stderr",
     "output_type": "stream",
     "text": [
      "Train Epoch 11: 100%|████████████████████████████████████████████████████| 107/107 [00:25<00:00,  4.21it/s, loss=0.386]\n",
      "Valid Epoch 11: 100%|██████████████████████████████████████████████████████| 27/27 [00:02<00:00,  9.98it/s, loss=0.852]\n"
     ]
    },
    {
     "name": "stdout",
     "output_type": "stream",
     "text": [
      "Saving Model With Loss 0.83914\n",
      "Train Loss: 0.39103| Valid Loss: 0.83914| Best Loss: 0.83914\n",
      "\n"
     ]
    },
    {
     "name": "stderr",
     "output_type": "stream",
     "text": [
      "Train Epoch 12: 100%|████████████████████████████████████████████████████| 107/107 [00:25<00:00,  4.20it/s, loss=0.361]\n",
      "Valid Epoch 12: 100%|██████████████████████████████████████████████████████| 27/27 [00:03<00:00,  8.99it/s, loss=0.807]\n"
     ]
    },
    {
     "name": "stdout",
     "output_type": "stream",
     "text": [
      "Saving Model With Loss 0.82779\n",
      "Train Loss: 0.37945| Valid Loss: 0.82779| Best Loss: 0.82779\n",
      "\n"
     ]
    },
    {
     "name": "stderr",
     "output_type": "stream",
     "text": [
      "Train Epoch 13: 100%|████████████████████████████████████████████████████| 107/107 [00:25<00:00,  4.20it/s, loss=0.352]\n",
      "Valid Epoch 13: 100%|██████████████████████████████████████████████████████| 27/27 [00:02<00:00,  9.99it/s, loss=0.813]\n"
     ]
    },
    {
     "name": "stdout",
     "output_type": "stream",
     "text": [
      "Saving Model With Loss 0.81330\n",
      "Train Loss: 0.36816| Valid Loss: 0.81330| Best Loss: 0.81330\n",
      "\n"
     ]
    },
    {
     "name": "stderr",
     "output_type": "stream",
     "text": [
      "Train Epoch 14: 100%|████████████████████████████████████████████████████| 107/107 [00:25<00:00,  4.20it/s, loss=0.335]\n",
      "Valid Epoch 14: 100%|██████████████████████████████████████████████████████| 27/27 [00:02<00:00,  9.92it/s, loss=0.783]\n"
     ]
    },
    {
     "name": "stdout",
     "output_type": "stream",
     "text": [
      "Saving Model With Loss 0.80397\n",
      "Train Loss: 0.35739| Valid Loss: 0.80397| Best Loss: 0.80397\n",
      "\n"
     ]
    },
    {
     "name": "stderr",
     "output_type": "stream",
     "text": [
      "Train Epoch 15: 100%|████████████████████████████████████████████████████| 107/107 [00:25<00:00,  4.15it/s, loss=0.343]\n",
      "Valid Epoch 15: 100%|██████████████████████████████████████████████████████| 27/27 [00:02<00:00,  9.95it/s, loss=0.785]\n"
     ]
    },
    {
     "name": "stdout",
     "output_type": "stream",
     "text": [
      "Saving Model With Loss 0.79492\n",
      "Train Loss: 0.34747| Valid Loss: 0.79492| Best Loss: 0.79492\n",
      "\n"
     ]
    },
    {
     "name": "stderr",
     "output_type": "stream",
     "text": [
      "Train Epoch 16: 100%|████████████████████████████████████████████████████| 107/107 [00:25<00:00,  4.20it/s, loss=0.344]\n",
      "Valid Epoch 16: 100%|██████████████████████████████████████████████████████| 27/27 [00:02<00:00,  9.95it/s, loss=0.796]\n"
     ]
    },
    {
     "name": "stdout",
     "output_type": "stream",
     "text": [
      "Saving Model With Loss 0.78299\n",
      "Train Loss: 0.33827| Valid Loss: 0.78299| Best Loss: 0.78299\n",
      "\n"
     ]
    },
    {
     "name": "stderr",
     "output_type": "stream",
     "text": [
      "Train Epoch 17: 100%|████████████████████████████████████████████████████| 107/107 [00:25<00:00,  4.15it/s, loss=0.313]\n",
      "Valid Epoch 17: 100%|██████████████████████████████████████████████████████| 27/27 [00:02<00:00, 10.00it/s, loss=0.762]\n"
     ]
    },
    {
     "name": "stdout",
     "output_type": "stream",
     "text": [
      "Saving Model With Loss 0.77473\n",
      "Train Loss: 0.32935| Valid Loss: 0.77473| Best Loss: 0.77473\n",
      "\n"
     ]
    },
    {
     "name": "stderr",
     "output_type": "stream",
     "text": [
      "Train Epoch 18: 100%|████████████████████████████████████████████████████| 107/107 [00:25<00:00,  4.20it/s, loss=0.336]\n",
      "Valid Epoch 18: 100%|██████████████████████████████████████████████████████| 27/27 [00:02<00:00,  9.99it/s, loss=0.762]\n"
     ]
    },
    {
     "name": "stdout",
     "output_type": "stream",
     "text": [
      "Saving Model With Loss 0.76645\n",
      "Train Loss: 0.32137| Valid Loss: 0.76645| Best Loss: 0.76645\n",
      "\n"
     ]
    },
    {
     "name": "stderr",
     "output_type": "stream",
     "text": [
      "Train Epoch 19: 100%|████████████████████████████████████████████████████| 107/107 [00:25<00:00,  4.20it/s, loss=0.310]\n",
      "Valid Epoch 19: 100%|██████████████████████████████████████████████████████| 27/27 [00:02<00:00,  9.03it/s, loss=0.773]\n"
     ]
    },
    {
     "name": "stdout",
     "output_type": "stream",
     "text": [
      "Saving Model With Loss 0.75894\n",
      "Train Loss: 0.31354| Valid Loss: 0.75894| Best Loss: 0.75894\n",
      "\n"
     ]
    },
    {
     "name": "stderr",
     "output_type": "stream",
     "text": [
      "Train Epoch 20: 100%|████████████████████████████████████████████████████| 107/107 [00:25<00:00,  4.21it/s, loss=0.293]\n",
      "Valid Epoch 20: 100%|██████████████████████████████████████████████████████| 27/27 [00:02<00:00, 10.03it/s, loss=0.742]\n"
     ]
    },
    {
     "name": "stdout",
     "output_type": "stream",
     "text": [
      "Saving Model With Loss 0.75234\n",
      "Train Loss: 0.30621| Valid Loss: 0.75234| Best Loss: 0.75234\n",
      "\n"
     ]
    },
    {
     "name": "stderr",
     "output_type": "stream",
     "text": [
      "Train Epoch 21: 100%|████████████████████████████████████████████████████| 107/107 [00:25<00:00,  4.21it/s, loss=0.301]\n",
      "Valid Epoch 21: 100%|██████████████████████████████████████████████████████| 27/27 [00:02<00:00,  9.97it/s, loss=0.727]\n"
     ]
    },
    {
     "name": "stdout",
     "output_type": "stream",
     "text": [
      "Saving Model With Loss 0.74338\n",
      "Train Loss: 0.29953| Valid Loss: 0.74338| Best Loss: 0.74338\n",
      "\n"
     ]
    },
    {
     "name": "stderr",
     "output_type": "stream",
     "text": [
      "Train Epoch 22: 100%|████████████████████████████████████████████████████| 107/107 [00:25<00:00,  4.16it/s, loss=0.275]\n",
      "Valid Epoch 22: 100%|██████████████████████████████████████████████████████| 27/27 [00:02<00:00,  9.99it/s, loss=0.747]\n"
     ]
    },
    {
     "name": "stdout",
     "output_type": "stream",
     "text": [
      "Saving Model With Loss 0.74145\n",
      "Train Loss: 0.29282| Valid Loss: 0.74145| Best Loss: 0.74145\n",
      "\n"
     ]
    },
    {
     "name": "stderr",
     "output_type": "stream",
     "text": [
      "Train Epoch 23: 100%|████████████████████████████████████████████████████| 107/107 [00:25<00:00,  4.20it/s, loss=0.281]\n",
      "Valid Epoch 23: 100%|██████████████████████████████████████████████████████| 27/27 [00:02<00:00,  9.99it/s, loss=0.726]\n"
     ]
    },
    {
     "name": "stdout",
     "output_type": "stream",
     "text": [
      "Saving Model With Loss 0.73265\n",
      "Train Loss: 0.28644| Valid Loss: 0.73265| Best Loss: 0.73265\n",
      "\n"
     ]
    },
    {
     "name": "stderr",
     "output_type": "stream",
     "text": [
      "Train Epoch 24: 100%|████████████████████████████████████████████████████| 107/107 [00:25<00:00,  4.20it/s, loss=0.303]\n",
      "Valid Epoch 24: 100%|██████████████████████████████████████████████████████| 27/27 [00:02<00:00,  9.96it/s, loss=0.755]\n"
     ]
    },
    {
     "name": "stdout",
     "output_type": "stream",
     "text": [
      "Saving Model With Loss 0.72816\n",
      "Train Loss: 0.28047| Valid Loss: 0.72816| Best Loss: 0.72816\n",
      "\n"
     ]
    },
    {
     "name": "stderr",
     "output_type": "stream",
     "text": [
      "Train Epoch 25: 100%|████████████████████████████████████████████████████| 107/107 [00:25<00:00,  4.16it/s, loss=0.270]\n",
      "Valid Epoch 25: 100%|██████████████████████████████████████████████████████| 27/27 [00:02<00:00,  9.99it/s, loss=0.725]\n"
     ]
    },
    {
     "name": "stdout",
     "output_type": "stream",
     "text": [
      "Saving Model With Loss 0.72346\n",
      "Train Loss: 0.27417| Valid Loss: 0.72346| Best Loss: 0.72346\n",
      "\n"
     ]
    },
    {
     "name": "stderr",
     "output_type": "stream",
     "text": [
      "Train Epoch 26: 100%|████████████████████████████████████████████████████| 107/107 [00:25<00:00,  4.20it/s, loss=0.257]\n",
      "Valid Epoch 26: 100%|██████████████████████████████████████████████████████| 27/27 [00:02<00:00,  9.96it/s, loss=0.736]\n"
     ]
    },
    {
     "name": "stdout",
     "output_type": "stream",
     "text": [
      "Saving Model With Loss 0.71764\n",
      "Train Loss: 0.26803| Valid Loss: 0.71764| Best Loss: 0.71764\n",
      "\n"
     ]
    },
    {
     "name": "stderr",
     "output_type": "stream",
     "text": [
      "Train Epoch 27: 100%|████████████████████████████████████████████████████| 107/107 [00:25<00:00,  4.19it/s, loss=0.242]\n",
      "Valid Epoch 27: 100%|██████████████████████████████████████████████████████| 27/27 [00:03<00:00,  8.84it/s, loss=0.713]\n"
     ]
    },
    {
     "name": "stdout",
     "output_type": "stream",
     "text": [
      "Saving Model With Loss 0.70926\n",
      "Train Loss: 0.26191| Valid Loss: 0.70926| Best Loss: 0.70926\n",
      "\n"
     ]
    },
    {
     "name": "stderr",
     "output_type": "stream",
     "text": [
      "Train Epoch 28: 100%|████████████████████████████████████████████████████| 107/107 [00:25<00:00,  4.18it/s, loss=0.272]\n",
      "Valid Epoch 28: 100%|██████████████████████████████████████████████████████| 27/27 [00:02<00:00,  9.77it/s, loss=0.716]\n"
     ]
    },
    {
     "name": "stdout",
     "output_type": "stream",
     "text": [
      "Saving Model With Loss 0.70504\n",
      "Train Loss: 0.25614| Valid Loss: 0.70504| Best Loss: 0.70504\n",
      "\n"
     ]
    },
    {
     "name": "stderr",
     "output_type": "stream",
     "text": [
      "Train Epoch 29: 100%|████████████████████████████████████████████████████| 107/107 [00:25<00:00,  4.20it/s, loss=0.263]\n",
      "Valid Epoch 29: 100%|██████████████████████████████████████████████████████| 27/27 [00:02<00:00,  9.97it/s, loss=0.693]\n"
     ]
    },
    {
     "name": "stdout",
     "output_type": "stream",
     "text": [
      "Saving Model With Loss 0.69936\n",
      "Train Loss: 0.24992| Valid Loss: 0.69936| Best Loss: 0.69936\n",
      "\n"
     ]
    },
    {
     "name": "stderr",
     "output_type": "stream",
     "text": [
      "Train Epoch 30: 100%|████████████████████████████████████████████████████| 107/107 [00:25<00:00,  4.20it/s, loss=0.243]\n",
      "Valid Epoch 30: 100%|██████████████████████████████████████████████████████| 27/27 [00:02<00:00,  9.95it/s, loss=0.687]\n"
     ]
    },
    {
     "name": "stdout",
     "output_type": "stream",
     "text": [
      "Saving Model With Loss 0.69182\n",
      "Train Loss: 0.24377| Valid Loss: 0.69182| Best Loss: 0.69182\n",
      "\n"
     ]
    },
    {
     "name": "stderr",
     "output_type": "stream",
     "text": [
      "Train Epoch 31: 100%|████████████████████████████████████████████████████| 107/107 [00:25<00:00,  4.12it/s, loss=0.228]\n",
      "Valid Epoch 31: 100%|██████████████████████████████████████████████████████| 27/27 [00:02<00:00,  9.99it/s, loss=0.699]\n"
     ]
    },
    {
     "name": "stdout",
     "output_type": "stream",
     "text": [
      "Saving Model With Loss 0.68488\n",
      "Train Loss: 0.23744| Valid Loss: 0.68488| Best Loss: 0.68488\n",
      "\n"
     ]
    },
    {
     "name": "stderr",
     "output_type": "stream",
     "text": [
      "Train Epoch 32: 100%|████████████████████████████████████████████████████| 107/107 [00:25<00:00,  4.20it/s, loss=0.216]\n",
      "Valid Epoch 32: 100%|██████████████████████████████████████████████████████| 27/27 [00:02<00:00,  9.96it/s, loss=0.683]\n"
     ]
    },
    {
     "name": "stdout",
     "output_type": "stream",
     "text": [
      "Saving Model With Loss 0.67905\n",
      "Train Loss: 0.23124| Valid Loss: 0.67905| Best Loss: 0.67905\n",
      "\n"
     ]
    },
    {
     "name": "stderr",
     "output_type": "stream",
     "text": [
      "Train Epoch 33: 100%|████████████████████████████████████████████████████| 107/107 [00:25<00:00,  4.15it/s, loss=0.218]\n",
      "Valid Epoch 33: 100%|██████████████████████████████████████████████████████| 27/27 [00:02<00:00,  9.93it/s, loss=0.684]\n"
     ]
    },
    {
     "name": "stdout",
     "output_type": "stream",
     "text": [
      "Saving Model With Loss 0.67112\n",
      "Train Loss: 0.22501| Valid Loss: 0.67112| Best Loss: 0.67112\n",
      "\n"
     ]
    },
    {
     "name": "stderr",
     "output_type": "stream",
     "text": [
      "Train Epoch 34: 100%|████████████████████████████████████████████████████| 107/107 [00:25<00:00,  4.20it/s, loss=0.208]\n",
      "Valid Epoch 34: 100%|██████████████████████████████████████████████████████| 27/27 [00:02<00:00, 10.00it/s, loss=0.662]\n"
     ]
    },
    {
     "name": "stdout",
     "output_type": "stream",
     "text": [
      "Saving Model With Loss 0.66589\n",
      "Train Loss: 0.21881| Valid Loss: 0.66589| Best Loss: 0.66589\n",
      "\n"
     ]
    },
    {
     "name": "stderr",
     "output_type": "stream",
     "text": [
      "Train Epoch 35: 100%|████████████████████████████████████████████████████| 107/107 [00:25<00:00,  4.20it/s, loss=0.197]\n",
      "Valid Epoch 35: 100%|██████████████████████████████████████████████████████| 27/27 [00:02<00:00,  9.05it/s, loss=0.653]\n"
     ]
    },
    {
     "name": "stdout",
     "output_type": "stream",
     "text": [
      "Saving Model With Loss 0.65645\n",
      "Train Loss: 0.21273| Valid Loss: 0.65645| Best Loss: 0.65645\n",
      "\n"
     ]
    },
    {
     "name": "stderr",
     "output_type": "stream",
     "text": [
      "Train Epoch 36: 100%|████████████████████████████████████████████████████| 107/107 [00:25<00:00,  4.20it/s, loss=0.225]\n",
      "Valid Epoch 36: 100%|██████████████████████████████████████████████████████| 27/27 [00:02<00:00,  9.97it/s, loss=0.641]\n"
     ]
    },
    {
     "name": "stdout",
     "output_type": "stream",
     "text": [
      "Saving Model With Loss 0.65046\n",
      "Train Loss: 0.20703| Valid Loss: 0.65046| Best Loss: 0.65046\n",
      "\n"
     ]
    },
    {
     "name": "stderr",
     "output_type": "stream",
     "text": [
      "Train Epoch 37: 100%|████████████████████████████████████████████████████| 107/107 [00:25<00:00,  4.20it/s, loss=0.195]\n",
      "Valid Epoch 37: 100%|██████████████████████████████████████████████████████| 27/27 [00:02<00:00,  9.96it/s, loss=0.614]\n"
     ]
    },
    {
     "name": "stdout",
     "output_type": "stream",
     "text": [
      "Saving Model With Loss 0.64333\n",
      "Train Loss: 0.20089| Valid Loss: 0.64333| Best Loss: 0.64333\n",
      "\n"
     ]
    },
    {
     "name": "stderr",
     "output_type": "stream",
     "text": [
      "Train Epoch 38: 100%|████████████████████████████████████████████████████| 107/107 [00:25<00:00,  4.15it/s, loss=0.177]\n",
      "Valid Epoch 38: 100%|██████████████████████████████████████████████████████| 27/27 [00:02<00:00,  9.99it/s, loss=0.630]\n"
     ]
    },
    {
     "name": "stdout",
     "output_type": "stream",
     "text": [
      "Saving Model With Loss 0.63648\n",
      "Train Loss: 0.19528| Valid Loss: 0.63648| Best Loss: 0.63648\n",
      "\n"
     ]
    },
    {
     "name": "stderr",
     "output_type": "stream",
     "text": [
      "Train Epoch 39: 100%|████████████████████████████████████████████████████| 107/107 [00:25<00:00,  4.17it/s, loss=0.195]\n",
      "Valid Epoch 39: 100%|██████████████████████████████████████████████████████| 27/27 [00:02<00:00, 10.02it/s, loss=0.635]\n"
     ]
    },
    {
     "name": "stdout",
     "output_type": "stream",
     "text": [
      "Saving Model With Loss 0.63076\n",
      "Train Loss: 0.19000| Valid Loss: 0.63076| Best Loss: 0.63076\n",
      "\n"
     ]
    },
    {
     "name": "stderr",
     "output_type": "stream",
     "text": [
      "Train Epoch 40: 100%|████████████████████████████████████████████████████| 107/107 [00:25<00:00,  4.20it/s, loss=0.179]\n",
      "Valid Epoch 40: 100%|██████████████████████████████████████████████████████| 27/27 [00:02<00:00,  9.96it/s, loss=0.610]\n"
     ]
    },
    {
     "name": "stdout",
     "output_type": "stream",
     "text": [
      "Saving Model With Loss 0.62285\n",
      "Train Loss: 0.18459| Valid Loss: 0.62285| Best Loss: 0.62285\n",
      "\n"
     ]
    },
    {
     "name": "stderr",
     "output_type": "stream",
     "text": [
      "Train Epoch 41: 100%|████████████████████████████████████████████████████| 107/107 [00:25<00:00,  4.20it/s, loss=0.181]\n",
      "Valid Epoch 41: 100%|██████████████████████████████████████████████████████| 27/27 [00:02<00:00,  9.99it/s, loss=0.630]\n"
     ]
    },
    {
     "name": "stdout",
     "output_type": "stream",
     "text": [
      "Saving Model With Loss 0.61787\n",
      "Train Loss: 0.17960| Valid Loss: 0.61787| Best Loss: 0.61787\n",
      "\n"
     ]
    },
    {
     "name": "stderr",
     "output_type": "stream",
     "text": [
      "Train Epoch 42: 100%|████████████████████████████████████████████████████| 107/107 [00:25<00:00,  4.15it/s, loss=0.150]\n",
      "Valid Epoch 42: 100%|██████████████████████████████████████████████████████| 27/27 [00:02<00:00,  9.98it/s, loss=0.630]\n"
     ]
    },
    {
     "name": "stdout",
     "output_type": "stream",
     "text": [
      "Saving Model With Loss 0.61274\n",
      "Train Loss: 0.17447| Valid Loss: 0.61274| Best Loss: 0.61274\n",
      "\n"
     ]
    },
    {
     "name": "stderr",
     "output_type": "stream",
     "text": [
      "Train Epoch 43: 100%|████████████████████████████████████████████████████| 107/107 [00:25<00:00,  4.20it/s, loss=0.170]\n",
      "Valid Epoch 43: 100%|██████████████████████████████████████████████████████| 27/27 [00:02<00:00,  9.97it/s, loss=0.589]\n"
     ]
    },
    {
     "name": "stdout",
     "output_type": "stream",
     "text": [
      "Saving Model With Loss 0.60661\n",
      "Train Loss: 0.17009| Valid Loss: 0.60661| Best Loss: 0.60661\n",
      "\n"
     ]
    },
    {
     "name": "stderr",
     "output_type": "stream",
     "text": [
      "Train Epoch 44: 100%|████████████████████████████████████████████████████| 107/107 [00:25<00:00,  4.16it/s, loss=0.147]\n",
      "Valid Epoch 44: 100%|██████████████████████████████████████████████████████| 27/27 [00:02<00:00,  9.97it/s, loss=0.598]\n"
     ]
    },
    {
     "name": "stdout",
     "output_type": "stream",
     "text": [
      "Saving Model With Loss 0.60104\n",
      "Train Loss: 0.16529| Valid Loss: 0.60104| Best Loss: 0.60104\n",
      "\n"
     ]
    },
    {
     "name": "stderr",
     "output_type": "stream",
     "text": [
      "Train Epoch 45: 100%|████████████████████████████████████████████████████| 107/107 [00:25<00:00,  4.20it/s, loss=0.177]\n",
      "Valid Epoch 45: 100%|██████████████████████████████████████████████████████| 27/27 [00:02<00:00,  9.97it/s, loss=0.585]\n"
     ]
    },
    {
     "name": "stdout",
     "output_type": "stream",
     "text": [
      "Saving Model With Loss 0.59666\n",
      "Train Loss: 0.16141| Valid Loss: 0.59666| Best Loss: 0.59666\n",
      "\n"
     ]
    },
    {
     "name": "stderr",
     "output_type": "stream",
     "text": [
      "Train Epoch 46: 100%|████████████████████████████████████████████████████| 107/107 [00:25<00:00,  4.15it/s, loss=0.165]\n",
      "Valid Epoch 46: 100%|██████████████████████████████████████████████████████| 27/27 [00:02<00:00,  9.99it/s, loss=0.583]\n"
     ]
    },
    {
     "name": "stdout",
     "output_type": "stream",
     "text": [
      "Saving Model With Loss 0.59051\n",
      "Train Loss: 0.15739| Valid Loss: 0.59051| Best Loss: 0.59051\n",
      "\n"
     ]
    },
    {
     "name": "stderr",
     "output_type": "stream",
     "text": [
      "Train Epoch 47: 100%|████████████████████████████████████████████████████| 107/107 [00:25<00:00,  4.20it/s, loss=0.141]\n",
      "Valid Epoch 47: 100%|██████████████████████████████████████████████████████| 27/27 [00:02<00:00,  9.96it/s, loss=0.596]\n"
     ]
    },
    {
     "name": "stdout",
     "output_type": "stream",
     "text": [
      "Saving Model With Loss 0.58559\n",
      "Train Loss: 0.15324| Valid Loss: 0.58559| Best Loss: 0.58559\n",
      "\n"
     ]
    },
    {
     "name": "stderr",
     "output_type": "stream",
     "text": [
      "Train Epoch 48: 100%|████████████████████████████████████████████████████| 107/107 [00:25<00:00,  4.20it/s, loss=0.135]\n",
      "Valid Epoch 48: 100%|██████████████████████████████████████████████████████| 27/27 [00:02<00:00,  9.04it/s, loss=0.579]\n"
     ]
    },
    {
     "name": "stdout",
     "output_type": "stream",
     "text": [
      "Saving Model With Loss 0.58141\n",
      "Train Loss: 0.14960| Valid Loss: 0.58141| Best Loss: 0.58141\n",
      "\n"
     ]
    },
    {
     "name": "stderr",
     "output_type": "stream",
     "text": [
      "Train Epoch 49: 100%|████████████████████████████████████████████████████| 107/107 [00:25<00:00,  4.20it/s, loss=0.144]\n",
      "Valid Epoch 49: 100%|██████████████████████████████████████████████████████| 27/27 [00:02<00:00,  9.98it/s, loss=0.587]\n"
     ]
    },
    {
     "name": "stdout",
     "output_type": "stream",
     "text": [
      "Saving Model With Loss 0.58019\n",
      "Train Loss: 0.14606| Valid Loss: 0.58019| Best Loss: 0.58019\n",
      "\n"
     ]
    },
    {
     "name": "stderr",
     "output_type": "stream",
     "text": [
      "Train Epoch 50: 100%|████████████████████████████████████████████████████| 107/107 [00:25<00:00,  4.20it/s, loss=0.134]\n",
      "Valid Epoch 50: 100%|██████████████████████████████████████████████████████| 27/27 [00:02<00:00,  9.95it/s, loss=0.586]\n"
     ]
    },
    {
     "name": "stdout",
     "output_type": "stream",
     "text": [
      "Saving Model With Loss 0.57637\n",
      "Train Loss: 0.14287| Valid Loss: 0.57637| Best Loss: 0.57637\n",
      "\n"
     ]
    },
    {
     "name": "stderr",
     "output_type": "stream",
     "text": [
      "Train Epoch 51: 100%|████████████████████████████████████████████████████| 107/107 [00:25<00:00,  4.16it/s, loss=0.143]\n",
      "Valid Epoch 51: 100%|██████████████████████████████████████████████████████| 27/27 [00:02<00:00,  9.98it/s, loss=0.566]\n"
     ]
    },
    {
     "name": "stdout",
     "output_type": "stream",
     "text": [
      "Saving Model With Loss 0.57265\n",
      "Train Loss: 0.13976| Valid Loss: 0.57265| Best Loss: 0.57265\n",
      "\n"
     ]
    },
    {
     "name": "stderr",
     "output_type": "stream",
     "text": [
      "Train Epoch 52: 100%|████████████████████████████████████████████████████| 107/107 [00:25<00:00,  4.19it/s, loss=0.139]\n",
      "Valid Epoch 52: 100%|██████████████████████████████████████████████████████| 27/27 [00:02<00:00,  9.89it/s, loss=0.560]\n"
     ]
    },
    {
     "name": "stdout",
     "output_type": "stream",
     "text": [
      "Saving Model With Loss 0.57047\n",
      "Train Loss: 0.13686| Valid Loss: 0.57047| Best Loss: 0.57047\n",
      "\n"
     ]
    },
    {
     "name": "stderr",
     "output_type": "stream",
     "text": [
      "Train Epoch 53: 100%|████████████████████████████████████████████████████| 107/107 [00:25<00:00,  4.16it/s, loss=0.143]\n",
      "Valid Epoch 53: 100%|██████████████████████████████████████████████████████| 27/27 [00:02<00:00,  9.97it/s, loss=0.580]\n"
     ]
    },
    {
     "name": "stdout",
     "output_type": "stream",
     "text": [
      "Saving Model With Loss 0.56875\n",
      "Train Loss: 0.13413| Valid Loss: 0.56875| Best Loss: 0.56875\n",
      "\n"
     ]
    },
    {
     "name": "stderr",
     "output_type": "stream",
     "text": [
      "Train Epoch 54: 100%|████████████████████████████████████████████████████| 107/107 [00:25<00:00,  4.15it/s, loss=0.143]\n",
      "Valid Epoch 54: 100%|██████████████████████████████████████████████████████| 27/27 [00:02<00:00,  9.97it/s, loss=0.577]\n"
     ]
    },
    {
     "name": "stdout",
     "output_type": "stream",
     "text": [
      "Saving Model With Loss 0.56226\n",
      "Train Loss: 0.13127| Valid Loss: 0.56226| Best Loss: 0.56226\n",
      "\n"
     ]
    },
    {
     "name": "stderr",
     "output_type": "stream",
     "text": [
      "Train Epoch 55: 100%|████████████████████████████████████████████████████| 107/107 [00:25<00:00,  4.19it/s, loss=0.135]\n",
      "Valid Epoch 55: 100%|██████████████████████████████████████████████████████| 27/27 [00:02<00:00,  9.95it/s, loss=0.560]\n"
     ]
    },
    {
     "name": "stdout",
     "output_type": "stream",
     "text": [
      "Saving Model With Loss 0.55817\n",
      "Train Loss: 0.12872| Valid Loss: 0.55817| Best Loss: 0.55817\n",
      "\n"
     ]
    },
    {
     "name": "stderr",
     "output_type": "stream",
     "text": [
      "Train Epoch 56: 100%|████████████████████████████████████████████████████| 107/107 [00:25<00:00,  4.20it/s, loss=0.130]\n",
      "Valid Epoch 56: 100%|██████████████████████████████████████████████████████| 27/27 [00:02<00:00,  9.92it/s, loss=0.567]\n"
     ]
    },
    {
     "name": "stdout",
     "output_type": "stream",
     "text": [
      "Train Loss: 0.12622| Valid Loss: 0.56042| Best Loss: 0.55817\n",
      "\n"
     ]
    },
    {
     "name": "stderr",
     "output_type": "stream",
     "text": [
      "Train Epoch 57: 100%|████████████████████████████████████████████████████| 107/107 [00:26<00:00,  4.09it/s, loss=0.124]\n",
      "Valid Epoch 57: 100%|██████████████████████████████████████████████████████| 27/27 [00:02<00:00,  9.76it/s, loss=0.562]\n"
     ]
    },
    {
     "name": "stdout",
     "output_type": "stream",
     "text": [
      "Saving Model With Loss 0.55629\n",
      "Train Loss: 0.12388| Valid Loss: 0.55629| Best Loss: 0.55629\n",
      "\n"
     ]
    },
    {
     "name": "stderr",
     "output_type": "stream",
     "text": [
      "Train Epoch 58: 100%|████████████████████████████████████████████████████| 107/107 [00:25<00:00,  4.15it/s, loss=0.129]\n",
      "Valid Epoch 58: 100%|██████████████████████████████████████████████████████| 27/27 [00:02<00:00,  9.96it/s, loss=0.583]\n"
     ]
    },
    {
     "name": "stdout",
     "output_type": "stream",
     "text": [
      "Saving Model With Loss 0.55573\n",
      "Train Loss: 0.12183| Valid Loss: 0.55573| Best Loss: 0.55573\n",
      "\n"
     ]
    },
    {
     "name": "stderr",
     "output_type": "stream",
     "text": [
      "Train Epoch 59: 100%|████████████████████████████████████████████████████| 107/107 [00:25<00:00,  4.15it/s, loss=0.116]\n",
      "Valid Epoch 59: 100%|██████████████████████████████████████████████████████| 27/27 [00:02<00:00,  9.99it/s, loss=0.539]\n"
     ]
    },
    {
     "name": "stdout",
     "output_type": "stream",
     "text": [
      "Saving Model With Loss 0.55528\n",
      "Train Loss: 0.11964| Valid Loss: 0.55528| Best Loss: 0.55528\n",
      "\n"
     ]
    },
    {
     "name": "stderr",
     "output_type": "stream",
     "text": [
      "Train Epoch 60: 100%|████████████████████████████████████████████████████| 107/107 [00:25<00:00,  4.20it/s, loss=0.121]\n",
      "Valid Epoch 60: 100%|██████████████████████████████████████████████████████| 27/27 [00:02<00:00,  9.97it/s, loss=0.538]\n"
     ]
    },
    {
     "name": "stdout",
     "output_type": "stream",
     "text": [
      "Train Loss: 0.11768| Valid Loss: 0.55600| Best Loss: 0.55528\n",
      "\n"
     ]
    },
    {
     "name": "stderr",
     "output_type": "stream",
     "text": [
      "Train Epoch 61: 100%|████████████████████████████████████████████████████| 107/107 [00:25<00:00,  4.15it/s, loss=0.115]\n",
      "Valid Epoch 61: 100%|██████████████████████████████████████████████████████| 27/27 [00:02<00:00,  9.98it/s, loss=0.542]\n"
     ]
    },
    {
     "name": "stdout",
     "output_type": "stream",
     "text": [
      "Saving Model With Loss 0.55279\n",
      "Train Loss: 0.11577| Valid Loss: 0.55279| Best Loss: 0.55279\n",
      "\n"
     ]
    },
    {
     "name": "stderr",
     "output_type": "stream",
     "text": [
      "Train Epoch 62: 100%|████████████████████████████████████████████████████| 107/107 [00:25<00:00,  4.20it/s, loss=0.120]\n",
      "Valid Epoch 62: 100%|██████████████████████████████████████████████████████| 27/27 [00:02<00:00, 10.00it/s, loss=0.549]\n"
     ]
    },
    {
     "name": "stdout",
     "output_type": "stream",
     "text": [
      "Saving Model With Loss 0.54921\n",
      "Train Loss: 0.11400| Valid Loss: 0.54921| Best Loss: 0.54921\n",
      "\n"
     ]
    },
    {
     "name": "stderr",
     "output_type": "stream",
     "text": [
      "Train Epoch 63: 100%|████████████████████████████████████████████████████| 107/107 [00:25<00:00,  4.20it/s, loss=0.111]\n",
      "Valid Epoch 63: 100%|██████████████████████████████████████████████████████| 27/27 [00:02<00:00,  9.97it/s, loss=0.563]\n"
     ]
    },
    {
     "name": "stdout",
     "output_type": "stream",
     "text": [
      "Saving Model With Loss 0.54780\n",
      "Train Loss: 0.11223| Valid Loss: 0.54780| Best Loss: 0.54780\n",
      "\n"
     ]
    },
    {
     "name": "stderr",
     "output_type": "stream",
     "text": [
      "Train Epoch 64: 100%|████████████████████████████████████████████████████| 107/107 [00:25<00:00,  4.15it/s, loss=0.102]\n",
      "Valid Epoch 64: 100%|██████████████████████████████████████████████████████| 27/27 [00:02<00:00,  9.83it/s, loss=0.536]\n"
     ]
    },
    {
     "name": "stdout",
     "output_type": "stream",
     "text": [
      "Saving Model With Loss 0.54760\n",
      "Train Loss: 0.11036| Valid Loss: 0.54760| Best Loss: 0.54760\n",
      "\n"
     ]
    },
    {
     "name": "stderr",
     "output_type": "stream",
     "text": [
      "Train Epoch 65: 100%|████████████████████████████████████████████████████| 107/107 [00:25<00:00,  4.18it/s, loss=0.124]\n",
      "Valid Epoch 65: 100%|██████████████████████████████████████████████████████| 27/27 [00:02<00:00,  9.88it/s, loss=0.568]\n"
     ]
    },
    {
     "name": "stdout",
     "output_type": "stream",
     "text": [
      "Saving Model With Loss 0.54630\n",
      "Train Loss: 0.10897| Valid Loss: 0.54630| Best Loss: 0.54630\n",
      "\n"
     ]
    },
    {
     "name": "stderr",
     "output_type": "stream",
     "text": [
      "Train Epoch 66: 100%|████████████████████████████████████████████████████| 107/107 [00:25<00:00,  4.18it/s, loss=0.098]\n",
      "Valid Epoch 66: 100%|██████████████████████████████████████████████████████| 27/27 [00:03<00:00,  8.96it/s, loss=0.550]\n"
     ]
    },
    {
     "name": "stdout",
     "output_type": "stream",
     "text": [
      "Train Loss: 0.10724| Valid Loss: 0.54908| Best Loss: 0.54630\n",
      "\n"
     ]
    },
    {
     "name": "stderr",
     "output_type": "stream",
     "text": [
      "Train Epoch 67: 100%|████████████████████████████████████████████████████| 107/107 [00:25<00:00,  4.18it/s, loss=0.111]\n",
      "Valid Epoch 67: 100%|██████████████████████████████████████████████████████| 27/27 [00:02<00:00,  9.91it/s, loss=0.557]\n"
     ]
    },
    {
     "name": "stdout",
     "output_type": "stream",
     "text": [
      "Saving Model With Loss 0.54400\n",
      "Train Loss: 0.10579| Valid Loss: 0.54400| Best Loss: 0.54400\n",
      "\n"
     ]
    },
    {
     "name": "stderr",
     "output_type": "stream",
     "text": [
      "Train Epoch 68: 100%|████████████████████████████████████████████████████| 107/107 [00:25<00:00,  4.18it/s, loss=0.099]\n",
      "Valid Epoch 68: 100%|██████████████████████████████████████████████████████| 27/27 [00:02<00:00,  9.89it/s, loss=0.535]\n"
     ]
    },
    {
     "name": "stdout",
     "output_type": "stream",
     "text": [
      "Train Loss: 0.10435| Valid Loss: 0.54835| Best Loss: 0.54400\n",
      "\n"
     ]
    },
    {
     "name": "stderr",
     "output_type": "stream",
     "text": [
      "Train Epoch 69: 100%|████████████████████████████████████████████████████| 107/107 [00:26<00:00,  4.11it/s, loss=0.107]\n",
      "Valid Epoch 69: 100%|██████████████████████████████████████████████████████| 27/27 [00:02<00:00,  9.81it/s, loss=0.536]\n"
     ]
    },
    {
     "name": "stdout",
     "output_type": "stream",
     "text": [
      "Saving Model With Loss 0.54305\n",
      "Train Loss: 0.10300| Valid Loss: 0.54305| Best Loss: 0.54305\n",
      "\n"
     ]
    },
    {
     "name": "stderr",
     "output_type": "stream",
     "text": [
      "Train Epoch 70: 100%|████████████████████████████████████████████████████| 107/107 [00:25<00:00,  4.19it/s, loss=0.116]\n",
      "Valid Epoch 70: 100%|██████████████████████████████████████████████████████| 27/27 [00:02<00:00,  9.95it/s, loss=0.550]\n"
     ]
    },
    {
     "name": "stdout",
     "output_type": "stream",
     "text": [
      "Train Loss: 0.10179| Valid Loss: 0.54738| Best Loss: 0.54305\n",
      "\n"
     ]
    },
    {
     "name": "stderr",
     "output_type": "stream",
     "text": [
      "Train Epoch 71: 100%|████████████████████████████████████████████████████| 107/107 [00:25<00:00,  4.18it/s, loss=0.101]\n",
      "Valid Epoch 71: 100%|██████████████████████████████████████████████████████| 27/27 [00:02<00:00,  9.89it/s, loss=0.576]\n"
     ]
    },
    {
     "name": "stdout",
     "output_type": "stream",
     "text": [
      "Train Loss: 0.10036| Valid Loss: 0.54460| Best Loss: 0.54305\n",
      "\n"
     ]
    },
    {
     "name": "stderr",
     "output_type": "stream",
     "text": [
      "Train Epoch 72: 100%|████████████████████████████████████████████████████| 107/107 [00:25<00:00,  4.18it/s, loss=0.089]\n",
      "Valid Epoch 72: 100%|██████████████████████████████████████████████████████| 27/27 [00:03<00:00,  8.92it/s, loss=0.536]\n"
     ]
    },
    {
     "name": "stdout",
     "output_type": "stream",
     "text": [
      "Train Loss: 0.09897| Valid Loss: 0.54636| Best Loss: 0.54305\n",
      "\n"
     ]
    },
    {
     "name": "stderr",
     "output_type": "stream",
     "text": [
      "Train Epoch 73: 100%|████████████████████████████████████████████████████| 107/107 [00:25<00:00,  4.17it/s, loss=0.091]\n",
      "Valid Epoch 73: 100%|██████████████████████████████████████████████████████| 27/27 [00:02<00:00,  9.92it/s, loss=0.564]\n"
     ]
    },
    {
     "name": "stdout",
     "output_type": "stream",
     "text": [
      "Train Loss: 0.09776| Valid Loss: 0.54667| Best Loss: 0.54305\n",
      "\n"
     ]
    },
    {
     "name": "stderr",
     "output_type": "stream",
     "text": [
      "Train Epoch 74: 100%|████████████████████████████████████████████████████| 107/107 [00:25<00:00,  4.17it/s, loss=0.099]\n",
      "Valid Epoch 74: 100%|██████████████████████████████████████████████████████| 27/27 [00:02<00:00,  9.90it/s, loss=0.553]\n"
     ]
    },
    {
     "name": "stdout",
     "output_type": "stream",
     "text": [
      "Train Loss: 0.09669| Valid Loss: 0.54711| Best Loss: 0.54305\n",
      "\n"
     ]
    },
    {
     "name": "stderr",
     "output_type": "stream",
     "text": [
      "Train Epoch 75: 100%|████████████████████████████████████████████████████| 107/107 [00:25<00:00,  4.14it/s, loss=0.094]\n",
      "Valid Epoch 75: 100%|██████████████████████████████████████████████████████| 27/27 [00:02<00:00,  9.86it/s, loss=0.546]\n"
     ]
    },
    {
     "name": "stdout",
     "output_type": "stream",
     "text": [
      "Train Loss: 0.09556| Valid Loss: 0.54468| Best Loss: 0.54305\n",
      "\n"
     ]
    },
    {
     "name": "stderr",
     "output_type": "stream",
     "text": [
      "Train Epoch 76: 100%|████████████████████████████████████████████████████| 107/107 [00:25<00:00,  4.18it/s, loss=0.097]\n",
      "Valid Epoch 76: 100%|██████████████████████████████████████████████████████| 27/27 [00:02<00:00,  9.88it/s, loss=0.543]\n"
     ]
    },
    {
     "name": "stdout",
     "output_type": "stream",
     "text": [
      "Train Loss: 0.09456| Valid Loss: 0.54410| Best Loss: 0.54305\n",
      "\n"
     ]
    },
    {
     "name": "stderr",
     "output_type": "stream",
     "text": [
      "Train Epoch 77: 100%|████████████████████████████████████████████████████| 107/107 [00:25<00:00,  4.13it/s, loss=0.084]\n",
      "Valid Epoch 77: 100%|██████████████████████████████████████████████████████| 27/27 [00:02<00:00,  9.88it/s, loss=0.538]\n"
     ]
    },
    {
     "name": "stdout",
     "output_type": "stream",
     "text": [
      "Train Loss: 0.09343| Valid Loss: 0.54822| Best Loss: 0.54305\n",
      "\n"
     ]
    },
    {
     "name": "stderr",
     "output_type": "stream",
     "text": [
      "Train Epoch 78: 100%|████████████████████████████████████████████████████| 107/107 [00:25<00:00,  4.18it/s, loss=0.095]\n",
      "Valid Epoch 78: 100%|██████████████████████████████████████████████████████| 27/27 [00:02<00:00,  9.87it/s, loss=0.534]\n"
     ]
    },
    {
     "name": "stdout",
     "output_type": "stream",
     "text": [
      "Saving Model With Loss 0.54151\n",
      "Train Loss: 0.09244| Valid Loss: 0.54151| Best Loss: 0.54151\n",
      "\n"
     ]
    },
    {
     "name": "stderr",
     "output_type": "stream",
     "text": [
      "Train Epoch 79: 100%|████████████████████████████████████████████████████| 107/107 [00:25<00:00,  4.18it/s, loss=0.102]\n",
      "Valid Epoch 79: 100%|██████████████████████████████████████████████████████| 27/27 [00:03<00:00,  8.95it/s, loss=0.537]\n"
     ]
    },
    {
     "name": "stdout",
     "output_type": "stream",
     "text": [
      "Train Loss: 0.09154| Valid Loss: 0.54466| Best Loss: 0.54151\n",
      "\n"
     ]
    },
    {
     "name": "stderr",
     "output_type": "stream",
     "text": [
      "Train Epoch 80: 100%|████████████████████████████████████████████████████| 107/107 [00:25<00:00,  4.18it/s, loss=0.097]\n",
      "Valid Epoch 80: 100%|██████████████████████████████████████████████████████| 27/27 [00:02<00:00,  9.90it/s, loss=0.544]\n"
     ]
    },
    {
     "name": "stdout",
     "output_type": "stream",
     "text": [
      "Train Loss: 0.09060| Valid Loss: 0.54995| Best Loss: 0.54151\n",
      "\n"
     ]
    },
    {
     "name": "stderr",
     "output_type": "stream",
     "text": [
      "Train Epoch 81: 100%|████████████████████████████████████████████████████| 107/107 [00:25<00:00,  4.18it/s, loss=0.091]\n",
      "Valid Epoch 81: 100%|██████████████████████████████████████████████████████| 27/27 [00:02<00:00,  9.89it/s, loss=0.546]\n"
     ]
    },
    {
     "name": "stdout",
     "output_type": "stream",
     "text": [
      "Train Loss: 0.08968| Valid Loss: 0.55209| Best Loss: 0.54151\n",
      "\n"
     ]
    },
    {
     "name": "stderr",
     "output_type": "stream",
     "text": [
      "Train Epoch 82: 100%|████████████████████████████████████████████████████| 107/107 [00:25<00:00,  4.13it/s, loss=0.088]\n",
      "Valid Epoch 82: 100%|██████████████████████████████████████████████████████| 27/27 [00:02<00:00,  9.90it/s, loss=0.539]\n"
     ]
    },
    {
     "name": "stdout",
     "output_type": "stream",
     "text": [
      "Train Loss: 0.08863| Valid Loss: 0.54767| Best Loss: 0.54151\n",
      "\n"
     ]
    },
    {
     "name": "stderr",
     "output_type": "stream",
     "text": [
      "Train Epoch 83: 100%|████████████████████████████████████████████████████| 107/107 [00:25<00:00,  4.18it/s, loss=0.090]\n",
      "Valid Epoch 83: 100%|██████████████████████████████████████████████████████| 27/27 [00:02<00:00,  9.89it/s, loss=0.529]\n"
     ]
    },
    {
     "name": "stdout",
     "output_type": "stream",
     "text": [
      "Train Loss: 0.08778| Valid Loss: 0.54865| Best Loss: 0.54151\n",
      "\n"
     ]
    },
    {
     "name": "stderr",
     "output_type": "stream",
     "text": [
      "Train Epoch 84: 100%|████████████████████████████████████████████████████| 107/107 [00:25<00:00,  4.18it/s, loss=0.088]\n",
      "Valid Epoch 84: 100%|██████████████████████████████████████████████████████| 27/27 [00:02<00:00,  9.89it/s, loss=0.522]\n"
     ]
    },
    {
     "name": "stdout",
     "output_type": "stream",
     "text": [
      "Train Loss: 0.08692| Valid Loss: 0.54780| Best Loss: 0.54151\n",
      "\n"
     ]
    },
    {
     "name": "stderr",
     "output_type": "stream",
     "text": [
      "Train Epoch 85: 100%|████████████████████████████████████████████████████| 107/107 [00:25<00:00,  4.13it/s, loss=0.085]\n",
      "Valid Epoch 85: 100%|██████████████████████████████████████████████████████| 27/27 [00:02<00:00,  9.87it/s, loss=0.545]\n"
     ]
    },
    {
     "name": "stdout",
     "output_type": "stream",
     "text": [
      "Train Loss: 0.08609| Valid Loss: 0.54855| Best Loss: 0.54151\n",
      "\n"
     ]
    },
    {
     "name": "stderr",
     "output_type": "stream",
     "text": [
      "Train Epoch 86: 100%|████████████████████████████████████████████████████| 107/107 [00:25<00:00,  4.16it/s, loss=0.074]\n",
      "Valid Epoch 86: 100%|██████████████████████████████████████████████████████| 27/27 [00:02<00:00,  9.91it/s, loss=0.542]\n"
     ]
    },
    {
     "name": "stdout",
     "output_type": "stream",
     "text": [
      "Train Loss: 0.08512| Valid Loss: 0.54929| Best Loss: 0.54151\n",
      "\n"
     ]
    },
    {
     "name": "stderr",
     "output_type": "stream",
     "text": [
      "Train Epoch 87: 100%|████████████████████████████████████████████████████| 107/107 [00:25<00:00,  4.18it/s, loss=0.087]\n",
      "Valid Epoch 87: 100%|██████████████████████████████████████████████████████| 27/27 [00:03<00:00,  8.95it/s, loss=0.570]\n"
     ]
    },
    {
     "name": "stdout",
     "output_type": "stream",
     "text": [
      "Train Loss: 0.08440| Valid Loss: 0.55161| Best Loss: 0.54151\n",
      "\n"
     ]
    },
    {
     "name": "stderr",
     "output_type": "stream",
     "text": [
      "Train Epoch 88: 100%|████████████████████████████████████████████████████| 107/107 [00:25<00:00,  4.19it/s, loss=0.086]\n",
      "Valid Epoch 88: 100%|██████████████████████████████████████████████████████| 27/27 [00:02<00:00,  9.91it/s, loss=0.580]\n"
     ]
    },
    {
     "name": "stdout",
     "output_type": "stream",
     "text": [
      "------------------------------------\n",
      "|Model can't improve, stop training|\n",
      "------------------------------------\n"
     ]
    },
    {
     "data": {
      "image/png": "[encoded data removed]",
      "text/plain": [
       "<Figure size 640x480 with 1 Axes>"
      ]
     },
     "metadata": {},
     "output_type": "display_data"
    }
   ],
   "source": [
    "epochs = 100                             # 訓練次數\n",
    "early_stopping = 10                      # 模型訓練幾次沒進步就停止\n",
    "stop_cnt = 0                             # 計數模型是否有進步的計數器\n",
    "model_path = 'model.ckpt'                # 模型存放路徑\n",
    "show_loss = True                         # 是否顯示訓練折線圖\n",
    "best_loss = float('inf')                 # 最佳的Loss\n",
    "loss_record = {'train':[], 'valid':[]}   # 訓練紀錄\n",
    "\n",
    "for epoch in range(epochs):   \n",
    "    train_loss = train(epoch)\n",
    "    valid_loss = valid(epoch)\n",
    "    \n",
    "    loss_record['train'].append(train_loss)\n",
    "    loss_record['valid'].append(valid_loss)\n",
    "    \n",
    "    # 儲存最佳的模型權重\n",
    "    if valid_loss < best_loss:\n",
    "        best_loss = valid_loss\n",
    "        torch.save(encoder.state_dict(), 'e' + model_path)\n",
    "        torch.save(decoder.state_dict(), 'd' + model_path)\n",
    "        print(f'Saving Model With Loss {best_loss:.5f}')\n",
    "        stop_cnt = 0\n",
    "    else:\n",
    "        stop_cnt+=1\n",
    "    \n",
    "    # Early stopping\n",
    "    if stop_cnt == early_stopping:\n",
    "        output = \"Model can't improve, stop training\"\n",
    "        print('-' * (len(output)+2))\n",
    "        print(f'|{output}|')\n",
    "        print('-' * (len(output)+2))\n",
    "        break\n",
    "\n",
    "    print(f'Train Loss: {train_loss:.5f}' , end='| ')\n",
    "    print(f'Valid Loss: {valid_loss:.5f}' , end='| ')\n",
    "    print(f'Best Loss: {best_loss:.5f}', end='\\n\\n')\n",
    "\n",
    "\n",
    "if show_loss:\n",
    "    show_training_loss(loss_record)"
   ]
  },
  {
   "cell_type": "code",
   "execution_count": 19,
   "id": "67fcb391",
   "metadata": {},
   "outputs": [
    {
     "name": "stdout",
     "output_type": "stream",
     "text": [
      "EN: she went shopping with him last monday . <EOS>\n",
      "FR: Elle est partie faire des courses avec lui , un jour .\n"
     ]
    }
   ],
   "source": [
    "encoder = EncoderRNN(input_size = INPUT_DIM, hidden_size = 128).to(device)\n",
    "decoder = AttnDecoderRNN(hidden_size = 128, output_size = OUTPUT_DIM).to(device)\n",
    "encoder.load_state_dict(torch.load('e' + model_path))\n",
    "decoder.load_state_dict(torch.load('d' + model_path))\n",
    "\n",
    "input_tensor = x_valid[0].to(device)\n",
    "with torch.no_grad():\n",
    "    encoder_outputs, encoder_hidden = encoder(input_tensor.unsqueeze(0))\n",
    "    decoder_outputs, decoder_hidden, decoder_attn = decoder(encoder_outputs, encoder_hidden)\n",
    "    \n",
    "    _, topi = decoder_outputs.topk(1)\n",
    "    decoded_ids = topi.squeeze()\n",
    "\n",
    "    decoded_words = []\n",
    "    for idx in decoded_ids:\n",
    "        if idx.item() == EOS_IDX:\n",
    "            break\n",
    "        decoded_words.append(idx)\n",
    "encoder_text = \" \".join([en_vocab.lookup_token(i) for i in input_tensor if i!= PAD_IDX])\n",
    "decoder_text = \" \".join([fr_vocab.lookup_token(i) for i in decoded_words])\n",
    "print(\"EN:\", encoder_text)\n",
    "print(\"FR:\", decoder_text)"
   ]
  },
  {
   "cell_type": "code",
   "execution_count": 37,
   "id": "35080dde-1dd5-45c2-ac62-7fd374957af2",
   "metadata": {
    "scrolled": true
   },
   "outputs": [
    {
     "name": "stderr",
     "output_type": "stream",
     "text": [
      "C:\\Users\\user\\AppData\\Local\\Temp\\ipykernel_17060\\2325208752.py:10: UserWarning: FixedFormatter should only be used together with FixedLocator\n",
      "  ax.set_xticklabels([''] + input_sentence.split(' '), rotation=90)\n",
      "C:\\Users\\user\\AppData\\Local\\Temp\\ipykernel_17060\\2325208752.py:11: UserWarning: FixedFormatter should only be used together with FixedLocator\n",
      "  ax.set_yticklabels([''] + output_words.split(' '))\n"
     ]
    },
    {
     "data": {
      "image/png": "[encoded data removed]",
      "text/plain": [
       "<Figure size 640x480 with 2 Axes>"
      ]
     },
     "metadata": {},
     "output_type": "display_data"
    }
   ],
   "source": [
    "import matplotlib.ticker as ticker\n",
    "\n",
    "def showAttention(input_sentence, output_words, attentions):\n",
    "    fig = plt.figure()\n",
    "    ax = fig.add_subplot(111)\n",
    "    cax = ax.matshow(attentions.cpu().numpy(), cmap='bone')\n",
    "    fig.colorbar(cax)\n",
    "\n",
    "    # Set up axes\n",
    "    ax.set_xticklabels([''] + input_sentence.split(' '), rotation=90)\n",
    "    ax.set_yticklabels([''] + output_words.split(' '))\n",
    "\n",
    "    # Show label at every tick\n",
    "    ax.xaxis.set_major_locator(ticker.MultipleLocator(1))\n",
    "    ax.yaxis.set_major_locator(ticker.MultipleLocator(1))\n",
    "\n",
    "    plt.show()\n",
    "\n",
    "showAttention(encoder_text, decoder_text, decoder_attn[0,:len(decoded_words),:len(decoded_words)])"
   ]
  },
  {
   "cell_type": "code",
   "execution_count": null,
   "id": "f6ecf567-4b72-46fb-8b39-ec8f35fcc684",
   "metadata": {},
   "outputs": [],
   "source": []
  }
 ],
 "metadata": {
  "kernelspec": {
   "display_name": "Python 3 (ipykernel)",
   "language": "python",
   "name": "python3"
  },
  "language_info": {
   "codemirror_mode": {
    "name": "ipython",
    "version": 3
   },
   "file_extension": ".py",
   "mimetype": "text/x-python",
   "name": "python",
   "nbconvert_exporter": "python",
   "pygments_lexer": "ipython3",
   "version": "3.8.7"
  }
 },
 "nbformat": 4,
 "nbformat_minor": 5
}
